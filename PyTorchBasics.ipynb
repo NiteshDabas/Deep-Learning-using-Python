{
 "cells": [
  {
   "cell_type": "markdown",
   "metadata": {},
   "source": [
    "# PyTorch Basics"
   ]
  },
  {
   "cell_type": "code",
   "execution_count": 1,
   "metadata": {},
   "outputs": [],
   "source": [
    "import matplotlib.pyplot as plt\n",
    "%matplotlib inline\n",
    "import torch\n",
    "import numpy"
   ]
  },
  {
   "cell_type": "code",
   "execution_count": 2,
   "metadata": {},
   "outputs": [
    {
     "data": {
      "text/plain": [
       "'1.6.0'"
      ]
     },
     "execution_count": 2,
     "metadata": {},
     "output_type": "execute_result"
    }
   ],
   "source": [
    "torch.__version__"
   ]
  },
  {
   "cell_type": "markdown",
   "metadata": {},
   "source": [
    "## Tensors"
   ]
  },
  {
   "cell_type": "markdown",
   "metadata": {},
   "source": [
    "Construct a 3x5 matrix, uninitialized:"
   ]
  },
  {
   "cell_type": "code",
   "execution_count": 3,
   "metadata": {},
   "outputs": [],
   "source": [
    "# Sets the default floating point dtype. \n",
    "# This type will be used as default floating point type for type inference in torch.tensor().\n",
    "torch.set_default_tensor_type('torch.FloatTensor') "
   ]
  },
  {
   "cell_type": "code",
   "execution_count": 5,
   "metadata": {},
   "outputs": [
    {
     "name": "stdout",
     "output_type": "stream",
     "text": [
      "tensor([[ 0.0000e+00, -2.0000e+00,  0.0000e+00, -2.0000e+00,  1.5414e-44],\n",
      "        [ 0.0000e+00,  0.0000e+00,  0.0000e+00,  0.0000e+00,  0.0000e+00],\n",
      "        [ 0.0000e+00,  0.0000e+00,  0.0000e+00,  0.0000e+00,  0.0000e+00]])\n"
     ]
    }
   ],
   "source": [
    "x = torch.empty(3,5)\n",
    "print(x)"
   ]
  },
  {
   "cell_type": "code",
   "execution_count": 6,
   "metadata": {},
   "outputs": [
    {
     "name": "stdout",
     "output_type": "stream",
     "text": [
      "torch.FloatTensor\n"
     ]
    }
   ],
   "source": [
    "print(x.type())"
   ]
  },
  {
   "cell_type": "markdown",
   "metadata": {},
   "source": [
    "Initialize a double tensor randomized with a normal distribution with mean=0, var=1:"
   ]
  },
  {
   "cell_type": "code",
   "execution_count": 7,
   "metadata": {},
   "outputs": [
    {
     "name": "stdout",
     "output_type": "stream",
     "text": [
      "tensor([[ 0.0238, -0.0038,  0.8514,  0.0019, -0.1243],\n",
      "        [ 1.0194,  0.8329,  1.2835,  1.0102,  0.5829],\n",
      "        [ 0.9645, -0.4587, -0.7779,  0.4342,  1.4593]], dtype=torch.float64)\n",
      "torch.Size([3, 5])\n"
     ]
    }
   ],
   "source": [
    "x = torch.randn(3, 5, dtype=torch.double)\n",
    "print(x)\n",
    "print(x.size())"
   ]
  },
  {
   "cell_type": "code",
   "execution_count": 8,
   "metadata": {},
   "outputs": [
    {
     "name": "stdout",
     "output_type": "stream",
     "text": [
      "3\n",
      "5\n",
      "True\n"
     ]
    }
   ],
   "source": [
    "print(x.size()[0])\n",
    "print(x.size()[1])\n",
    "print(x.size() == (3,5))"
   ]
  },
  {
   "cell_type": "markdown",
   "metadata": {},
   "source": [
    "Importance of the brackets when defining a tensor"
   ]
  },
  {
   "cell_type": "code",
   "execution_count": 16,
   "metadata": {},
   "outputs": [
    {
     "name": "stdout",
     "output_type": "stream",
     "text": [
      "<class 'torch.Tensor'>\n",
      "torch.float32\n",
      "torch.Size([1])\n",
      "<class 'torch.Tensor'>\n",
      "torch.float32\n",
      "torch.Size([])\n"
     ]
    }
   ],
   "source": [
    "a = torch.tensor([2.0])\n",
    "print(type(a))\n",
    "print(a.dtype)\n",
    "print(a.size())\n",
    "\n",
    "b = torch.tensor(2.0)\n",
    "print(type(b))\n",
    "print(b.dtype)\n",
    "print(b.size())"
   ]
  },
  {
   "cell_type": "markdown",
   "metadata": {},
   "source": [
    "Select some columns"
   ]
  },
  {
   "cell_type": "code",
   "execution_count": 9,
   "metadata": {},
   "outputs": [
    {
     "name": "stdout",
     "output_type": "stream",
     "text": [
      "tensor([False, False, False, False, False])\n",
      "tensor([False,  True, False, False,  True])\n",
      "tensor([[-0.0038, -0.1243],\n",
      "        [ 0.8329,  0.5829],\n",
      "        [-0.4587,  1.4593]], dtype=torch.float64)\n"
     ]
    }
   ],
   "source": [
    "cols = torch.zeros(5, dtype=torch.bool)\n",
    "print(cols)\n",
    "cols[1] = True\n",
    "cols[4] = True\n",
    "print(cols)\n",
    "c = x[:, cols]  # selects all rows, 4th column and  5th column from a\n",
    "print(c)"
   ]
  },
  {
   "cell_type": "markdown",
   "metadata": {},
   "source": [
    "All operations on the tensor that operate in-place on it will have an _ postfix. "
   ]
  },
  {
   "cell_type": "code",
   "execution_count": 20,
   "metadata": {},
   "outputs": [
    {
     "name": "stdout",
     "output_type": "stream",
     "text": [
      "tensor([[3.5000, 3.5000, 3.5000, 3.5000, 3.5000],\n",
      "        [3.5000, 3.5000, 3.5000, 3.5000, 3.5000],\n",
      "        [3.5000, 3.5000, 3.5000, 3.5000, 3.5000]], dtype=torch.float64)\n"
     ]
    }
   ],
   "source": [
    "# x will be filled with the value 3.5\n",
    "x.fill_(3.5)\n",
    "print(x)"
   ]
  },
  {
   "cell_type": "markdown",
   "metadata": {},
   "source": [
    "Torch & Numpy conversions"
   ]
  },
  {
   "cell_type": "code",
   "execution_count": 23,
   "metadata": {},
   "outputs": [
    {
     "name": "stdout",
     "output_type": "stream",
     "text": [
      "[[3.5 3.5 3.5 3.5 3.5]\n",
      " [3.5 3.5 3.5 3.5 3.5]\n",
      " [3.5 3.5 3.5 3.5 3.5]]\n"
     ]
    }
   ],
   "source": [
    "import numpy as np\n",
    "y = x.numpy()\n",
    "print(y)"
   ]
  },
  {
   "cell_type": "code",
   "execution_count": 24,
   "metadata": {},
   "outputs": [
    {
     "name": "stdout",
     "output_type": "stream",
     "text": [
      "tensor([1., 1., 1., 1., 1.], dtype=torch.float64)\n"
     ]
    }
   ],
   "source": [
    "a = np.ones(5)\n",
    "b = torch.from_numpy(a)\n",
    "print(b)"
   ]
  },
  {
   "cell_type": "code",
   "execution_count": 25,
   "metadata": {},
   "outputs": [
    {
     "name": "stdout",
     "output_type": "stream",
     "text": [
      "tensor([[ 0.0701, -0.2595, -1.8817,  0.0131,  1.7632],\n",
      "        [ 0.7533, -1.2207, -0.4117, -0.1789, -0.1392],\n",
      "        [-0.9893,  0.5541, -1.3366, -0.9089,  0.4074]])\n",
      "tensor([1, 1, 1, 1, 1])\n",
      "int64\n",
      "torch.int64\n",
      "torch.float32\n"
     ]
    }
   ],
   "source": [
    "xr = torch.randn(3, 5)\n",
    "a = np.ones(5).astype(int)\n",
    "b = torch.from_numpy(a)\n",
    "print(xr)\n",
    "print(b)\n",
    "print(a.dtype) # Array or tensor data type\n",
    "print(b.dtype)\n",
    "print(xr.dtype)"
   ]
  },
  {
   "cell_type": "markdown",
   "metadata": {},
   "source": [
    "## Operations - Tensors"
   ]
  },
  {
   "cell_type": "code",
   "execution_count": 31,
   "metadata": {},
   "outputs": [
    {
     "name": "stdout",
     "output_type": "stream",
     "text": [
      "tensor([[1.1009, 1.0584, 1.4767],\n",
      "        [0.4774, 0.9547, 1.5444],\n",
      "        [0.7884, 1.0477, 0.8053],\n",
      "        [1.2928, 1.2144, 1.0286],\n",
      "        [0.5520, 0.9339, 1.6059]])\n",
      "tensor([[1.1009, 1.0584, 1.4767],\n",
      "        [0.4774, 0.9547, 1.5444],\n",
      "        [0.7884, 1.0477, 0.8053],\n",
      "        [1.2928, 1.2144, 1.0286],\n",
      "        [0.5520, 0.9339, 1.6059]])\n",
      "tensor([[1.1009, 1.0584, 1.4767],\n",
      "        [0.4774, 0.9547, 1.5444],\n",
      "        [0.7884, 1.0477, 0.8053],\n",
      "        [1.2928, 1.2144, 1.0286],\n",
      "        [0.5520, 0.9339, 1.6059]])\n"
     ]
    }
   ],
   "source": [
    "#Addition\n",
    "\n",
    "x = torch.rand(5, 3) \n",
    "y = torch.rand(5, 3)\n",
    "print(x + y)\n",
    "#OR\n",
    "print(torch.add(x, y))\n",
    "#OR\n",
    "result = torch.empty(5, 3)\n",
    "torch.add(x, y, out=result)\n",
    "print(result)"
   ]
  },
  {
   "cell_type": "code",
   "execution_count": 32,
   "metadata": {},
   "outputs": [
    {
     "name": "stdout",
     "output_type": "stream",
     "text": [
      "tensor([[1.1009, 1.0584, 1.4767],\n",
      "        [0.4774, 0.9547, 1.5444],\n",
      "        [0.7884, 1.0477, 0.8053],\n",
      "        [1.2928, 1.2144, 1.0286],\n",
      "        [0.5520, 0.9339, 1.6059]])\n"
     ]
    }
   ],
   "source": [
    "#Addition: in-place\n",
    "\n",
    "# adds x to y\n",
    "y.add_(x)\n",
    "print(y)"
   ]
  },
  {
   "cell_type": "code",
   "execution_count": 33,
   "metadata": {},
   "outputs": [
    {
     "name": "stdout",
     "output_type": "stream",
     "text": [
      "tensor([[0.4973, 0.3622, 0.0279, 0.3841, 0.1750],\n",
      "        [0.7092, 0.2163, 0.4560, 0.9153, 0.5650],\n",
      "        [0.6129, 0.7086, 0.7674, 0.8668, 0.6114]])\n",
      "tensor([[0.4973, 0.7092, 0.6129],\n",
      "        [0.3622, 0.2163, 0.7086],\n",
      "        [0.0279, 0.4560, 0.7674],\n",
      "        [0.3841, 0.9153, 0.8668],\n",
      "        [0.1750, 0.5650, 0.6114]])\n",
      "tensor([0.7092, 0.2163, 0.4560, 0.9153, 0.5650])\n"
     ]
    }
   ],
   "source": [
    "print(x.t())\n",
    "print(x)\n",
    "print(x[:, 1])"
   ]
  },
  {
   "cell_type": "code",
   "execution_count": 34,
   "metadata": {},
   "outputs": [
    {
     "name": "stdout",
     "output_type": "stream",
     "text": [
      "torch.Size([4, 4]) torch.Size([16]) torch.Size([2, 8])\n"
     ]
    }
   ],
   "source": [
    "#resizing a tensor\n",
    "\n",
    "x = torch.randn(4, 4)\n",
    "y = x.view(16)\n",
    "z = x.view(-1, 8)  # the size -1 is inferred from other dimensions\n",
    "print(x.size(), y.size(), z.size())"
   ]
  },
  {
   "cell_type": "code",
   "execution_count": 35,
   "metadata": {},
   "outputs": [
    {
     "name": "stdout",
     "output_type": "stream",
     "text": [
      "tensor([-0.6595])\n",
      "-0.6594548225402832\n"
     ]
    }
   ],
   "source": [
    "x = torch.randn(1)\n",
    "print(x)\n",
    "print(x.item())"
   ]
  },
  {
   "cell_type": "markdown",
   "metadata": {},
   "source": [
    "## 3D Tensors"
   ]
  },
  {
   "cell_type": "code",
   "execution_count": 36,
   "metadata": {},
   "outputs": [
    {
     "name": "stdout",
     "output_type": "stream",
     "text": [
      "tensor([[[1, 2, 3],\n",
      "         [4, 5, 6]],\n",
      "\n",
      "        [[1, 2, 3],\n",
      "         [4, 5, 6]],\n",
      "\n",
      "        [[1, 2, 3],\n",
      "         [4, 5, 6]]])\n",
      "torch.Size([3, 2, 3])\n"
     ]
    }
   ],
   "source": [
    "y = torch.tensor([\n",
    "     [\n",
    "       [1, 2, 3],\n",
    "       [4, 5, 6]\n",
    "     ],\n",
    "     [\n",
    "       [1, 2, 3],\n",
    "       [4, 5, 6]\n",
    "     ],\n",
    "     [\n",
    "       [1, 2, 3],\n",
    "       [4, 5, 6]\n",
    "     ]\n",
    "   ])\n",
    "print(y)\n",
    "print(y.shape)"
   ]
  },
  {
   "cell_type": "code",
   "execution_count": 37,
   "metadata": {},
   "outputs": [
    {
     "data": {
      "text/plain": [
       "tensor([[ 3,  6,  9],\n",
       "        [12, 15, 18]])"
      ]
     },
     "execution_count": 37,
     "metadata": {},
     "output_type": "execute_result"
    }
   ],
   "source": [
    "torch.sum(y, dim=0)"
   ]
  },
  {
   "cell_type": "markdown",
   "metadata": {},
   "source": [
    "## PyTorch Broadcasting semantics"
   ]
  },
  {
   "cell_type": "code",
   "execution_count": 39,
   "metadata": {},
   "outputs": [
    {
     "name": "stdout",
     "output_type": "stream",
     "text": [
      "torch.Size([5, 3, 4, 1])\n"
     ]
    }
   ],
   "source": [
    "# can line up trailing dimensions to make reading easier\n",
    "x=torch.empty(5,1,4,1)\n",
    "y=torch.empty(  3,1,1)\n",
    "print((x+y).size())"
   ]
  },
  {
   "cell_type": "code",
   "execution_count": 40,
   "metadata": {},
   "outputs": [
    {
     "name": "stdout",
     "output_type": "stream",
     "text": [
      "torch.Size([3, 1, 7])\n"
     ]
    }
   ],
   "source": [
    "# but not necessary:\n",
    "x=torch.empty(1)\n",
    "y=torch.empty(3,1,7)\n",
    "print((x+y).size())"
   ]
  },
  {
   "cell_type": "code",
   "execution_count": 41,
   "metadata": {},
   "outputs": [
    {
     "ename": "RuntimeError",
     "evalue": "The size of tensor a (2) must match the size of tensor b (3) at non-singleton dimension 1",
     "output_type": "error",
     "traceback": [
      "\u001b[0;31m---------------------------------------------------------------------------\u001b[0m",
      "\u001b[0;31mRuntimeError\u001b[0m                              Traceback (most recent call last)",
      "\u001b[0;32m<ipython-input-41-f7fa2132ccc1>\u001b[0m in \u001b[0;36m<module>\u001b[0;34m\u001b[0m\n\u001b[1;32m      2\u001b[0m \u001b[0mx\u001b[0m\u001b[0;34m=\u001b[0m\u001b[0mtorch\u001b[0m\u001b[0;34m.\u001b[0m\u001b[0mempty\u001b[0m\u001b[0;34m(\u001b[0m\u001b[0;36m5\u001b[0m\u001b[0;34m,\u001b[0m\u001b[0;36m2\u001b[0m\u001b[0;34m,\u001b[0m\u001b[0;36m4\u001b[0m\u001b[0;34m,\u001b[0m\u001b[0;36m1\u001b[0m\u001b[0;34m)\u001b[0m\u001b[0;34m\u001b[0m\u001b[0;34m\u001b[0m\u001b[0m\n\u001b[1;32m      3\u001b[0m \u001b[0my\u001b[0m\u001b[0;34m=\u001b[0m\u001b[0mtorch\u001b[0m\u001b[0;34m.\u001b[0m\u001b[0mempty\u001b[0m\u001b[0;34m(\u001b[0m  \u001b[0;36m3\u001b[0m\u001b[0;34m,\u001b[0m\u001b[0;36m1\u001b[0m\u001b[0;34m,\u001b[0m\u001b[0;36m1\u001b[0m\u001b[0;34m)\u001b[0m\u001b[0;34m\u001b[0m\u001b[0;34m\u001b[0m\u001b[0m\n\u001b[0;32m----> 4\u001b[0;31m \u001b[0mprint\u001b[0m\u001b[0;34m(\u001b[0m\u001b[0;34m(\u001b[0m\u001b[0mx\u001b[0m\u001b[0;34m+\u001b[0m\u001b[0my\u001b[0m\u001b[0;34m)\u001b[0m\u001b[0;34m.\u001b[0m\u001b[0msize\u001b[0m\u001b[0;34m(\u001b[0m\u001b[0;34m)\u001b[0m\u001b[0;34m)\u001b[0m\u001b[0;34m\u001b[0m\u001b[0;34m\u001b[0m\u001b[0m\n\u001b[0m",
      "\u001b[0;31mRuntimeError\u001b[0m: The size of tensor a (2) must match the size of tensor b (3) at non-singleton dimension 1"
     ]
    }
   ],
   "source": [
    "#The following command doesnt work tough\n",
    "x=torch.empty(5,2,4,1)\n",
    "y=torch.empty(  3,1,1)\n",
    "print((x+y).size())"
   ]
  },
  {
   "cell_type": "code",
   "execution_count": 42,
   "metadata": {},
   "outputs": [
    {
     "name": "stdout",
     "output_type": "stream",
     "text": [
      "tensor([[[3., 3., 3., 3.],\n",
      "         [3., 3., 3., 3.]],\n",
      "\n",
      "        [[3., 3., 3., 3.],\n",
      "         [3., 3., 3., 3.]],\n",
      "\n",
      "        [[3., 3., 3., 3.],\n",
      "         [3., 3., 3., 3.]]])\n"
     ]
    }
   ],
   "source": [
    "x=2*torch.ones(  2,4)\n",
    "y=torch.ones(3,2,4)\n",
    "print(x+y)"
   ]
  },
  {
   "cell_type": "code",
   "execution_count": 43,
   "metadata": {},
   "outputs": [
    {
     "name": "stdout",
     "output_type": "stream",
     "text": [
      "tensor([[0., 0., 0., 0., 0.],\n",
      "        [0., 0., 0., 0., 0.],\n",
      "        [0., 0., 0., 0., 0.]])\n",
      "tensor([[ 0.0701, -0.2595, -1.8817,  0.0131,  1.7632],\n",
      "        [ 0.7533, -1.2207, -0.4117, -0.1789, -0.1392],\n",
      "        [-0.9893,  0.5541, -1.3366, -0.9089,  0.4074]])\n"
     ]
    }
   ],
   "source": [
    "#What is the diffence between \"x = xr\" and \"x = xr.clone()\"?\n",
    "x = xr.clone()\n",
    "x.add_(-xr)\n",
    "print(x)\n",
    "print(xr)"
   ]
  },
  {
   "cell_type": "code",
   "execution_count": 44,
   "metadata": {},
   "outputs": [
    {
     "name": "stdout",
     "output_type": "stream",
     "text": [
      "tensor([[1., 1., 1., 1.],\n",
      "        [1., 1., 1., 1.]])\n",
      "[[1. 1. 1. 1.]\n",
      " [1. 1. 1. 1.]]\n"
     ]
    }
   ],
   "source": [
    "#Also be careful, changing the torch tensor modify the numpy array and vice-versa...\n",
    "y=torch.ones(2,4)\n",
    "print(y)\n",
    "z = y.numpy()\n",
    "print(z)"
   ]
  },
  {
   "cell_type": "code",
   "execution_count": 45,
   "metadata": {},
   "outputs": [
    {
     "name": "stdout",
     "output_type": "stream",
     "text": [
      "z= [[2. 2. 2. 2.]\n",
      " [2. 2. 2. 2.]]\n",
      "y= tensor([[2., 2., 2., 2.],\n",
      "        [2., 2., 2., 2.]]) \n",
      "\n",
      "z= [[-2. -2. -2. -2.]\n",
      " [-2. -2. -2. -2.]]\n",
      "y= tensor([[-2., -2., -2., -2.],\n",
      "        [-2., -2., -2., -2.]])\n"
     ]
    }
   ],
   "source": [
    "np.add(z, 1, out=z)\n",
    "print(\"z=\", z)\n",
    "print(\"y=\", y,\"\\n\")\n",
    "torch.add(y, -4, out=y)\n",
    "print(\"z=\",z)\n",
    "print(\"y=\",y)"
   ]
  },
  {
   "cell_type": "markdown",
   "metadata": {},
   "source": [
    "## Computational graphs"
   ]
  },
  {
   "cell_type": "markdown",
   "metadata": {},
   "source": [
    "import matplotlib.pyplot as plt\n",
    "%matplotlib inline\n",
    "import torch"
   ]
  },
  {
   "cell_type": "code",
   "execution_count": 11,
   "metadata": {},
   "outputs": [
    {
     "name": "stdout",
     "output_type": "stream",
     "text": [
      "Collecting torchviz\n",
      "  Downloading torchviz-0.0.1.tar.gz (41 kB)\n",
      "\u001b[K     |████████████████████████████████| 41 kB 195 kB/s eta 0:00:01\n",
      "\u001b[?25hRequirement already satisfied: torch in /Users/dabasn/.local/lib/python3.7/site-packages (from torchviz) (1.6.0)\n",
      "Collecting graphviz\n",
      "  Downloading graphviz-0.14.2-py2.py3-none-any.whl (18 kB)\n",
      "Requirement already satisfied: future in /Users/dabasn/opt/anaconda3/lib/python3.7/site-packages (from torch->torchviz) (0.18.2)\n",
      "Requirement already satisfied: numpy in /Users/dabasn/opt/anaconda3/lib/python3.7/site-packages (from torch->torchviz) (1.18.5)\n",
      "Building wheels for collected packages: torchviz\n",
      "  Building wheel for torchviz (setup.py) ... \u001b[?25ldone\n",
      "\u001b[?25h  Created wheel for torchviz: filename=torchviz-0.0.1-py3-none-any.whl size=3521 sha256=6e43381ad723280ed0aacd799b43a816233b32f64d10b4612fabcf46b29f2a6a\n",
      "  Stored in directory: /Users/dabasn/Library/Caches/pip/wheels/10/7b/c8/3af79ec02e294a832c01037bcb38302bbcee0bb020dcbbbd3e\n",
      "Successfully built torchviz\n",
      "Installing collected packages: graphviz, torchviz\n",
      "Successfully installed graphviz-0.14.2 torchviz-0.0.1\n"
     ]
    }
   ],
   "source": [
    "!pip install torchviz"
   ]
  },
  {
   "cell_type": "code",
   "execution_count": 14,
   "metadata": {},
   "outputs": [],
   "source": [
    "import torchviz"
   ]
  },
  {
   "cell_type": "code",
   "execution_count": 19,
   "metadata": {},
   "outputs": [
    {
     "name": "stdout",
     "output_type": "stream",
     "text": [
      "tensor([[1., 1.],\n",
      "        [1., 1.]], requires_grad=True)\n",
      "tensor([[0.1335]], requires_grad=True)\n",
      "tensor([[2.1335, 2.1335],\n",
      "        [2.1335, 2.1335]], grad_fn=<AddBackward0>)\n"
     ]
    },
    {
     "data": {
      "image/svg+xml": [
       "<?xml version=\"1.0\" encoding=\"UTF-8\" standalone=\"no\"?>\n",
       "<!DOCTYPE svg PUBLIC \"-//W3C//DTD SVG 1.1//EN\"\n",
       " \"http://www.w3.org/Graphics/SVG/1.1/DTD/svg11.dtd\">\n",
       "<!-- Generated by graphviz version 2.44.1 (20200629.0846)\n",
       " -->\n",
       "<!-- Pages: 1 -->\n",
       "<svg width=\"134pt\" height=\"157pt\"\n",
       " viewBox=\"0.00 0.00 134.00 157.00\" xmlns=\"http://www.w3.org/2000/svg\" xmlns:xlink=\"http://www.w3.org/1999/xlink\">\n",
       "<g id=\"graph0\" class=\"graph\" transform=\"scale(1 1) rotate(0) translate(4 153)\">\n",
       "<polygon fill=\"white\" stroke=\"transparent\" points=\"-4,4 -4,-153 130,-153 130,4 -4,4\"/>\n",
       "<!-- 140407704335056 -->\n",
       "<g id=\"node1\" class=\"node\">\n",
       "<title>140407704335056</title>\n",
       "<polygon fill=\"#caff70\" stroke=\"black\" points=\"109,-21 17,-21 17,0 109,0 109,-21\"/>\n",
       "<text text-anchor=\"middle\" x=\"63\" y=\"-7.4\" font-family=\"Times,serif\" font-size=\"12.00\">AddBackward0</text>\n",
       "</g>\n",
       "<!-- 140407704336912 -->\n",
       "<g id=\"node2\" class=\"node\">\n",
       "<title>140407704336912</title>\n",
       "<polygon fill=\"lightgrey\" stroke=\"black\" points=\"108.5,-78 17.5,-78 17.5,-57 108.5,-57 108.5,-78\"/>\n",
       "<text text-anchor=\"middle\" x=\"63\" y=\"-64.4\" font-family=\"Times,serif\" font-size=\"12.00\">MulBackward0</text>\n",
       "</g>\n",
       "<!-- 140407704336912&#45;&gt;140407704335056 -->\n",
       "<g id=\"edge1\" class=\"edge\">\n",
       "<title>140407704336912&#45;&gt;140407704335056</title>\n",
       "<path fill=\"none\" stroke=\"black\" d=\"M63,-56.92C63,-49.91 63,-40.14 63,-31.47\"/>\n",
       "<polygon fill=\"black\" stroke=\"black\" points=\"66.5,-31.34 63,-21.34 59.5,-31.34 66.5,-31.34\"/>\n",
       "</g>\n",
       "<!-- 140407704377360 -->\n",
       "<g id=\"node3\" class=\"node\">\n",
       "<title>140407704377360</title>\n",
       "<polygon fill=\"lightblue\" stroke=\"black\" points=\"54,-149 0,-149 0,-114 54,-114 54,-149\"/>\n",
       "<text text-anchor=\"middle\" x=\"27\" y=\"-121.4\" font-family=\"Times,serif\" font-size=\"12.00\"> (1, 1)</text>\n",
       "</g>\n",
       "<!-- 140407704377360&#45;&gt;140407704336912 -->\n",
       "<g id=\"edge2\" class=\"edge\">\n",
       "<title>140407704377360&#45;&gt;140407704336912</title>\n",
       "<path fill=\"none\" stroke=\"black\" d=\"M36.65,-113.89C41.49,-105.55 47.37,-95.42 52.34,-86.85\"/>\n",
       "<polygon fill=\"black\" stroke=\"black\" points=\"55.48,-88.42 57.47,-78.02 49.43,-84.91 55.48,-88.42\"/>\n",
       "</g>\n",
       "<!-- 140407704377808 -->\n",
       "<g id=\"node4\" class=\"node\">\n",
       "<title>140407704377808</title>\n",
       "<polygon fill=\"lightblue\" stroke=\"black\" points=\"126,-149 72,-149 72,-114 126,-114 126,-149\"/>\n",
       "<text text-anchor=\"middle\" x=\"99\" y=\"-121.4\" font-family=\"Times,serif\" font-size=\"12.00\"> (2, 2)</text>\n",
       "</g>\n",
       "<!-- 140407704377808&#45;&gt;140407704336912 -->\n",
       "<g id=\"edge3\" class=\"edge\">\n",
       "<title>140407704377808&#45;&gt;140407704336912</title>\n",
       "<path fill=\"none\" stroke=\"black\" d=\"M89.35,-113.89C84.51,-105.55 78.63,-95.42 73.66,-86.85\"/>\n",
       "<polygon fill=\"black\" stroke=\"black\" points=\"76.57,-84.91 68.53,-78.02 70.52,-88.42 76.57,-84.91\"/>\n",
       "</g>\n",
       "</g>\n",
       "</svg>\n"
      ],
      "text/plain": [
       "<graphviz.dot.Digraph at 0x7fb33757d8d0>"
      ]
     },
     "execution_count": 19,
     "metadata": {},
     "output_type": "execute_result"
    }
   ],
   "source": [
    "x = torch.ones(2, 2, requires_grad=True)\n",
    "w = torch.rand(1, 1, requires_grad=True)\n",
    "print(x)\n",
    "print(w)\n",
    "y = w * x + 2\n",
    "print(y)\n",
    "torchviz.make_dot(y)"
   ]
  },
  {
   "cell_type": "markdown",
   "metadata": {},
   "source": [
    "## Pyorch: linear regression"
   ]
  },
  {
   "cell_type": "code",
   "execution_count": 20,
   "metadata": {},
   "outputs": [],
   "source": [
    "#plotting the surface\n",
    "import matplotlib.pyplot as plt\n",
    "import numpy as np\n",
    "from mpl_toolkits.mplot3d import Axes3D\n",
    "\n",
    "def plot_figs(fig_num, elev, azim, x, y, weights, bias):\n",
    "    fig = plt.figure(fig_num, figsize=(4, 3))\n",
    "    plt.clf()\n",
    "    ax = Axes3D(fig, elev=elev, azim=azim)\n",
    "    ax.scatter(x[:, 0], x[:, 1], y)\n",
    "    ax.plot_surface(np.array([[0, 0], [1, 1]]),\n",
    "                    np.array([[0, 1], [0, 1]]),\n",
    "                    (np.dot(np.array([[0, 0, 1, 1],\n",
    "                                          [0, 1, 0, 1]]).T, weights) + bias).reshape((2, 2)),\n",
    "                    alpha=.5)\n",
    "    ax.set_xlabel('x_1')\n",
    "    ax.set_ylabel('x_2')\n",
    "    ax.set_zlabel('y')\n",
    "    \n",
    "def plot_views(x, y, w, b):\n",
    "    # Generate the different figures from different views\n",
    "    elev = 43.5\n",
    "    azim = -110\n",
    "    plot_figs(1, elev, azim, x, y, w, b[0])\n",
    "\n",
    "    plt.show()"
   ]
  },
  {
   "cell_type": "code",
   "execution_count": 21,
   "metadata": {},
   "outputs": [
    {
     "name": "stdout",
     "output_type": "stream",
     "text": [
      "torch.Size([30, 2])\n",
      "torch.Size([2, 1])\n",
      "torch.Size([1])\n",
      "torch.Size([30, 1])\n"
     ]
    }
   ],
   "source": [
    "#generating the 2D points\n",
    "w_source = torch.tensor([2., -3.], dtype=torch.float).view(-1,1)\n",
    "b_source  = torch.tensor([1.], dtype=torch.float)\n",
    "\n",
    "x = torch.empty(30, 2).uniform_(0, 1) # input of the regression model\n",
    "\n",
    "print(x.shape)\n",
    "print(w_source.shape)\n",
    "print(b_source.shape)\n",
    "\n",
    "y = torch.matmul(x,w_source)+b_source # output of the regression model\n",
    "print(y.shape)"
   ]
  },
  {
   "cell_type": "code",
   "execution_count": 22,
   "metadata": {},
   "outputs": [
    {
     "data": {
      "image/png": "[encoded data removed]",
      "text/plain": [
       "<Figure size 288x216 with 1 Axes>"
      ]
     },
     "metadata": {
      "needs_background": "light"
     },
     "output_type": "display_data"
    }
   ],
   "source": [
    "#plot the dataset\n",
    "plot_views(x.numpy(), y.numpy(), w_source.numpy(), b_source.numpy())"
   ]
  },
  {
   "cell_type": "code",
   "execution_count": 23,
   "metadata": {},
   "outputs": [
    {
     "name": "stdout",
     "output_type": "stream",
     "text": [
      "Initial values of the parameters:\n",
      "tensor([[-0.3215],\n",
      "        [ 0.6349]])\n",
      "tensor([[0.1253]])\n"
     ]
    }
   ],
   "source": [
    "# randomly initialize learnable weights and bias\n",
    "w_t_init = torch.empty(2, 1).uniform_(-1, 1) \n",
    "b_t_init = torch.empty(1, 1).uniform_(-1, 1)\n",
    "\n",
    "print(\"Initial values of the parameters:\")\n",
    "print(w_t_init) \n",
    "print(b_t_init)"
   ]
  },
  {
   "cell_type": "markdown",
   "metadata": {},
   "source": [
    "### Optimization/model performance metrics"
   ]
  },
  {
   "cell_type": "code",
   "execution_count": 24,
   "metadata": {},
   "outputs": [],
   "source": [
    "#calculate the gradient of the loss\n",
    "\n",
    "# our model forward pass\n",
    "def forward_t(x):\n",
    "    return x.mm(w_t)+b_t\n",
    "\n",
    "# Loss function\n",
    "def loss_t(x, y):\n",
    "    y_pred = forward_t(x)\n",
    "    return (y_pred - y).pow(2).sum()\n",
    "\n",
    "# compute gradient\n",
    "def gradient_t(x, y):  # d_loss/d_w, d_loss/d_c\n",
    "    return 2*torch.mm(torch.t(x),x.mm(w_t)+b_t - y), 2 * (x.mm(w_t)+b_t - y).sum()"
   ]
  },
  {
   "cell_type": "markdown",
   "metadata": {},
   "source": [
    "## Pyorch: gradient descent algorithm"
   ]
  },
  {
   "cell_type": "code",
   "execution_count": 26,
   "metadata": {
    "scrolled": false
   },
   "outputs": [
    {
     "name": "stdout",
     "output_type": "stream",
     "text": [
      "progress: epoch: 0 loss tensor(60.8962)\n",
      "progress: epoch: 1 loss tensor(45.3628)\n",
      "progress: epoch: 2 loss tensor(39.9721)\n",
      "progress: epoch: 3 loss tensor(35.3277)\n",
      "progress: epoch: 4 loss tensor(31.2588)\n",
      "progress: epoch: 5 loss tensor(27.6916)\n",
      "progress: epoch: 6 loss tensor(24.5626)\n",
      "progress: epoch: 7 loss tensor(21.8164)\n",
      "progress: epoch: 8 loss tensor(19.4046)\n",
      "progress: epoch: 9 loss tensor(17.2851)\n",
      "progress: epoch: 10 loss tensor(15.4210)\n",
      "progress: epoch: 11 loss tensor(13.7803)\n",
      "progress: epoch: 12 loss tensor(12.3350)\n",
      "progress: epoch: 13 loss tensor(11.0607)\n",
      "progress: epoch: 14 loss tensor(9.9360)\n",
      "progress: epoch: 15 loss tensor(8.9424)\n",
      "progress: epoch: 16 loss tensor(8.0636)\n",
      "progress: epoch: 17 loss tensor(7.2855)\n",
      "progress: epoch: 18 loss tensor(6.5956)\n",
      "progress: epoch: 19 loss tensor(5.9831)\n",
      "progress: epoch: 20 loss tensor(5.4386)\n",
      "progress: epoch: 21 loss tensor(4.9539)\n",
      "progress: epoch: 22 loss tensor(4.5217)\n",
      "progress: epoch: 23 loss tensor(4.1358)\n",
      "progress: epoch: 24 loss tensor(3.7905)\n",
      "progress: epoch: 25 loss tensor(3.4811)\n",
      "progress: epoch: 26 loss tensor(3.2034)\n",
      "progress: epoch: 27 loss tensor(2.9536)\n",
      "progress: epoch: 28 loss tensor(2.7285)\n",
      "progress: epoch: 29 loss tensor(2.5253)\n",
      "progress: epoch: 30 loss tensor(2.3414)\n",
      "progress: epoch: 31 loss tensor(2.1748)\n",
      "progress: epoch: 32 loss tensor(2.0234)\n",
      "progress: epoch: 33 loss tensor(1.8857)\n",
      "progress: epoch: 34 loss tensor(1.7600)\n",
      "progress: epoch: 35 loss tensor(1.6452)\n",
      "progress: epoch: 36 loss tensor(1.5400)\n",
      "progress: epoch: 37 loss tensor(1.4435)\n",
      "progress: epoch: 38 loss tensor(1.3548)\n",
      "progress: epoch: 39 loss tensor(1.2730)\n",
      "progress: epoch: 40 loss tensor(1.1975)\n",
      "progress: epoch: 41 loss tensor(1.1277)\n",
      "progress: epoch: 42 loss tensor(1.0630)\n",
      "progress: epoch: 43 loss tensor(1.0030)\n",
      "progress: epoch: 44 loss tensor(0.9471)\n",
      "progress: epoch: 45 loss tensor(0.8951)\n",
      "progress: epoch: 46 loss tensor(0.8466)\n",
      "progress: epoch: 47 loss tensor(0.8013)\n",
      "progress: epoch: 48 loss tensor(0.7589)\n",
      "progress: epoch: 49 loss tensor(0.7192)\n",
      "progress: epoch: 50 loss tensor(0.6819)\n",
      "progress: epoch: 51 loss tensor(0.6469)\n",
      "progress: epoch: 52 loss tensor(0.6140)\n",
      "progress: epoch: 53 loss tensor(0.5831)\n",
      "progress: epoch: 54 loss tensor(0.5539)\n",
      "progress: epoch: 55 loss tensor(0.5263)\n",
      "progress: epoch: 56 loss tensor(0.5003)\n",
      "progress: epoch: 57 loss tensor(0.4758)\n",
      "progress: epoch: 58 loss tensor(0.4526)\n",
      "progress: epoch: 59 loss tensor(0.4306)\n",
      "progress: epoch: 60 loss tensor(0.4098)\n",
      "progress: epoch: 61 loss tensor(0.3901)\n",
      "progress: epoch: 62 loss tensor(0.3714)\n",
      "progress: epoch: 63 loss tensor(0.3537)\n",
      "progress: epoch: 64 loss tensor(0.3368)\n",
      "progress: epoch: 65 loss tensor(0.3209)\n",
      "progress: epoch: 66 loss tensor(0.3057)\n",
      "progress: epoch: 67 loss tensor(0.2913)\n",
      "progress: epoch: 68 loss tensor(0.2776)\n",
      "progress: epoch: 69 loss tensor(0.2646)\n",
      "progress: epoch: 70 loss tensor(0.2522)\n",
      "progress: epoch: 71 loss tensor(0.2404)\n",
      "progress: epoch: 72 loss tensor(0.2292)\n",
      "progress: epoch: 73 loss tensor(0.2185)\n",
      "progress: epoch: 74 loss tensor(0.2084)\n",
      "progress: epoch: 75 loss tensor(0.1987)\n",
      "progress: epoch: 76 loss tensor(0.1895)\n",
      "progress: epoch: 77 loss tensor(0.1807)\n",
      "progress: epoch: 78 loss tensor(0.1723)\n",
      "progress: epoch: 79 loss tensor(0.1644)\n",
      "progress: epoch: 80 loss tensor(0.1568)\n",
      "progress: epoch: 81 loss tensor(0.1495)\n",
      "progress: epoch: 82 loss tensor(0.1426)\n",
      "progress: epoch: 83 loss tensor(0.1361)\n",
      "progress: epoch: 84 loss tensor(0.1298)\n",
      "progress: epoch: 85 loss tensor(0.1238)\n",
      "progress: epoch: 86 loss tensor(0.1181)\n",
      "progress: epoch: 87 loss tensor(0.1127)\n",
      "progress: epoch: 88 loss tensor(0.1075)\n",
      "progress: epoch: 89 loss tensor(0.1026)\n",
      "progress: epoch: 90 loss tensor(0.0978)\n",
      "progress: epoch: 91 loss tensor(0.0934)\n",
      "progress: epoch: 92 loss tensor(0.0891)\n",
      "progress: epoch: 93 loss tensor(0.0850)\n",
      "progress: epoch: 94 loss tensor(0.0811)\n",
      "progress: epoch: 95 loss tensor(0.0774)\n",
      "progress: epoch: 96 loss tensor(0.0738)\n",
      "progress: epoch: 97 loss tensor(0.0704)\n",
      "progress: epoch: 98 loss tensor(0.0672)\n",
      "progress: epoch: 99 loss tensor(0.0641)\n",
      "progress: epoch: 100 loss tensor(0.0612)\n",
      "progress: epoch: 101 loss tensor(0.0584)\n",
      "progress: epoch: 102 loss tensor(0.0557)\n",
      "progress: epoch: 103 loss tensor(0.0531)\n",
      "progress: epoch: 104 loss tensor(0.0507)\n",
      "progress: epoch: 105 loss tensor(0.0484)\n",
      "progress: epoch: 106 loss tensor(0.0462)\n",
      "progress: epoch: 107 loss tensor(0.0441)\n",
      "progress: epoch: 108 loss tensor(0.0420)\n",
      "progress: epoch: 109 loss tensor(0.0401)\n",
      "progress: epoch: 110 loss tensor(0.0383)\n",
      "progress: epoch: 111 loss tensor(0.0365)\n",
      "progress: epoch: 112 loss tensor(0.0348)\n",
      "progress: epoch: 113 loss tensor(0.0333)\n",
      "progress: epoch: 114 loss tensor(0.0317)\n",
      "progress: epoch: 115 loss tensor(0.0303)\n",
      "progress: epoch: 116 loss tensor(0.0289)\n",
      "progress: epoch: 117 loss tensor(0.0276)\n",
      "progress: epoch: 118 loss tensor(0.0263)\n",
      "progress: epoch: 119 loss tensor(0.0251)\n",
      "progress: epoch: 120 loss tensor(0.0240)\n",
      "progress: epoch: 121 loss tensor(0.0229)\n",
      "progress: epoch: 122 loss tensor(0.0218)\n",
      "progress: epoch: 123 loss tensor(0.0208)\n",
      "progress: epoch: 124 loss tensor(0.0199)\n",
      "progress: epoch: 125 loss tensor(0.0189)\n",
      "progress: epoch: 126 loss tensor(0.0181)\n",
      "progress: epoch: 127 loss tensor(0.0173)\n",
      "progress: epoch: 128 loss tensor(0.0165)\n",
      "progress: epoch: 129 loss tensor(0.0157)\n",
      "progress: epoch: 130 loss tensor(0.0150)\n",
      "progress: epoch: 131 loss tensor(0.0143)\n",
      "progress: epoch: 132 loss tensor(0.0136)\n",
      "progress: epoch: 133 loss tensor(0.0130)\n",
      "progress: epoch: 134 loss tensor(0.0124)\n",
      "progress: epoch: 135 loss tensor(0.0119)\n",
      "progress: epoch: 136 loss tensor(0.0113)\n",
      "progress: epoch: 137 loss tensor(0.0108)\n",
      "progress: epoch: 138 loss tensor(0.0103)\n",
      "progress: epoch: 139 loss tensor(0.0098)\n",
      "progress: epoch: 140 loss tensor(0.0094)\n",
      "progress: epoch: 141 loss tensor(0.0090)\n",
      "progress: epoch: 142 loss tensor(0.0085)\n",
      "progress: epoch: 143 loss tensor(0.0082)\n",
      "progress: epoch: 144 loss tensor(0.0078)\n",
      "progress: epoch: 145 loss tensor(0.0074)\n",
      "progress: epoch: 146 loss tensor(0.0071)\n",
      "progress: epoch: 147 loss tensor(0.0068)\n",
      "progress: epoch: 148 loss tensor(0.0064)\n",
      "progress: epoch: 149 loss tensor(0.0062)\n",
      "progress: epoch: 150 loss tensor(0.0059)\n",
      "progress: epoch: 151 loss tensor(0.0056)\n",
      "progress: epoch: 152 loss tensor(0.0053)\n",
      "progress: epoch: 153 loss tensor(0.0051)\n",
      "progress: epoch: 154 loss tensor(0.0049)\n",
      "progress: epoch: 155 loss tensor(0.0046)\n",
      "progress: epoch: 156 loss tensor(0.0044)\n",
      "progress: epoch: 157 loss tensor(0.0042)\n",
      "progress: epoch: 158 loss tensor(0.0040)\n",
      "progress: epoch: 159 loss tensor(0.0039)\n",
      "progress: epoch: 160 loss tensor(0.0037)\n",
      "progress: epoch: 161 loss tensor(0.0035)\n",
      "progress: epoch: 162 loss tensor(0.0033)\n",
      "progress: epoch: 163 loss tensor(0.0032)\n",
      "progress: epoch: 164 loss tensor(0.0030)\n",
      "progress: epoch: 165 loss tensor(0.0029)\n",
      "progress: epoch: 166 loss tensor(0.0028)\n",
      "progress: epoch: 167 loss tensor(0.0026)\n",
      "progress: epoch: 168 loss tensor(0.0025)\n",
      "progress: epoch: 169 loss tensor(0.0024)\n",
      "progress: epoch: 170 loss tensor(0.0023)\n",
      "progress: epoch: 171 loss tensor(0.0022)\n",
      "progress: epoch: 172 loss tensor(0.0021)\n",
      "progress: epoch: 173 loss tensor(0.0020)\n",
      "progress: epoch: 174 loss tensor(0.0019)\n",
      "progress: epoch: 175 loss tensor(0.0018)\n",
      "progress: epoch: 176 loss tensor(0.0017)\n",
      "progress: epoch: 177 loss tensor(0.0017)\n",
      "progress: epoch: 178 loss tensor(0.0016)\n",
      "progress: epoch: 179 loss tensor(0.0015)\n",
      "progress: epoch: 180 loss tensor(0.0014)\n",
      "progress: epoch: 181 loss tensor(0.0014)\n",
      "progress: epoch: 182 loss tensor(0.0013)\n",
      "progress: epoch: 183 loss tensor(0.0013)\n",
      "progress: epoch: 184 loss tensor(0.0012)\n",
      "progress: epoch: 185 loss tensor(0.0011)\n",
      "progress: epoch: 186 loss tensor(0.0011)\n",
      "progress: epoch: 187 loss tensor(0.0010)\n",
      "progress: epoch: 188 loss tensor(0.0010)\n",
      "progress: epoch: 189 loss tensor(0.0009)\n",
      "progress: epoch: 190 loss tensor(0.0009)\n",
      "progress: epoch: 191 loss tensor(0.0009)\n",
      "progress: epoch: 192 loss tensor(0.0008)\n",
      "progress: epoch: 193 loss tensor(0.0008)\n",
      "progress: epoch: 194 loss tensor(0.0007)\n",
      "progress: epoch: 195 loss tensor(0.0007)\n",
      "progress: epoch: 196 loss tensor(0.0007)\n",
      "progress: epoch: 197 loss tensor(0.0006)\n",
      "progress: epoch: 198 loss tensor(0.0006)\n",
      "progress: epoch: 199 loss tensor(0.0006)\n"
     ]
    }
   ],
   "source": [
    "learning_rate = 1e-2\n",
    "\n",
    "w_t = w_t_init.clone()\n",
    "b_t = b_t_init.clone()\n",
    "\n",
    "for epoch in range(200):\n",
    "    l = loss_t(x,y)\n",
    "    grad_w, grad_b = gradient_t(x,y)\n",
    "    w_t = w_t-learning_rate*grad_w\n",
    "    b_t = b_t-learning_rate*grad_b\n",
    "    print(\"progress:\", \"epoch:\", epoch, \"loss\",l)"
   ]
  },
  {
   "cell_type": "code",
   "execution_count": 27,
   "metadata": {},
   "outputs": [
    {
     "name": "stdout",
     "output_type": "stream",
     "text": [
      "Estimation of the parameters:\n",
      "tensor([[ 2.0079],\n",
      "        [-2.9833]])\n",
      "tensor([[0.9879]])\n"
     ]
    }
   ],
   "source": [
    "# After training\n",
    "print(\"Estimation of the parameters:\")\n",
    "print(w_t)\n",
    "print(b_t)"
   ]
  }
 ],
 "metadata": {
  "kernelspec": {
   "display_name": "Python 3",
   "language": "python",
   "name": "python3"
  },
  "language_info": {
   "codemirror_mode": {
    "name": "ipython",
    "version": 3
   },
   "file_extension": ".py",
   "mimetype": "text/x-python",
   "name": "python",
   "nbconvert_exporter": "python",
   "pygments_lexer": "ipython3",
   "version": "3.7.7"
  }
 },
 "nbformat": 4,
 "nbformat_minor": 4
}
