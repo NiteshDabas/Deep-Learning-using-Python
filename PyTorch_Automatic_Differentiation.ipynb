{
 "cells": [
  {
   "cell_type": "markdown",
   "metadata": {
    "id": "Zt3nY3xZgC-Q"
   },
   "source": [
    "# Autograd: automatic differentiation\n",
    "\n",
    "When executing tensor operations, PyTorch can automatically construct on-the-fly the graph of operations to compute the gradient of any quantity with respect to any tensor involved."
   ]
  },
  {
   "cell_type": "markdown",
   "metadata": {
    "id": "FznlXGW9NvPq"
   },
   "source": [
    "## Visualizing the computational graph"
   ]
  },
  {
   "cell_type": "code",
   "execution_count": 3,
   "metadata": {
    "executionInfo": {
     "elapsed": 1247,
     "status": "ok",
     "timestamp": 1602007673027,
     "user": {
      "displayName": "Lionel Fillatre",
      "photoUrl": "",
      "userId": "14463393848879581998"
     },
     "user_tz": -120
    },
    "id": "Hh6cps5cgC9g"
   },
   "outputs": [],
   "source": [
    "import matplotlib.pyplot as plt\n",
    "%matplotlib inline\n",
    "import torch"
   ]
  },
  {
   "cell_type": "markdown",
   "metadata": {
    "id": "UUvKk98Snblr"
   },
   "source": [
    "PyTorchViz is a small package to create visualizations of PyTorch execution graphs and traces."
   ]
  },
  {
   "cell_type": "code",
   "execution_count": 4,
   "metadata": {
    "colab": {
     "base_uri": "https://localhost:8080/",
     "height": 102
    },
    "executionInfo": {
     "elapsed": 4038,
     "status": "ok",
     "timestamp": 1602007675830,
     "user": {
      "displayName": "Lionel Fillatre",
      "photoUrl": "",
      "userId": "14463393848879581998"
     },
     "user_tz": -120
    },
    "id": "_V6Sd1VEnKxQ",
    "outputId": "bcff51ef-c919-4cf8-8797-ed2b9c91202c"
   },
   "outputs": [
    {
     "name": "stdout",
     "output_type": "stream",
     "text": [
      "Requirement already satisfied: torchviz in /Users/dabasn/opt/anaconda3/lib/python3.7/site-packages (0.0.1)\r\n",
      "Requirement already satisfied: torch in /Users/dabasn/.local/lib/python3.7/site-packages (from torchviz) (1.6.0)\r\n",
      "Requirement already satisfied: graphviz in /Users/dabasn/opt/anaconda3/lib/python3.7/site-packages (from torchviz) (0.14.2)\r\n",
      "Requirement already satisfied: numpy in /Users/dabasn/opt/anaconda3/lib/python3.7/site-packages (from torch->torchviz) (1.18.5)\r\n",
      "Requirement already satisfied: future in /Users/dabasn/opt/anaconda3/lib/python3.7/site-packages (from torch->torchviz) (0.18.2)\r\n"
     ]
    }
   ],
   "source": [
    "!pip install torchviz\n"
   ]
  },
  {
   "cell_type": "code",
   "execution_count": 5,
   "metadata": {
    "executionInfo": {
     "elapsed": 4030,
     "status": "ok",
     "timestamp": 1602007675831,
     "user": {
      "displayName": "Lionel Fillatre",
      "photoUrl": "",
      "userId": "14463393848879581998"
     },
     "user_tz": -120
    },
    "id": "Htgg-1C1ChI1"
   },
   "outputs": [],
   "source": [
    "import torchviz"
   ]
  },
  {
   "cell_type": "markdown",
   "metadata": {
    "id": "wYsJ94KYrquH"
   },
   "source": [
    "In order to enable automatic differentiation, PyTorch keeps track of all operations involving tensors for which the gradient may need to be computed (i.e., require_grad is True). The operations are recorded as a directed graph."
   ]
  },
  {
   "cell_type": "code",
   "execution_count": 6,
   "metadata": {
    "colab": {
     "base_uri": "https://localhost:8080/",
     "height": 51
    },
    "executionInfo": {
     "elapsed": 4024,
     "status": "ok",
     "timestamp": 1602007675833,
     "user": {
      "displayName": "Lionel Fillatre",
      "photoUrl": "",
      "userId": "14463393848879581998"
     },
     "user_tz": -120
    },
    "id": "xJQfkBHxsPLF",
    "outputId": "2efb8cb2-4247-4f31-86b1-ef0a07c7c690"
   },
   "outputs": [
    {
     "name": "stdout",
     "output_type": "stream",
     "text": [
      "tensor([[1., 1.],\n",
      "        [1., 1.]])\n"
     ]
    }
   ],
   "source": [
    "x = torch.ones(2, 2)\n",
    "print(x)"
   ]
  },
  {
   "cell_type": "markdown",
   "metadata": {
    "id": "onirJsB5gC-R"
   },
   "source": [
    "A Tensor has a Boolean field *requires_grad*, set to False by default, which states if PyTorch should build the graph of operations so that gradients wrt to it can be computed."
   ]
  },
  {
   "cell_type": "code",
   "execution_count": 7,
   "metadata": {
    "colab": {
     "base_uri": "https://localhost:8080/",
     "height": 34
    },
    "executionInfo": {
     "elapsed": 4014,
     "status": "ok",
     "timestamp": 1602007675834,
     "user": {
      "displayName": "Lionel Fillatre",
      "photoUrl": "",
      "userId": "14463393848879581998"
     },
     "user_tz": -120
    },
    "id": "7KOHka8fgC-R",
    "outputId": "d8e30d26-7890-4017-e6cc-91bf4785a195"
   },
   "outputs": [
    {
     "data": {
      "text/plain": [
       "False"
      ]
     },
     "execution_count": 7,
     "metadata": {},
     "output_type": "execute_result"
    }
   ],
   "source": [
    "x.requires_grad"
   ]
  },
  {
   "cell_type": "code",
   "execution_count": 8,
   "metadata": {
    "colab": {
     "base_uri": "https://localhost:8080/",
     "height": 51
    },
    "executionInfo": {
     "elapsed": 4004,
     "status": "ok",
     "timestamp": 1602007675835,
     "user": {
      "displayName": "Lionel Fillatre",
      "photoUrl": "",
      "userId": "14463393848879581998"
     },
     "user_tz": -120
    },
    "id": "qCupY_tygC-S",
    "outputId": "cedaae54-39fd-42c3-a504-23b486b27d4a"
   },
   "outputs": [
    {
     "data": {
      "text/plain": [
       "array([[1., 1.],\n",
       "       [1., 1.]], dtype=float32)"
      ]
     },
     "execution_count": 8,
     "metadata": {},
     "output_type": "execute_result"
    }
   ],
   "source": [
    "x.numpy()"
   ]
  },
  {
   "cell_type": "code",
   "execution_count": 9,
   "metadata": {
    "colab": {
     "base_uri": "https://localhost:8080/",
     "height": 34
    },
    "executionInfo": {
     "elapsed": 3993,
     "status": "ok",
     "timestamp": 1602007675835,
     "user": {
      "displayName": "Lionel Fillatre",
      "photoUrl": "",
      "userId": "14463393848879581998"
     },
     "user_tz": -120
    },
    "id": "hWF-cjdugC-T",
    "outputId": "032e2faf-e156-4ea2-8fc7-cc5f53810ae8"
   },
   "outputs": [
    {
     "data": {
      "text/plain": [
       "True"
      ]
     },
     "execution_count": 9,
     "metadata": {},
     "output_type": "execute_result"
    }
   ],
   "source": [
    "x.requires_grad_(True)\n",
    "x.requires_grad"
   ]
  },
  {
   "cell_type": "markdown",
   "metadata": {
    "id": "E8UvVzIDsgy-"
   },
   "source": [
    "### Question: The following cell gives an error. Why?"
   ]
  },
  {
   "cell_type": "code",
   "execution_count": 10,
   "metadata": {
    "executionInfo": {
     "elapsed": 3986,
     "status": "ok",
     "timestamp": 1602007675836,
     "user": {
      "displayName": "Lionel Fillatre",
      "photoUrl": "",
      "userId": "14463393848879581998"
     },
     "user_tz": -120
    },
    "id": "-3hhJbzSsbKT"
   },
   "outputs": [
    {
     "ename": "RuntimeError",
     "evalue": "Can't call numpy() on Tensor that requires grad. Use tensor.detach().numpy() instead.",
     "output_type": "error",
     "traceback": [
      "\u001b[0;31m---------------------------------------------------------------------------\u001b[0m",
      "\u001b[0;31mRuntimeError\u001b[0m                              Traceback (most recent call last)",
      "\u001b[0;32m<ipython-input-10-2527552080a3>\u001b[0m in \u001b[0;36m<module>\u001b[0;34m\u001b[0m\n\u001b[0;32m----> 1\u001b[0;31m \u001b[0mx\u001b[0m\u001b[0;34m.\u001b[0m\u001b[0mnumpy\u001b[0m\u001b[0;34m(\u001b[0m\u001b[0;34m)\u001b[0m\u001b[0;34m\u001b[0m\u001b[0;34m\u001b[0m\u001b[0m\n\u001b[0m",
      "\u001b[0;31mRuntimeError\u001b[0m: Can't call numpy() on Tensor that requires grad. Use tensor.detach().numpy() instead."
     ]
    }
   ],
   "source": [
    "x.numpy()"
   ]
  },
  {
   "cell_type": "markdown",
   "metadata": {
    "id": "ZbK4X5CFr0f2"
   },
   "source": [
    "The detach() method constructs a new view on a tensor which is declared not to need gradients, i.e., it is to be excluded from further tracking of operations, and therefore the subgraph involving this view is not recorded."
   ]
  },
  {
   "cell_type": "code",
   "execution_count": null,
   "metadata": {
    "colab": {
     "base_uri": "https://localhost:8080/",
     "height": 51
    },
    "executionInfo": {
     "elapsed": 3977,
     "status": "ok",
     "timestamp": 1602007675836,
     "user": {
      "displayName": "Lionel Fillatre",
      "photoUrl": "",
      "userId": "14463393848879581998"
     },
     "user_tz": -120
    },
    "id": "4tbWCPc5gC-T",
    "outputId": "73f3cd2b-d5d6-4569-82cd-180ad02c7980"
   },
   "outputs": [],
   "source": [
    "x.detach().numpy()"
   ]
  },
  {
   "cell_type": "code",
   "execution_count": null,
   "metadata": {
    "colab": {
     "base_uri": "https://localhost:8080/",
     "height": 51
    },
    "executionInfo": {
     "elapsed": 3973,
     "status": "ok",
     "timestamp": 1602007675837,
     "user": {
      "displayName": "Lionel Fillatre",
      "photoUrl": "",
      "userId": "14463393848879581998"
     },
     "user_tz": -120
    },
    "id": "raHZBNwMgC-U",
    "outputId": "711be21f-4276-4ed9-a97c-f2c927431697"
   },
   "outputs": [],
   "source": [
    "x.data.numpy() # Torch.data returns the \"data\" (array_like) stored in the tensor"
   ]
  },
  {
   "cell_type": "code",
   "execution_count": 11,
   "metadata": {
    "colab": {
     "base_uri": "https://localhost:8080/",
     "height": 34
    },
    "executionInfo": {
     "elapsed": 3967,
     "status": "ok",
     "timestamp": 1602007675837,
     "user": {
      "displayName": "Lionel Fillatre",
      "photoUrl": "",
      "userId": "14463393848879581998"
     },
     "user_tz": -120
    },
    "id": "6TWE8h-ygC-V",
    "outputId": "4285e068-0a75-4ed2-8207-87a616ef7a52"
   },
   "outputs": [
    {
     "data": {
      "text/plain": [
       "True"
      ]
     },
     "execution_count": 11,
     "metadata": {},
     "output_type": "execute_result"
    }
   ],
   "source": [
    "x.requires_grad"
   ]
  },
  {
   "cell_type": "code",
   "execution_count": 12,
   "metadata": {
    "colab": {
     "base_uri": "https://localhost:8080/",
     "height": 188
    },
    "executionInfo": {
     "elapsed": 3963,
     "status": "ok",
     "timestamp": 1602007675838,
     "user": {
      "displayName": "Lionel Fillatre",
      "photoUrl": "",
      "userId": "14463393848879581998"
     },
     "user_tz": -120
    },
    "id": "gACeHMOegC-W",
    "outputId": "9a6949ad-ba67-4a5b-8034-2217be0883d9"
   },
   "outputs": [
    {
     "name": "stdout",
     "output_type": "stream",
     "text": [
      "tensor([[3., 3.],\n",
      "        [3., 3.]], grad_fn=<AddBackward0>)\n"
     ]
    },
    {
     "data": {
      "image/svg+xml": [
       "<?xml version=\"1.0\" encoding=\"UTF-8\" standalone=\"no\"?>\n",
       "<!DOCTYPE svg PUBLIC \"-//W3C//DTD SVG 1.1//EN\"\n",
       " \"http://www.w3.org/Graphics/SVG/1.1/DTD/svg11.dtd\">\n",
       "<!-- Generated by graphviz version 2.44.1 (20200629.0846)\n",
       " -->\n",
       "<!-- Pages: 1 -->\n",
       "<svg width=\"100pt\" height=\"100pt\"\n",
       " viewBox=\"0.00 0.00 100.00 100.00\" xmlns=\"http://www.w3.org/2000/svg\" xmlns:xlink=\"http://www.w3.org/1999/xlink\">\n",
       "<g id=\"graph0\" class=\"graph\" transform=\"scale(1 1) rotate(0) translate(4 96)\">\n",
       "<polygon fill=\"white\" stroke=\"transparent\" points=\"-4,4 -4,-96 96,-96 96,4 -4,4\"/>\n",
       "<!-- 140219501889168 -->\n",
       "<g id=\"node1\" class=\"node\">\n",
       "<title>140219501889168</title>\n",
       "<polygon fill=\"#caff70\" stroke=\"black\" points=\"92,-21 0,-21 0,0 92,0 92,-21\"/>\n",
       "<text text-anchor=\"middle\" x=\"46\" y=\"-7.4\" font-family=\"Times,serif\" font-size=\"12.00\">AddBackward0</text>\n",
       "</g>\n",
       "<!-- 140219501889488 -->\n",
       "<g id=\"node2\" class=\"node\">\n",
       "<title>140219501889488</title>\n",
       "<polygon fill=\"lightblue\" stroke=\"black\" points=\"73,-92 19,-92 19,-57 73,-57 73,-92\"/>\n",
       "<text text-anchor=\"middle\" x=\"46\" y=\"-64.4\" font-family=\"Times,serif\" font-size=\"12.00\"> (2, 2)</text>\n",
       "</g>\n",
       "<!-- 140219501889488&#45;&gt;140219501889168 -->\n",
       "<g id=\"edge1\" class=\"edge\">\n",
       "<title>140219501889488&#45;&gt;140219501889168</title>\n",
       "<path fill=\"none\" stroke=\"black\" d=\"M46,-56.89C46,-48.99 46,-39.5 46,-31.25\"/>\n",
       "<polygon fill=\"black\" stroke=\"black\" points=\"49.5,-31.02 46,-21.02 42.5,-31.02 49.5,-31.02\"/>\n",
       "</g>\n",
       "</g>\n",
       "</svg>\n"
      ],
      "text/plain": [
       "<graphviz.dot.Digraph at 0x7f876599c610>"
      ]
     },
     "execution_count": 12,
     "metadata": {},
     "output_type": "execute_result"
    }
   ],
   "source": [
    "y = x + 2\n",
    "print(y)\n",
    "torchviz.make_dot(y)"
   ]
  },
  {
   "cell_type": "markdown",
   "metadata": {
    "id": "GnSYGWNcgC-W"
   },
   "source": [
    "**Broadcasting**\n",
    "\n",
    "Recall: Broadcasting **automatically** expands dimensions by replicating coefficients, when it is necessary to perform operations.\n",
    "\n",
    "1. If one of the tensors has fewer dimensions than the other, it is reshaped by adding as many dimensions of size 1 as necessary in the front; then\n",
    "2. for every mismatch, if one of the two tensor is of size one, it is expanded along this axis by replicating  coefficients.\n",
    "\n",
    "If there is a tensor size mismatch for one of the dimension and neither of them is one, the operation fails."
   ]
  },
  {
   "cell_type": "code",
   "execution_count": 13,
   "metadata": {
    "colab": {
     "base_uri": "https://localhost:8080/",
     "height": 204
    },
    "executionInfo": {
     "elapsed": 3958,
     "status": "ok",
     "timestamp": 1602007675838,
     "user": {
      "displayName": "Lionel Fillatre",
      "photoUrl": "",
      "userId": "14463393848879581998"
     },
     "user_tz": -120
    },
    "id": "2CtszgyZgC-X",
    "outputId": "a7d4a5e6-79a6-4afc-daad-86ba375db35c"
   },
   "outputs": [
    {
     "name": "stdout",
     "output_type": "stream",
     "text": [
      "torch.Size([4, 1])\n",
      "tensor([[1.],\n",
      "        [2.],\n",
      "        [3.],\n",
      "        [4.]])\n",
      "torch.Size([1, 5])\n",
      "tensor([[ 5., -5.,  5., -5.,  5.]])\n",
      "tensor([[ 6., -4.,  6., -4.,  6.],\n",
      "        [ 7., -3.,  7., -3.,  7.],\n",
      "        [ 8., -2.,  8., -2.,  8.],\n",
      "        [ 9., -1.,  9., -1.,  9.]])\n"
     ]
    }
   ],
   "source": [
    "A = torch.tensor([[1.], [2.], [3.], [4.]])\n",
    "print(A.size())\n",
    "print(A)\n",
    "B = torch.tensor([[5., -5., 5., -5., 5.]])\n",
    "print(B.size())\n",
    "print(B)\n",
    "C = A + B\n",
    "print(C)"
   ]
  },
  {
   "cell_type": "markdown",
   "metadata": {
    "id": "cVCkQQeRgC-Y"
   },
   "source": [
    "Back to Autograd!"
   ]
  },
  {
   "cell_type": "code",
   "execution_count": 14,
   "metadata": {
    "colab": {
     "base_uri": "https://localhost:8080/",
     "height": 51
    },
    "executionInfo": {
     "elapsed": 3953,
     "status": "ok",
     "timestamp": 1602007675839,
     "user": {
      "displayName": "Lionel Fillatre",
      "photoUrl": "",
      "userId": "14463393848879581998"
     },
     "user_tz": -120
    },
    "id": "hja6OM24gC-b",
    "outputId": "aadd8a97-7eae-4c92-e653-fdc6bc9cd345"
   },
   "outputs": [
    {
     "name": "stdout",
     "output_type": "stream",
     "text": [
      "tensor([[3., 3.],\n",
      "        [3., 3.]], grad_fn=<AddBackward0>)\n"
     ]
    }
   ],
   "source": [
    "x = torch.ones(2, 2)\n",
    "x.requires_grad_(True)\n",
    "y = x+2\n",
    "print(y)"
   ]
  },
  {
   "cell_type": "code",
   "execution_count": 15,
   "metadata": {
    "colab": {
     "base_uri": "https://localhost:8080/",
     "height": 34
    },
    "executionInfo": {
     "elapsed": 3949,
     "status": "ok",
     "timestamp": 1602007675840,
     "user": {
      "displayName": "Lionel Fillatre",
      "photoUrl": "",
      "userId": "14463393848879581998"
     },
     "user_tz": -120
    },
    "id": "NI3ikwlogC-Y",
    "outputId": "15ab02c7-e109-42f6-ba27-98b6161e3fbc"
   },
   "outputs": [
    {
     "data": {
      "text/plain": [
       "True"
      ]
     },
     "execution_count": 15,
     "metadata": {},
     "output_type": "execute_result"
    }
   ],
   "source": [
    "y.requires_grad"
   ]
  },
  {
   "cell_type": "markdown",
   "metadata": {
    "id": "w5XJD5O13vPw"
   },
   "source": [
    "Tensor and Function are interconnected and build up an acyclic graph, that encodes a complete history of computation. \n",
    "\n",
    "Each tensor has a .grad_fn attribute that references a Function that has created the Tensor (except for Tensors created by the user - their grad_fn is None)."
   ]
  },
  {
   "cell_type": "code",
   "execution_count": 16,
   "metadata": {
    "colab": {
     "base_uri": "https://localhost:8080/",
     "height": 256
    },
    "executionInfo": {
     "elapsed": 3944,
     "status": "ok",
     "timestamp": 1602007675841,
     "user": {
      "displayName": "Lionel Fillatre",
      "photoUrl": "",
      "userId": "14463393848879581998"
     },
     "user_tz": -120
    },
    "id": "EOt8d0S0gC-Z",
    "outputId": "d458a5bb-76ca-40e2-ba91-0d196159809e"
   },
   "outputs": [
    {
     "name": "stdout",
     "output_type": "stream",
     "text": [
      "tensor([[1., 1.],\n",
      "        [1., 1.]], requires_grad=True)\n",
      "None\n",
      "tensor([[3., 3.],\n",
      "        [3., 3.]], grad_fn=<AddBackward0>)\n",
      "<AddBackward0 object at 0x7f87625e09d0>\n"
     ]
    },
    {
     "data": {
      "image/svg+xml": [
       "<?xml version=\"1.0\" encoding=\"UTF-8\" standalone=\"no\"?>\n",
       "<!DOCTYPE svg PUBLIC \"-//W3C//DTD SVG 1.1//EN\"\n",
       " \"http://www.w3.org/Graphics/SVG/1.1/DTD/svg11.dtd\">\n",
       "<!-- Generated by graphviz version 2.44.1 (20200629.0846)\n",
       " -->\n",
       "<!-- Pages: 1 -->\n",
       "<svg width=\"100pt\" height=\"100pt\"\n",
       " viewBox=\"0.00 0.00 100.00 100.00\" xmlns=\"http://www.w3.org/2000/svg\" xmlns:xlink=\"http://www.w3.org/1999/xlink\">\n",
       "<g id=\"graph0\" class=\"graph\" transform=\"scale(1 1) rotate(0) translate(4 96)\">\n",
       "<polygon fill=\"white\" stroke=\"transparent\" points=\"-4,4 -4,-96 96,-96 96,4 -4,4\"/>\n",
       "<!-- 140219484890704 -->\n",
       "<g id=\"node1\" class=\"node\">\n",
       "<title>140219484890704</title>\n",
       "<polygon fill=\"#caff70\" stroke=\"black\" points=\"92,-21 0,-21 0,0 92,0 92,-21\"/>\n",
       "<text text-anchor=\"middle\" x=\"46\" y=\"-7.4\" font-family=\"Times,serif\" font-size=\"12.00\">AddBackward0</text>\n",
       "</g>\n",
       "<!-- 140219484891216 -->\n",
       "<g id=\"node2\" class=\"node\">\n",
       "<title>140219484891216</title>\n",
       "<polygon fill=\"lightblue\" stroke=\"black\" points=\"73,-92 19,-92 19,-57 73,-57 73,-92\"/>\n",
       "<text text-anchor=\"middle\" x=\"46\" y=\"-64.4\" font-family=\"Times,serif\" font-size=\"12.00\"> (2, 2)</text>\n",
       "</g>\n",
       "<!-- 140219484891216&#45;&gt;140219484890704 -->\n",
       "<g id=\"edge1\" class=\"edge\">\n",
       "<title>140219484891216&#45;&gt;140219484890704</title>\n",
       "<path fill=\"none\" stroke=\"black\" d=\"M46,-56.89C46,-48.99 46,-39.5 46,-31.25\"/>\n",
       "<polygon fill=\"black\" stroke=\"black\" points=\"49.5,-31.02 46,-21.02 42.5,-31.02 49.5,-31.02\"/>\n",
       "</g>\n",
       "</g>\n",
       "</svg>\n"
      ],
      "text/plain": [
       "<graphviz.dot.Digraph at 0x7f8764f7d1d0>"
      ]
     },
     "execution_count": 16,
     "metadata": {},
     "output_type": "execute_result"
    }
   ],
   "source": [
    "print(x)\n",
    "print(x.grad_fn)\n",
    "print(y)\n",
    "print(y.grad_fn)\n",
    "torchviz.make_dot(y) "
   ]
  },
  {
   "cell_type": "code",
   "execution_count": 17,
   "metadata": {
    "colab": {
     "base_uri": "https://localhost:8080/",
     "height": 340
    },
    "executionInfo": {
     "elapsed": 3938,
     "status": "ok",
     "timestamp": 1602007675841,
     "user": {
      "displayName": "Lionel Fillatre",
      "photoUrl": "",
      "userId": "14463393848879581998"
     },
     "user_tz": -120
    },
    "id": "x5vVEet32cC_",
    "outputId": "9f30520f-e06f-49c5-b6da-322e96052ade"
   },
   "outputs": [
    {
     "name": "stdout",
     "output_type": "stream",
     "text": [
      "tensor([[27., 27.],\n",
      "        [27., 27.]], grad_fn=<MulBackward0>)\n"
     ]
    },
    {
     "data": {
      "image/svg+xml": [
       "<?xml version=\"1.0\" encoding=\"UTF-8\" standalone=\"no\"?>\n",
       "<!DOCTYPE svg PUBLIC \"-//W3C//DTD SVG 1.1//EN\"\n",
       " \"http://www.w3.org/Graphics/SVG/1.1/DTD/svg11.dtd\">\n",
       "<!-- Generated by graphviz version 2.44.1 (20200629.0846)\n",
       " -->\n",
       "<!-- Pages: 1 -->\n",
       "<svg width=\"100pt\" height=\"214pt\"\n",
       " viewBox=\"0.00 0.00 100.00 214.00\" xmlns=\"http://www.w3.org/2000/svg\" xmlns:xlink=\"http://www.w3.org/1999/xlink\">\n",
       "<g id=\"graph0\" class=\"graph\" transform=\"scale(1 1) rotate(0) translate(4 210)\">\n",
       "<polygon fill=\"white\" stroke=\"transparent\" points=\"-4,4 -4,-210 96,-210 96,4 -4,4\"/>\n",
       "<!-- 140219501888400 -->\n",
       "<g id=\"node1\" class=\"node\">\n",
       "<title>140219501888400</title>\n",
       "<polygon fill=\"#caff70\" stroke=\"black\" points=\"91.5,-21 0.5,-21 0.5,0 91.5,0 91.5,-21\"/>\n",
       "<text text-anchor=\"middle\" x=\"46\" y=\"-7.4\" font-family=\"Times,serif\" font-size=\"12.00\">MulBackward0</text>\n",
       "</g>\n",
       "<!-- 140219501889424 -->\n",
       "<g id=\"node2\" class=\"node\">\n",
       "<title>140219501889424</title>\n",
       "<polygon fill=\"lightgrey\" stroke=\"black\" points=\"91.5,-78 0.5,-78 0.5,-57 91.5,-57 91.5,-78\"/>\n",
       "<text text-anchor=\"middle\" x=\"46\" y=\"-64.4\" font-family=\"Times,serif\" font-size=\"12.00\">MulBackward0</text>\n",
       "</g>\n",
       "<!-- 140219501889424&#45;&gt;140219501888400 -->\n",
       "<g id=\"edge1\" class=\"edge\">\n",
       "<title>140219501889424&#45;&gt;140219501888400</title>\n",
       "<path fill=\"none\" stroke=\"black\" d=\"M46,-56.92C46,-49.91 46,-40.14 46,-31.47\"/>\n",
       "<polygon fill=\"black\" stroke=\"black\" points=\"49.5,-31.34 46,-21.34 42.5,-31.34 49.5,-31.34\"/>\n",
       "</g>\n",
       "<!-- 140219484890704 -->\n",
       "<g id=\"node3\" class=\"node\">\n",
       "<title>140219484890704</title>\n",
       "<polygon fill=\"lightgrey\" stroke=\"black\" points=\"92,-135 0,-135 0,-114 92,-114 92,-135\"/>\n",
       "<text text-anchor=\"middle\" x=\"46\" y=\"-121.4\" font-family=\"Times,serif\" font-size=\"12.00\">AddBackward0</text>\n",
       "</g>\n",
       "<!-- 140219484890704&#45;&gt;140219501889424 -->\n",
       "<g id=\"edge2\" class=\"edge\">\n",
       "<title>140219484890704&#45;&gt;140219501889424</title>\n",
       "<path fill=\"none\" stroke=\"black\" d=\"M40.73,-113.92C39.35,-106.91 38.94,-97.14 39.48,-88.47\"/>\n",
       "<polygon fill=\"black\" stroke=\"black\" points=\"42.98,-88.68 40.68,-78.34 36.03,-87.86 42.98,-88.68\"/>\n",
       "</g>\n",
       "<!-- 140219484890704&#45;&gt;140219501889424 -->\n",
       "<g id=\"edge4\" class=\"edge\">\n",
       "<title>140219484890704&#45;&gt;140219501889424</title>\n",
       "<path fill=\"none\" stroke=\"black\" d=\"M51.27,-113.92C52.65,-106.91 53.06,-97.14 52.52,-88.47\"/>\n",
       "<polygon fill=\"black\" stroke=\"black\" points=\"55.97,-87.86 51.32,-78.34 49.02,-88.68 55.97,-87.86\"/>\n",
       "</g>\n",
       "<!-- 140219484891216 -->\n",
       "<g id=\"node4\" class=\"node\">\n",
       "<title>140219484891216</title>\n",
       "<polygon fill=\"lightblue\" stroke=\"black\" points=\"73,-206 19,-206 19,-171 73,-171 73,-206\"/>\n",
       "<text text-anchor=\"middle\" x=\"46\" y=\"-178.4\" font-family=\"Times,serif\" font-size=\"12.00\"> (2, 2)</text>\n",
       "</g>\n",
       "<!-- 140219484891216&#45;&gt;140219484890704 -->\n",
       "<g id=\"edge3\" class=\"edge\">\n",
       "<title>140219484891216&#45;&gt;140219484890704</title>\n",
       "<path fill=\"none\" stroke=\"black\" d=\"M46,-170.89C46,-162.99 46,-153.5 46,-145.25\"/>\n",
       "<polygon fill=\"black\" stroke=\"black\" points=\"49.5,-145.02 46,-135.02 42.5,-145.02 49.5,-145.02\"/>\n",
       "</g>\n",
       "</g>\n",
       "</svg>\n"
      ],
      "text/plain": [
       "<graphviz.dot.Digraph at 0x7f876599c290>"
      ]
     },
     "execution_count": 17,
     "metadata": {},
     "output_type": "execute_result"
    }
   ],
   "source": [
    "z = y * y * 3\n",
    "print(z)\n",
    "torchviz.make_dot(z) "
   ]
  },
  {
   "cell_type": "code",
   "execution_count": 18,
   "metadata": {
    "colab": {
     "base_uri": "https://localhost:8080/",
     "height": 399
    },
    "executionInfo": {
     "elapsed": 3933,
     "status": "ok",
     "timestamp": 1602007675842,
     "user": {
      "displayName": "Lionel Fillatre",
      "photoUrl": "",
      "userId": "14463393848879581998"
     },
     "user_tz": -120
    },
    "id": "kQlr3Z-HgC-b",
    "outputId": "448b44ed-8b53-41f6-b011-9a526991ea41"
   },
   "outputs": [
    {
     "name": "stdout",
     "output_type": "stream",
     "text": [
      "tensor(27., grad_fn=<MeanBackward0>)\n"
     ]
    },
    {
     "data": {
      "image/svg+xml": [
       "<?xml version=\"1.0\" encoding=\"UTF-8\" standalone=\"no\"?>\n",
       "<!DOCTYPE svg PUBLIC \"-//W3C//DTD SVG 1.1//EN\"\n",
       " \"http://www.w3.org/Graphics/SVG/1.1/DTD/svg11.dtd\">\n",
       "<!-- Generated by graphviz version 2.44.1 (20200629.0846)\n",
       " -->\n",
       "<!-- Pages: 1 -->\n",
       "<svg width=\"106pt\" height=\"271pt\"\n",
       " viewBox=\"0.00 0.00 106.00 271.00\" xmlns=\"http://www.w3.org/2000/svg\" xmlns:xlink=\"http://www.w3.org/1999/xlink\">\n",
       "<g id=\"graph0\" class=\"graph\" transform=\"scale(1 1) rotate(0) translate(4 267)\">\n",
       "<polygon fill=\"white\" stroke=\"transparent\" points=\"-4,4 -4,-267 102,-267 102,4 -4,4\"/>\n",
       "<!-- 140219501888848 -->\n",
       "<g id=\"node1\" class=\"node\">\n",
       "<title>140219501888848</title>\n",
       "<polygon fill=\"#caff70\" stroke=\"black\" points=\"98,-21 0,-21 0,0 98,0 98,-21\"/>\n",
       "<text text-anchor=\"middle\" x=\"49\" y=\"-7.4\" font-family=\"Times,serif\" font-size=\"12.00\">MeanBackward0</text>\n",
       "</g>\n",
       "<!-- 140219501888400 -->\n",
       "<g id=\"node2\" class=\"node\">\n",
       "<title>140219501888400</title>\n",
       "<polygon fill=\"lightgrey\" stroke=\"black\" points=\"94.5,-78 3.5,-78 3.5,-57 94.5,-57 94.5,-78\"/>\n",
       "<text text-anchor=\"middle\" x=\"49\" y=\"-64.4\" font-family=\"Times,serif\" font-size=\"12.00\">MulBackward0</text>\n",
       "</g>\n",
       "<!-- 140219501888400&#45;&gt;140219501888848 -->\n",
       "<g id=\"edge1\" class=\"edge\">\n",
       "<title>140219501888400&#45;&gt;140219501888848</title>\n",
       "<path fill=\"none\" stroke=\"black\" d=\"M49,-56.92C49,-49.91 49,-40.14 49,-31.47\"/>\n",
       "<polygon fill=\"black\" stroke=\"black\" points=\"52.5,-31.34 49,-21.34 45.5,-31.34 52.5,-31.34\"/>\n",
       "</g>\n",
       "<!-- 140219501889424 -->\n",
       "<g id=\"node3\" class=\"node\">\n",
       "<title>140219501889424</title>\n",
       "<polygon fill=\"lightgrey\" stroke=\"black\" points=\"94.5,-135 3.5,-135 3.5,-114 94.5,-114 94.5,-135\"/>\n",
       "<text text-anchor=\"middle\" x=\"49\" y=\"-121.4\" font-family=\"Times,serif\" font-size=\"12.00\">MulBackward0</text>\n",
       "</g>\n",
       "<!-- 140219501889424&#45;&gt;140219501888400 -->\n",
       "<g id=\"edge2\" class=\"edge\">\n",
       "<title>140219501889424&#45;&gt;140219501888400</title>\n",
       "<path fill=\"none\" stroke=\"black\" d=\"M49,-113.92C49,-106.91 49,-97.14 49,-88.47\"/>\n",
       "<polygon fill=\"black\" stroke=\"black\" points=\"52.5,-88.34 49,-78.34 45.5,-88.34 52.5,-88.34\"/>\n",
       "</g>\n",
       "<!-- 140219484890704 -->\n",
       "<g id=\"node4\" class=\"node\">\n",
       "<title>140219484890704</title>\n",
       "<polygon fill=\"lightgrey\" stroke=\"black\" points=\"95,-192 3,-192 3,-171 95,-171 95,-192\"/>\n",
       "<text text-anchor=\"middle\" x=\"49\" y=\"-178.4\" font-family=\"Times,serif\" font-size=\"12.00\">AddBackward0</text>\n",
       "</g>\n",
       "<!-- 140219484890704&#45;&gt;140219501889424 -->\n",
       "<g id=\"edge3\" class=\"edge\">\n",
       "<title>140219484890704&#45;&gt;140219501889424</title>\n",
       "<path fill=\"none\" stroke=\"black\" d=\"M43.73,-170.92C42.35,-163.91 41.94,-154.14 42.48,-145.47\"/>\n",
       "<polygon fill=\"black\" stroke=\"black\" points=\"45.98,-145.68 43.68,-135.34 39.03,-144.86 45.98,-145.68\"/>\n",
       "</g>\n",
       "<!-- 140219484890704&#45;&gt;140219501889424 -->\n",
       "<g id=\"edge5\" class=\"edge\">\n",
       "<title>140219484890704&#45;&gt;140219501889424</title>\n",
       "<path fill=\"none\" stroke=\"black\" d=\"M54.27,-170.92C55.65,-163.91 56.06,-154.14 55.52,-145.47\"/>\n",
       "<polygon fill=\"black\" stroke=\"black\" points=\"58.97,-144.86 54.32,-135.34 52.02,-145.68 58.97,-144.86\"/>\n",
       "</g>\n",
       "<!-- 140219484891216 -->\n",
       "<g id=\"node5\" class=\"node\">\n",
       "<title>140219484891216</title>\n",
       "<polygon fill=\"lightblue\" stroke=\"black\" points=\"76,-263 22,-263 22,-228 76,-228 76,-263\"/>\n",
       "<text text-anchor=\"middle\" x=\"49\" y=\"-235.4\" font-family=\"Times,serif\" font-size=\"12.00\"> (2, 2)</text>\n",
       "</g>\n",
       "<!-- 140219484891216&#45;&gt;140219484890704 -->\n",
       "<g id=\"edge4\" class=\"edge\">\n",
       "<title>140219484891216&#45;&gt;140219484890704</title>\n",
       "<path fill=\"none\" stroke=\"black\" d=\"M49,-227.89C49,-219.99 49,-210.5 49,-202.25\"/>\n",
       "<polygon fill=\"black\" stroke=\"black\" points=\"52.5,-202.02 49,-192.02 45.5,-202.02 52.5,-202.02\"/>\n",
       "</g>\n",
       "</g>\n",
       "</svg>\n"
      ],
      "text/plain": [
       "<graphviz.dot.Digraph at 0x7f876599cd50>"
      ]
     },
     "execution_count": 18,
     "metadata": {},
     "output_type": "execute_result"
    }
   ],
   "source": [
    "out = z.mean()\n",
    "print(out)\n",
    "torchviz.make_dot(out) "
   ]
  },
  {
   "cell_type": "markdown",
   "metadata": {
    "id": "mrBx5oslgC-c"
   },
   "source": [
    "After the computation is finished, i.e. _forward pass_, you can call ```.backward()``` and have all the gradients computed automatically."
   ]
  },
  {
   "cell_type": "code",
   "execution_count": 19,
   "metadata": {
    "executionInfo": {
     "elapsed": 4181,
     "status": "ok",
     "timestamp": 1602007676096,
     "user": {
      "displayName": "Lionel Fillatre",
      "photoUrl": "",
      "userId": "14463393848879581998"
     },
     "user_tz": -120
    },
    "id": "g5AzQ3qV5oti"
   },
   "outputs": [],
   "source": [
    "out.backward()"
   ]
  },
  {
   "cell_type": "markdown",
   "metadata": {
    "id": "niaze4W4gC-d"
   },
   "source": [
    "The gradients w.r.t. this variable is accumulated into ```.grad```."
   ]
  },
  {
   "cell_type": "code",
   "execution_count": 20,
   "metadata": {
    "colab": {
     "base_uri": "https://localhost:8080/",
     "height": 51
    },
    "executionInfo": {
     "elapsed": 4171,
     "status": "ok",
     "timestamp": 1602007676096,
     "user": {
      "displayName": "Lionel Fillatre",
      "photoUrl": "",
      "userId": "14463393848879581998"
     },
     "user_tz": -120
    },
    "id": "OiDnd1jXgC-d",
    "outputId": "86d2b524-04c0-46e5-c0df-81ca5ef7cbe6"
   },
   "outputs": [
    {
     "name": "stdout",
     "output_type": "stream",
     "text": [
      "tensor([[4.5000, 4.5000],\n",
      "        [4.5000, 4.5000]])\n"
     ]
    }
   ],
   "source": [
    "print(x.grad)"
   ]
  },
  {
   "cell_type": "markdown",
   "metadata": {
    "id": "7kJrfEsF29yh"
   },
   "source": [
    "### Question: Explain mathematically the value of \"x.grad\"\n"
   ]
  },
  {
   "cell_type": "markdown",
   "metadata": {
    "id": "bc_d1hxFgC-f"
   },
   "source": [
    "Let’s call the ``out``\n",
    "*Variable* “$o$”.\n",
    "We have that:\n",
    "\n",
    "$y_i = x_i+2$\n",
    "\n",
    "$z_i = 3 y_i^2$ \n",
    "\n",
    "$o = \\frac{1}{4}\\sum_i z_i$ \n",
    "\n",
    "**Forward pass:**\n",
    "\n",
    "$y_i\\bigr\\rvert_{x_i=1} = 3$\n",
    "\n",
    "$z_i\\bigr\\rvert_{y_i=3} = 27$\n",
    "\n",
    "$o\\bigr\\rvert_{z_i=27} = 27$.\n",
    "\n",
    "Taking partial derivatives give:\n",
    "\n",
    "$\\frac{\\partial o}{\\partial z_i} = \\frac{1}{4}$\n",
    "\n",
    "$\\frac{\\partial z_i}{\\partial y_i} = 6 y_i$\n",
    "\n",
    "$\\frac{\\partial y_i}{\\partial x_i} =1$\n",
    "\n",
    "\n",
    "hence by the **chain-rule:**\n",
    "\n",
    "$\\frac{\\partial o}{\\partial x_i}\\bigr\\rvert_{x_i=1} = \\frac{\\partial o}{\\partial z_i}\\bigr\\rvert_{z_i=27}\\frac{\\partial z_i}{\\partial y_i}\\bigr\\rvert_{y_i=3}\\frac{\\partial y_i}{\\partial x_i}\\bigr\\rvert_{x_i=1} = \\frac{1}{4} * 18 * 1 = 4.5$."
   ]
  },
  {
   "cell_type": "markdown",
   "metadata": {
    "id": "UwJCU8Uo4ZvD"
   },
   "source": [
    "[Why can I not see .grad of an intermediate variable?](https://discuss.pytorch.org/t/why-cant-i-see-grad-of-an-intermediate-variable/94)\n",
    "\n",
    "Gradients are only retained for leaf variables. \n",
    "\n",
    "Non-leaf variables’ gradients are not retained to be inspected later. This was done by design, to save memory."
   ]
  },
  {
   "cell_type": "code",
   "execution_count": 21,
   "metadata": {
    "colab": {
     "base_uri": "https://localhost:8080/",
     "height": 139
    },
    "executionInfo": {
     "elapsed": 4166,
     "status": "ok",
     "timestamp": 1602007676097,
     "user": {
      "displayName": "Lionel Fillatre",
      "photoUrl": "",
      "userId": "14463393848879581998"
     },
     "user_tz": -120
    },
    "id": "16KkidoigC-e",
    "outputId": "8278a4e1-ded8-4832-97e0-9688e8fe31d0"
   },
   "outputs": [
    {
     "name": "stdout",
     "output_type": "stream",
     "text": [
      "None\n",
      "None\n"
     ]
    },
    {
     "name": "stderr",
     "output_type": "stream",
     "text": [
      "/Users/dabasn/opt/anaconda3/lib/python3.7/site-packages/ipykernel_launcher.py:1: UserWarning: The .grad attribute of a Tensor that is not a leaf Tensor is being accessed. Its .grad attribute won't be populated during autograd.backward(). If you indeed want the gradient for a non-leaf Tensor, use .retain_grad() on the non-leaf Tensor. If you access the non-leaf Tensor by mistake, make sure you access the leaf Tensor instead. See github.com/pytorch/pytorch/pull/30531 for more informations.\n",
      "  \"\"\"Entry point for launching an IPython kernel.\n",
      "/Users/dabasn/opt/anaconda3/lib/python3.7/site-packages/ipykernel_launcher.py:2: UserWarning: The .grad attribute of a Tensor that is not a leaf Tensor is being accessed. Its .grad attribute won't be populated during autograd.backward(). If you indeed want the gradient for a non-leaf Tensor, use .retain_grad() on the non-leaf Tensor. If you access the non-leaf Tensor by mistake, make sure you access the leaf Tensor instead. See github.com/pytorch/pytorch/pull/30531 for more informations.\n",
      "  \n"
     ]
    }
   ],
   "source": [
    "print(y.grad)\n",
    "print(out.grad)"
   ]
  },
  {
   "cell_type": "code",
   "execution_count": 22,
   "metadata": {
    "colab": {
     "base_uri": "https://localhost:8080/",
     "height": 433
    },
    "executionInfo": {
     "elapsed": 4160,
     "status": "ok",
     "timestamp": 1602007676097,
     "user": {
      "displayName": "Lionel Fillatre",
      "photoUrl": "",
      "userId": "14463393848879581998"
     },
     "user_tz": -120
    },
    "id": "YSb96GMy5IdW",
    "outputId": "bf9e9eb9-d055-4b31-ee57-c5d949b9b9f1"
   },
   "outputs": [
    {
     "name": "stdout",
     "output_type": "stream",
     "text": [
      "tensor([[2., 2.],\n",
      "        [2., 2.]])\n",
      "tensor(10., grad_fn=<MeanBackward0>)\n"
     ]
    },
    {
     "data": {
      "image/svg+xml": [
       "<?xml version=\"1.0\" encoding=\"UTF-8\" standalone=\"no\"?>\n",
       "<!DOCTYPE svg PUBLIC \"-//W3C//DTD SVG 1.1//EN\"\n",
       " \"http://www.w3.org/Graphics/SVG/1.1/DTD/svg11.dtd\">\n",
       "<!-- Generated by graphviz version 2.44.1 (20200629.0846)\n",
       " -->\n",
       "<!-- Pages: 1 -->\n",
       "<svg width=\"140pt\" height=\"271pt\"\n",
       " viewBox=\"0.00 0.00 139.50 271.00\" xmlns=\"http://www.w3.org/2000/svg\" xmlns:xlink=\"http://www.w3.org/1999/xlink\">\n",
       "<g id=\"graph0\" class=\"graph\" transform=\"scale(1 1) rotate(0) translate(4 267)\">\n",
       "<polygon fill=\"white\" stroke=\"transparent\" points=\"-4,4 -4,-267 135.5,-267 135.5,4 -4,4\"/>\n",
       "<!-- 140219501891408 -->\n",
       "<g id=\"node1\" class=\"node\">\n",
       "<title>140219501891408</title>\n",
       "<polygon fill=\"#caff70\" stroke=\"black\" points=\"98,-21 0,-21 0,0 98,0 98,-21\"/>\n",
       "<text text-anchor=\"middle\" x=\"49\" y=\"-7.4\" font-family=\"Times,serif\" font-size=\"12.00\">MeanBackward0</text>\n",
       "</g>\n",
       "<!-- 140219501891344 -->\n",
       "<g id=\"node2\" class=\"node\">\n",
       "<title>140219501891344</title>\n",
       "<polygon fill=\"lightgrey\" stroke=\"black\" points=\"95,-78 3,-78 3,-57 95,-57 95,-78\"/>\n",
       "<text text-anchor=\"middle\" x=\"49\" y=\"-64.4\" font-family=\"Times,serif\" font-size=\"12.00\">AddBackward0</text>\n",
       "</g>\n",
       "<!-- 140219501891344&#45;&gt;140219501891408 -->\n",
       "<g id=\"edge1\" class=\"edge\">\n",
       "<title>140219501891344&#45;&gt;140219501891408</title>\n",
       "<path fill=\"none\" stroke=\"black\" d=\"M49,-56.92C49,-49.91 49,-40.14 49,-31.47\"/>\n",
       "<polygon fill=\"black\" stroke=\"black\" points=\"52.5,-31.34 49,-21.34 45.5,-31.34 52.5,-31.34\"/>\n",
       "</g>\n",
       "<!-- 140219501946896 -->\n",
       "<g id=\"node3\" class=\"node\">\n",
       "<title>140219501946896</title>\n",
       "<polygon fill=\"lightgrey\" stroke=\"black\" points=\"94.5,-135 3.5,-135 3.5,-114 94.5,-114 94.5,-135\"/>\n",
       "<text text-anchor=\"middle\" x=\"49\" y=\"-121.4\" font-family=\"Times,serif\" font-size=\"12.00\">MulBackward0</text>\n",
       "</g>\n",
       "<!-- 140219501946896&#45;&gt;140219501891344 -->\n",
       "<g id=\"edge2\" class=\"edge\">\n",
       "<title>140219501946896&#45;&gt;140219501891344</title>\n",
       "<path fill=\"none\" stroke=\"black\" d=\"M49,-113.92C49,-106.91 49,-97.14 49,-88.47\"/>\n",
       "<polygon fill=\"black\" stroke=\"black\" points=\"52.5,-88.34 49,-78.34 45.5,-88.34 52.5,-88.34\"/>\n",
       "</g>\n",
       "<!-- 140219501946640 -->\n",
       "<g id=\"node4\" class=\"node\">\n",
       "<title>140219501946640</title>\n",
       "<polygon fill=\"lightgrey\" stroke=\"black\" points=\"131.5,-192 40.5,-192 40.5,-171 131.5,-171 131.5,-192\"/>\n",
       "<text text-anchor=\"middle\" x=\"86\" y=\"-178.4\" font-family=\"Times,serif\" font-size=\"12.00\">MulBackward0</text>\n",
       "</g>\n",
       "<!-- 140219501946640&#45;&gt;140219501946896 -->\n",
       "<g id=\"edge3\" class=\"edge\">\n",
       "<title>140219501946640&#45;&gt;140219501946896</title>\n",
       "<path fill=\"none\" stroke=\"black\" d=\"M79.56,-170.92C74.52,-163.44 67.39,-152.83 61.27,-143.74\"/>\n",
       "<polygon fill=\"black\" stroke=\"black\" points=\"64.11,-141.68 55.62,-135.34 58.3,-145.59 64.11,-141.68\"/>\n",
       "</g>\n",
       "<!-- 140219501946448 -->\n",
       "<g id=\"node5\" class=\"node\">\n",
       "<title>140219501946448</title>\n",
       "<polygon fill=\"lightblue\" stroke=\"black\" points=\"113,-263 59,-263 59,-228 113,-228 113,-263\"/>\n",
       "<text text-anchor=\"middle\" x=\"86\" y=\"-235.4\" font-family=\"Times,serif\" font-size=\"12.00\"> (2, 2)</text>\n",
       "</g>\n",
       "<!-- 140219501946448&#45;&gt;140219501946896 -->\n",
       "<g id=\"edge6\" class=\"edge\">\n",
       "<title>140219501946448&#45;&gt;140219501946896</title>\n",
       "<path fill=\"none\" stroke=\"black\" d=\"M61.36,-227.8C50.15,-218.69 38.06,-206.33 32,-192 25.43,-176.45 31.33,-157.76 37.92,-144.15\"/>\n",
       "<polygon fill=\"black\" stroke=\"black\" points=\"41.04,-145.73 42.67,-135.26 34.87,-142.44 41.04,-145.73\"/>\n",
       "</g>\n",
       "<!-- 140219501946448&#45;&gt;140219501946640 -->\n",
       "<g id=\"edge4\" class=\"edge\">\n",
       "<title>140219501946448&#45;&gt;140219501946640</title>\n",
       "<path fill=\"none\" stroke=\"black\" d=\"M79.94,-227.89C79.12,-219.9 79.03,-210.29 79.68,-201.97\"/>\n",
       "<polygon fill=\"black\" stroke=\"black\" points=\"83.16,-202.38 80.97,-192.02 76.22,-201.49 83.16,-202.38\"/>\n",
       "</g>\n",
       "<!-- 140219501946448&#45;&gt;140219501946640 -->\n",
       "<g id=\"edge5\" class=\"edge\">\n",
       "<title>140219501946448&#45;&gt;140219501946640</title>\n",
       "<path fill=\"none\" stroke=\"black\" d=\"M92.06,-227.89C92.88,-219.9 92.97,-210.29 92.32,-201.97\"/>\n",
       "<polygon fill=\"black\" stroke=\"black\" points=\"95.78,-201.49 91.03,-192.02 88.84,-202.38 95.78,-201.49\"/>\n",
       "</g>\n",
       "</g>\n",
       "</svg>\n"
      ],
      "text/plain": [
       "<graphviz.dot.Digraph at 0x7f87659aa7d0>"
      ]
     },
     "execution_count": 22,
     "metadata": {},
     "output_type": "execute_result"
    }
   ],
   "source": [
    "x = 2 * torch.ones(2, 2)\n",
    "print(x)\n",
    "x.requires_grad_(True)\n",
    "out = (x * x * x + 2 ).mean()\n",
    "print(out)\n",
    "torchviz.make_dot(out)"
   ]
  },
  {
   "cell_type": "code",
   "execution_count": 23,
   "metadata": {
    "executionInfo": {
     "elapsed": 4156,
     "status": "ok",
     "timestamp": 1602007676098,
     "user": {
      "displayName": "Lionel Fillatre",
      "photoUrl": "",
      "userId": "14463393848879581998"
     },
     "user_tz": -120
    },
    "id": "AEPS2hMfgC-g"
   },
   "outputs": [],
   "source": [
    "out.backward(torch.tensor(2.0))"
   ]
  },
  {
   "cell_type": "markdown",
   "metadata": {
    "id": "_uzoqTqP7H2H"
   },
   "source": [
    "### Question: Explain mathematically the value of \"x.grad\" in the following cell"
   ]
  },
  {
   "cell_type": "code",
   "execution_count": 24,
   "metadata": {
    "colab": {
     "base_uri": "https://localhost:8080/",
     "height": 51
    },
    "executionInfo": {
     "elapsed": 4151,
     "status": "ok",
     "timestamp": 1602007676099,
     "user": {
      "displayName": "Lionel Fillatre",
      "photoUrl": "",
      "userId": "14463393848879581998"
     },
     "user_tz": -120
    },
    "id": "ngiu74HUgC-g",
    "outputId": "30fc3cb2-9af2-421e-dd45-393f53a81aca"
   },
   "outputs": [
    {
     "name": "stdout",
     "output_type": "stream",
     "text": [
      "tensor([[6., 6.],\n",
      "        [6., 6.]])\n"
     ]
    }
   ],
   "source": [
    "print(x.grad)"
   ]
  },
  {
   "cell_type": "markdown",
   "metadata": {
    "id": "ypBdAAq29Jcm"
   },
   "source": [
    "## How to compute the gradient when I want?\n",
    "\n"
   ]
  },
  {
   "cell_type": "code",
   "execution_count": 25,
   "metadata": {
    "colab": {
     "base_uri": "https://localhost:8080/",
     "height": 51
    },
    "executionInfo": {
     "elapsed": 4145,
     "status": "ok",
     "timestamp": 1602007676099,
     "user": {
      "displayName": "Lionel Fillatre",
      "photoUrl": "",
      "userId": "14463393848879581998"
     },
     "user_tz": -120
    },
    "id": "0QxJzcmqgC-h",
    "outputId": "83c106fa-8c59-44db-eb71-2297c335e22e"
   },
   "outputs": [
    {
     "name": "stdout",
     "output_type": "stream",
     "text": [
      "tensor([[4.5000, 4.5000],\n",
      "        [4.5000, 4.5000]])\n"
     ]
    }
   ],
   "source": [
    "x = torch.ones(2, 2)\n",
    "x.requires_grad_(True)\n",
    "y = x+2\n",
    "z = 3 * y ** 2 \n",
    "out = z.mean()\n",
    "\n",
    "out.backward(retain_graph=True)\n",
    "\n",
    "print(x.grad)"
   ]
  },
  {
   "cell_type": "markdown",
   "metadata": {
    "id": "UPWKUoHo9rwC"
   },
   "source": [
    "Calling again the \"backward\" process does not launch an error"
   ]
  },
  {
   "cell_type": "code",
   "execution_count": 26,
   "metadata": {
    "executionInfo": {
     "elapsed": 4140,
     "status": "ok",
     "timestamp": 1602007676100,
     "user": {
      "displayName": "Lionel Fillatre",
      "photoUrl": "",
      "userId": "14463393848879581998"
     },
     "user_tz": -120
    },
    "id": "SNbrrv30gC-l"
   },
   "outputs": [],
   "source": [
    "out.backward(retain_graph=True)"
   ]
  },
  {
   "cell_type": "code",
   "execution_count": 27,
   "metadata": {
    "colab": {
     "base_uri": "https://localhost:8080/",
     "height": 51
    },
    "executionInfo": {
     "elapsed": 4136,
     "status": "ok",
     "timestamp": 1602007676101,
     "user": {
      "displayName": "Lionel Fillatre",
      "photoUrl": "",
      "userId": "14463393848879581998"
     },
     "user_tz": -120
    },
    "id": "20hB_GAkgC-i",
    "outputId": "0f094ed4-735d-4077-dcde-ea3b3fc455e3"
   },
   "outputs": [
    {
     "name": "stdout",
     "output_type": "stream",
     "text": [
      "tensor([[9., 9.],\n",
      "        [9., 9.]])\n"
     ]
    }
   ],
   "source": [
    "print(x.grad)"
   ]
  },
  {
   "cell_type": "code",
   "execution_count": 28,
   "metadata": {
    "colab": {
     "base_uri": "https://localhost:8080/",
     "height": 34
    },
    "executionInfo": {
     "elapsed": 4131,
     "status": "ok",
     "timestamp": 1602007676102,
     "user": {
      "displayName": "Lionel Fillatre",
      "photoUrl": "",
      "userId": "14463393848879581998"
     },
     "user_tz": -120
    },
    "id": "gXuFJckx-FFf",
    "outputId": "c6e370be-e71f-4e29-c910-f475206a524f"
   },
   "outputs": [
    {
     "data": {
      "text/plain": [
       "(tensor(1.),)"
      ]
     },
     "execution_count": 28,
     "metadata": {},
     "output_type": "execute_result"
    }
   ],
   "source": [
    "torch.autograd.grad(out, out, retain_graph=True)"
   ]
  },
  {
   "cell_type": "code",
   "execution_count": 29,
   "metadata": {
    "colab": {
     "base_uri": "https://localhost:8080/",
     "height": 51
    },
    "executionInfo": {
     "elapsed": 4126,
     "status": "ok",
     "timestamp": 1602007676102,
     "user": {
      "displayName": "Lionel Fillatre",
      "photoUrl": "",
      "userId": "14463393848879581998"
     },
     "user_tz": -120
    },
    "id": "swHcxn-CgC-j",
    "outputId": "dda2d28d-9393-4263-dd0d-cf88f5b96999"
   },
   "outputs": [
    {
     "data": {
      "text/plain": [
       "(tensor([[0.2500, 0.2500],\n",
       "         [0.2500, 0.2500]]),)"
      ]
     },
     "execution_count": 29,
     "metadata": {},
     "output_type": "execute_result"
    }
   ],
   "source": [
    "torch.autograd.grad(out, z, retain_graph=True)"
   ]
  },
  {
   "cell_type": "code",
   "execution_count": 30,
   "metadata": {
    "colab": {
     "base_uri": "https://localhost:8080/",
     "height": 51
    },
    "executionInfo": {
     "elapsed": 4121,
     "status": "ok",
     "timestamp": 1602007676103,
     "user": {
      "displayName": "Lionel Fillatre",
      "photoUrl": "",
      "userId": "14463393848879581998"
     },
     "user_tz": -120
    },
    "id": "M_Ko7_y1gC-k",
    "outputId": "398eafac-96d2-444e-b3b8-6f8506a37b2c"
   },
   "outputs": [
    {
     "data": {
      "text/plain": [
       "(tensor([[4.5000, 4.5000],\n",
       "         [4.5000, 4.5000]]),)"
      ]
     },
     "execution_count": 30,
     "metadata": {},
     "output_type": "execute_result"
    }
   ],
   "source": [
    "torch.autograd.grad(out, y, retain_graph=True)"
   ]
  },
  {
   "cell_type": "code",
   "execution_count": 31,
   "metadata": {
    "executionInfo": {
     "elapsed": 4113,
     "status": "ok",
     "timestamp": 1602007676103,
     "user": {
      "displayName": "Lionel Fillatre",
      "photoUrl": "",
      "userId": "14463393848879581998"
     },
     "user_tz": -120
    },
    "id": "OvjmLzDAgC-m"
   },
   "outputs": [],
   "source": [
    "out.backward(torch.tensor(2.0), retain_graph=True)"
   ]
  },
  {
   "cell_type": "code",
   "execution_count": 32,
   "metadata": {
    "colab": {
     "base_uri": "https://localhost:8080/",
     "height": 51
    },
    "executionInfo": {
     "elapsed": 4109,
     "status": "ok",
     "timestamp": 1602007676104,
     "user": {
      "displayName": "Lionel Fillatre",
      "photoUrl": "",
      "userId": "14463393848879581998"
     },
     "user_tz": -120
    },
    "id": "gctEXtYhgC-n",
    "outputId": "caf984db-88f4-4c3e-cd32-03422c106dac"
   },
   "outputs": [
    {
     "name": "stdout",
     "output_type": "stream",
     "text": [
      "tensor([[18., 18.],\n",
      "        [18., 18.]])\n"
     ]
    }
   ],
   "source": [
    "print(x.grad)"
   ]
  },
  {
   "cell_type": "markdown",
   "metadata": {
    "id": "vBtNQ8By_Aao"
   },
   "source": [
    "## A last example"
   ]
  },
  {
   "cell_type": "code",
   "execution_count": 33,
   "metadata": {
    "colab": {
     "base_uri": "https://localhost:8080/",
     "height": 323
    },
    "executionInfo": {
     "elapsed": 4104,
     "status": "ok",
     "timestamp": 1602007676105,
     "user": {
      "displayName": "Lionel Fillatre",
      "photoUrl": "",
      "userId": "14463393848879581998"
     },
     "user_tz": -120
    },
    "id": "Q_gpAR_6l_BC",
    "outputId": "78b2904d-a877-44a4-d961-4d9165482eed"
   },
   "outputs": [
    {
     "name": "stdout",
     "output_type": "stream",
     "text": [
      "tensor([5., 5., 5., 5., 5., 5., 5., 5., 5., 5.])\n"
     ]
    },
    {
     "data": {
      "image/svg+xml": [
       "<?xml version=\"1.0\" encoding=\"UTF-8\" standalone=\"no\"?>\n",
       "<!DOCTYPE svg PUBLIC \"-//W3C//DTD SVG 1.1//EN\"\n",
       " \"http://www.w3.org/Graphics/SVG/1.1/DTD/svg11.dtd\">\n",
       "<!-- Generated by graphviz version 2.44.1 (20200629.0846)\n",
       " -->\n",
       "<!-- Pages: 1 -->\n",
       "<svg width=\"212pt\" height=\"214pt\"\n",
       " viewBox=\"0.00 0.00 212.00 214.00\" xmlns=\"http://www.w3.org/2000/svg\" xmlns:xlink=\"http://www.w3.org/1999/xlink\">\n",
       "<g id=\"graph0\" class=\"graph\" transform=\"scale(1 1) rotate(0) translate(4 210)\">\n",
       "<polygon fill=\"white\" stroke=\"transparent\" points=\"-4,4 -4,-210 208,-210 208,4 -4,4\"/>\n",
       "<!-- 140219501947280 -->\n",
       "<g id=\"node1\" class=\"node\">\n",
       "<title>140219501947280</title>\n",
       "<polygon fill=\"#caff70\" stroke=\"black\" points=\"148,-21 55,-21 55,0 148,0 148,-21\"/>\n",
       "<text text-anchor=\"middle\" x=\"101.5\" y=\"-7.4\" font-family=\"Times,serif\" font-size=\"12.00\">SumBackward0</text>\n",
       "</g>\n",
       "<!-- 140219501946064 -->\n",
       "<g id=\"node2\" class=\"node\">\n",
       "<title>140219501946064</title>\n",
       "<polygon fill=\"lightgrey\" stroke=\"black\" points=\"147.5,-78 55.5,-78 55.5,-57 147.5,-57 147.5,-78\"/>\n",
       "<text text-anchor=\"middle\" x=\"101.5\" y=\"-64.4\" font-family=\"Times,serif\" font-size=\"12.00\">AddBackward0</text>\n",
       "</g>\n",
       "<!-- 140219501946064&#45;&gt;140219501947280 -->\n",
       "<g id=\"edge1\" class=\"edge\">\n",
       "<title>140219501946064&#45;&gt;140219501947280</title>\n",
       "<path fill=\"none\" stroke=\"black\" d=\"M101.5,-56.92C101.5,-49.91 101.5,-40.14 101.5,-31.47\"/>\n",
       "<polygon fill=\"black\" stroke=\"black\" points=\"105,-31.34 101.5,-21.34 98,-31.34 105,-31.34\"/>\n",
       "</g>\n",
       "<!-- 140219501996304 -->\n",
       "<g id=\"node3\" class=\"node\">\n",
       "<title>140219501996304</title>\n",
       "<polygon fill=\"lightgrey\" stroke=\"black\" points=\"93,-135 0,-135 0,-114 93,-114 93,-135\"/>\n",
       "<text text-anchor=\"middle\" x=\"46.5\" y=\"-121.4\" font-family=\"Times,serif\" font-size=\"12.00\">PowBackward0</text>\n",
       "</g>\n",
       "<!-- 140219501996304&#45;&gt;140219501946064 -->\n",
       "<g id=\"edge2\" class=\"edge\">\n",
       "<title>140219501996304&#45;&gt;140219501946064</title>\n",
       "<path fill=\"none\" stroke=\"black\" d=\"M56.08,-113.92C63.87,-106.13 75.06,-94.94 84.38,-85.62\"/>\n",
       "<polygon fill=\"black\" stroke=\"black\" points=\"87.06,-87.89 91.66,-78.34 82.11,-82.94 87.06,-87.89\"/>\n",
       "</g>\n",
       "<!-- 140219501996176 -->\n",
       "<g id=\"node4\" class=\"node\">\n",
       "<title>140219501996176</title>\n",
       "<polygon fill=\"lightblue\" stroke=\"black\" points=\"128.5,-206 74.5,-206 74.5,-171 128.5,-171 128.5,-206\"/>\n",
       "<text text-anchor=\"middle\" x=\"101.5\" y=\"-178.4\" font-family=\"Times,serif\" font-size=\"12.00\"> (10)</text>\n",
       "</g>\n",
       "<!-- 140219501996176&#45;&gt;140219501996304 -->\n",
       "<g id=\"edge3\" class=\"edge\">\n",
       "<title>140219501996176&#45;&gt;140219501996304</title>\n",
       "<path fill=\"none\" stroke=\"black\" d=\"M86.76,-170.89C79.04,-162.19 69.61,-151.55 61.81,-142.76\"/>\n",
       "<polygon fill=\"black\" stroke=\"black\" points=\"64.2,-140.18 54.94,-135.02 58.96,-144.82 64.2,-140.18\"/>\n",
       "</g>\n",
       "<!-- 140219501996368 -->\n",
       "<g id=\"node5\" class=\"node\">\n",
       "<title>140219501996368</title>\n",
       "<polygon fill=\"lightgrey\" stroke=\"black\" points=\"204,-135 111,-135 111,-114 204,-114 204,-135\"/>\n",
       "<text text-anchor=\"middle\" x=\"157.5\" y=\"-121.4\" font-family=\"Times,serif\" font-size=\"12.00\">PowBackward0</text>\n",
       "</g>\n",
       "<!-- 140219501996176&#45;&gt;140219501996368 -->\n",
       "<g id=\"edge5\" class=\"edge\">\n",
       "<title>140219501996176&#45;&gt;140219501996368</title>\n",
       "<path fill=\"none\" stroke=\"black\" d=\"M116.51,-170.89C124.44,-162.1 134.17,-151.33 142.16,-142.48\"/>\n",
       "<polygon fill=\"black\" stroke=\"black\" points=\"144.8,-144.78 148.9,-135.02 139.6,-140.09 144.8,-144.78\"/>\n",
       "</g>\n",
       "<!-- 140219501996368&#45;&gt;140219501946064 -->\n",
       "<g id=\"edge4\" class=\"edge\">\n",
       "<title>140219501996368&#45;&gt;140219501946064</title>\n",
       "<path fill=\"none\" stroke=\"black\" d=\"M147.75,-113.92C139.81,-106.13 128.42,-94.94 118.93,-85.62\"/>\n",
       "<polygon fill=\"black\" stroke=\"black\" points=\"121.11,-82.85 111.52,-78.34 116.2,-87.85 121.11,-82.85\"/>\n",
       "</g>\n",
       "</g>\n",
       "</svg>\n"
      ],
      "text/plain": [
       "<graphviz.dot.Digraph at 0x7f87659b6810>"
      ]
     },
     "execution_count": 33,
     "metadata": {},
     "output_type": "execute_result"
    }
   ],
   "source": [
    "x=torch.ones(10, requires_grad=True)\n",
    "\n",
    "y=x**2\n",
    "z=x**3\n",
    "r=(y+z).sum()\n",
    "\n",
    "r.backward()\n",
    "print(x.grad)\n",
    "torchviz.make_dot(r) "
   ]
  },
  {
   "cell_type": "markdown",
   "metadata": {
    "id": "kTN0-Pm0gC-o"
   },
   "source": [
    "## Gradient accumulation\n",
    "\n",
    "\n",
    "The gradients must be set to zero manually. Otherwise they will cumulate across several _.backward()_ calls. \n",
    "This accumulating behavior is desirable in particular to compute the gradient of a loss summed over several “mini-batches,” or the gradient of a sum of losses.\n"
   ]
  },
  {
   "cell_type": "code",
   "execution_count": 34,
   "metadata": {
    "colab": {
     "base_uri": "https://localhost:8080/",
     "height": 34
    },
    "executionInfo": {
     "elapsed": 4098,
     "status": "ok",
     "timestamp": 1602007676105,
     "user": {
      "displayName": "Lionel Fillatre",
      "photoUrl": "",
      "userId": "14463393848879581998"
     },
     "user_tz": -120
    },
    "id": "ELCAEIdv_G3X",
    "outputId": "c3526f9b-ddf2-46ca-eb7e-708d80f455e3"
   },
   "outputs": [
    {
     "name": "stdout",
     "output_type": "stream",
     "text": [
      "tensor([[4.]], grad_fn=<PowBackward0>)\n"
     ]
    }
   ],
   "source": [
    "x = torch.ones(1, 1,requires_grad = True)\n",
    "out = (x+1)**2\n",
    "print(out)"
   ]
  },
  {
   "cell_type": "code",
   "execution_count": 35,
   "metadata": {
    "colab": {
     "base_uri": "https://localhost:8080/",
     "height": 68
    },
    "executionInfo": {
     "elapsed": 4094,
     "status": "ok",
     "timestamp": 1602007676106,
     "user": {
      "displayName": "Lionel Fillatre",
      "photoUrl": "",
      "userId": "14463393848879581998"
     },
     "user_tz": -120
    },
    "id": "lG7OEaY7gC-o",
    "outputId": "728e3dcc-9674-4af4-9528-5a9a354509d1"
   },
   "outputs": [
    {
     "name": "stdout",
     "output_type": "stream",
     "text": [
      "tensor([[4.]])\n",
      "tensor([[12.]])\n",
      "tensor([[16.]])\n"
     ]
    }
   ],
   "source": [
    "out.backward(torch.ones(1,1),retain_graph=True)\n",
    "print(x.grad)\n",
    "out.backward(2 * torch.ones(1,1),retain_graph=True)\n",
    "print(x.grad)\n",
    "out.backward(retain_graph=True)\n",
    "print(x.grad)"
   ]
  },
  {
   "cell_type": "code",
   "execution_count": 36,
   "metadata": {
    "colab": {
     "base_uri": "https://localhost:8080/",
     "height": 34
    },
    "executionInfo": {
     "elapsed": 4088,
     "status": "ok",
     "timestamp": 1602007676106,
     "user": {
      "displayName": "Lionel Fillatre",
      "photoUrl": "",
      "userId": "14463393848879581998"
     },
     "user_tz": -120
    },
    "id": "64bGfnYegC-n",
    "outputId": "3a43eb16-db3a-49ea-8fe9-f6fcdc321a3f"
   },
   "outputs": [
    {
     "data": {
      "text/plain": [
       "tensor([[0.]])"
      ]
     },
     "execution_count": 36,
     "metadata": {},
     "output_type": "execute_result"
    }
   ],
   "source": [
    "# Manually zero the gradients after updating weights\n",
    "x.grad.data.zero_()"
   ]
  },
  {
   "cell_type": "code",
   "execution_count": 37,
   "metadata": {
    "colab": {
     "base_uri": "https://localhost:8080/",
     "height": 68
    },
    "executionInfo": {
     "elapsed": 4083,
     "status": "ok",
     "timestamp": 1602007676107,
     "user": {
      "displayName": "Lionel Fillatre",
      "photoUrl": "",
      "userId": "14463393848879581998"
     },
     "user_tz": -120
    },
    "id": "-7XNSIw9gC-p",
    "outputId": "7546625f-fe3f-43e2-c94b-bdbe07dd1f6b"
   },
   "outputs": [
    {
     "name": "stdout",
     "output_type": "stream",
     "text": [
      "tensor([[4.]])\n",
      "tensor([[8.]])\n",
      "tensor([[4.]])\n"
     ]
    }
   ],
   "source": [
    "out.backward(torch.ones(1,1),retain_graph=True)\n",
    "print(x.grad)\n",
    "x.grad.data.zero_()\n",
    "out.backward(2 * torch.ones(1,1),retain_graph=True)\n",
    "print(x.grad)\n",
    "x.grad.data.zero_()\n",
    "out.backward(retain_graph=True)\n",
    "print(x.grad)\n"
   ]
  },
  {
   "cell_type": "markdown",
   "metadata": {
    "id": "E-03ZcQggC-p"
   },
   "source": [
    "If you want to come back to the difference between detach and data see [Differences between .data and .detach](https://github.com/pytorch/pytorch/issues/6990)"
   ]
  },
  {
   "cell_type": "markdown",
   "metadata": {
    "collapsed": true,
    "id": "yTdzGEodgC-p"
   },
   "source": [
    "# Playing with a neural network in pytorch: non-linear regression"
   ]
  },
  {
   "cell_type": "markdown",
   "metadata": {
    "id": "VMoz9H5VuC5B"
   },
   "source": [
    "## Non-linear regression with a neural network"
   ]
  },
  {
   "cell_type": "markdown",
   "metadata": {
    "id": "cZsTaZ2NgC-z"
   },
   "source": [
    "An implementation of **(Batch) Gradient Descent** using the nn package. Here we have a super simple model with only one layer and no activation function!"
   ]
  },
  {
   "cell_type": "markdown",
   "metadata": {
    "id": "DDMmHyHmJfRC"
   },
   "source": [
    "Generate the dataset and visualize it."
   ]
  },
  {
   "cell_type": "code",
   "execution_count": 38,
   "metadata": {
    "colab": {
     "base_uri": "https://localhost:8080/",
     "height": 248
    },
    "executionInfo": {
     "elapsed": 4352,
     "status": "ok",
     "timestamp": 1602007676381,
     "user": {
      "displayName": "Lionel Fillatre",
      "photoUrl": "",
      "userId": "14463393848879581998"
     },
     "user_tz": -120
    },
    "id": "-mSHFwP337eD",
    "outputId": "c458dca9-bfa2-4bb7-9510-c14972af88e9"
   },
   "outputs": [
    {
     "data": {
      "image/png": "[encoded data removed]",
      "text/plain": [
       "<Figure size 432x288 with 2 Axes>"
      ]
     },
     "metadata": {
      "needs_background": "light"
     },
     "output_type": "display_data"
    }
   ],
   "source": [
    "from mpl_toolkits.mplot3d import Axes3D\n",
    "import matplotlib.pyplot as plt\n",
    "from matplotlib import cm\n",
    "from matplotlib.ticker import LinearLocator, FormatStrFormatter\n",
    "import numpy as np\n",
    "\n",
    "\n",
    "# Make data\n",
    "num_samples = 10\n",
    "X1 = np.linspace(-5, 5, num_samples) \n",
    "X2 = np.linspace(-5, 5, num_samples) \n",
    "X1grid, X2grid = np.meshgrid(X1, X2)\n",
    "Y = -(0.1*X1grid**2 + 3*np.sin(0.1*X2grid) + 0.1) \n",
    "\n",
    "#print(X1grid)\n",
    "#print(X2grid)\n",
    "#print(Y)\n",
    "\n",
    "# Plot the surface.\n",
    "fig = plt.figure()\n",
    "ax = fig.gca(projection='3d')\n",
    "surf = ax.plot_surface(X1grid, X2grid, Y, cmap=cm.coolwarm,\n",
    "                       linewidth=0, antialiased=False)\n",
    "\n",
    "# Add a color bar which maps values to colors.\n",
    "fig.colorbar(surf, shrink=0.5, aspect=5)\n",
    "plt.show()"
   ]
  },
  {
   "cell_type": "code",
   "execution_count": 39,
   "metadata": {
    "colab": {
     "base_uri": "https://localhost:8080/",
     "height": 68
    },
    "executionInfo": {
     "elapsed": 4347,
     "status": "ok",
     "timestamp": 1602007676382,
     "user": {
      "displayName": "Lionel Fillatre",
      "photoUrl": "",
      "userId": "14463393848879581998"
     },
     "user_tz": -120
    },
    "id": "MMu65iQ17nPp",
    "outputId": "b463f8e8-b63c-418f-b587-f8ad9c26c469"
   },
   "outputs": [
    {
     "name": "stdout",
     "output_type": "stream",
     "text": [
      "(100, 2)\n",
      "(100, 1)\n",
      "torch.Size([100, 2])\n"
     ]
    }
   ],
   "source": [
    "x1n = X1grid.ravel().reshape(-1, 1)\n",
    "x2n = X2grid.ravel().reshape(-1, 1)\n",
    "xn = np.concatenate((x1n,x2n),axis=1)\n",
    "yn = Y.ravel().reshape(-1, 1)\n",
    "#print(x1n.shape)\n",
    "#print(x2n.shape)\n",
    "print(xn.shape)\n",
    "print(yn.shape)\n",
    "\n",
    "# Convert in pytorch tensors\n",
    "x = torch.from_numpy(xn).float()\n",
    "y = torch.from_numpy(yn).float()\n",
    "#print(x)\n",
    "#print(y)\n",
    "print(x.shape)"
   ]
  },
  {
   "cell_type": "markdown",
   "metadata": {
    "id": "CkcyFiacL8fH"
   },
   "source": [
    "## Neural network with full implementation (gradient computation and estimate update)"
   ]
  },
  {
   "cell_type": "code",
   "execution_count": 40,
   "metadata": {
    "colab": {
     "base_uri": "https://localhost:8080/",
     "height": 204
    },
    "executionInfo": {
     "elapsed": 7337,
     "status": "ok",
     "timestamp": 1602007679378,
     "user": {
      "displayName": "Lionel Fillatre",
      "photoUrl": "",
      "userId": "14463393848879581998"
     },
     "user_tz": -120
    },
    "id": "T4se-BEixM3Z",
    "outputId": "1530d4ad-ef97-44b1-aad8-1122b95fdf9e"
   },
   "outputs": [
    {
     "name": "stdout",
     "output_type": "stream",
     "text": [
      "0 32583.9453125\n",
      "1000 65.16925811767578\n",
      "2000 18.297718048095703\n",
      "3000 12.268189430236816\n",
      "4000 10.254618644714355\n",
      "5000 9.116436004638672\n",
      "6000 8.245168685913086\n",
      "7000 7.6475629806518555\n",
      "8000 7.157735824584961\n",
      "9000 6.800853729248047\n",
      "10000 6.531267166137695\n"
     ]
    }
   ],
   "source": [
    "import torch\n",
    "\n",
    "dtype = torch.float\n",
    "\n",
    "\n",
    "# N is batch size; D_in is input dimension;\n",
    "# H is hidden dimension; D_out is output dimension.\n",
    "N, D_in, H, D_out = num_samples**2, 2, 100, 1\n",
    "\n",
    "# Randomly initialize weights\n",
    "w1 = torch.randn(D_in, H, dtype=dtype)\n",
    "w2 = torch.randn(H, D_out,  dtype=dtype)\n",
    "\n",
    "learning_rate = 1e-6 \n",
    "for t in range(10001):\n",
    "    # Forward pass: compute predicted y\n",
    "    h = x.mm(w1)\n",
    "    \n",
    "    h_relu = h.clamp(min=0)\n",
    "    y_pred = h_relu.mm(w2)\n",
    "    #print(y_pred)\n",
    "\n",
    "    # Compute and print loss\n",
    "    loss = (y_pred - y).pow(2).sum().item()\n",
    "    if t % 1000 == 0:\n",
    "        print(t, loss)\n",
    "\n",
    "    # Backprop to compute gradients of w1 and w2 with respect to loss\n",
    "    grad_y_pred = 2.0 * (y_pred - y)\n",
    "    grad_w2 = h_relu.t().mm(grad_y_pred)\n",
    "    grad_h_relu = grad_y_pred.mm(w2.t())\n",
    "    grad_h = grad_h_relu.clone()\n",
    "    grad_h[h < 0] = 0\n",
    "    grad_w1 = x.t().mm(grad_h)\n",
    "\n",
    "    # Update weights using gradient descent\n",
    "    w1 -= learning_rate * grad_w1\n",
    "    w2 -= learning_rate * grad_w2"
   ]
  },
  {
   "cell_type": "markdown",
   "metadata": {
    "id": "xhipoBZvJJz7"
   },
   "source": [
    "Compare the first values"
   ]
  },
  {
   "cell_type": "code",
   "execution_count": 41,
   "metadata": {
    "colab": {
     "base_uri": "https://localhost:8080/",
     "height": 187
    },
    "executionInfo": {
     "elapsed": 7332,
     "status": "ok",
     "timestamp": 1602007679379,
     "user": {
      "displayName": "Lionel Fillatre",
      "photoUrl": "",
      "userId": "14463393848879581998"
     },
     "user_tz": -120
    },
    "id": "RDBc5npAAHzN",
    "outputId": "8ab83817-50fc-4941-f215-6a12b233a406"
   },
   "outputs": [
    {
     "name": "stdout",
     "output_type": "stream",
     "text": [
      "tensor([[-1.1617],\n",
      "        [-0.1741],\n",
      "        [ 0.5667],\n",
      "        [ 1.0605],\n",
      "        [ 1.3074]])\n",
      "tensor([[-0.7644],\n",
      "        [ 0.1895],\n",
      "        [ 0.3265],\n",
      "        [ 1.1442],\n",
      "        [ 1.3715]])\n"
     ]
    }
   ],
   "source": [
    "print(y[0:5])\n",
    "print(y_pred[0:5])"
   ]
  },
  {
   "cell_type": "markdown",
   "metadata": {
    "id": "xA3rUb9XIhCc"
   },
   "source": [
    "Plot the approximation in 1D"
   ]
  },
  {
   "cell_type": "code",
   "execution_count": 42,
   "metadata": {
    "executionInfo": {
     "elapsed": 7328,
     "status": "ok",
     "timestamp": 1602007679380,
     "user": {
      "displayName": "Lionel Fillatre",
      "photoUrl": "",
      "userId": "14463393848879581998"
     },
     "user_tz": -120
    },
    "id": "q2rQUIq1OiiH"
   },
   "outputs": [],
   "source": [
    "def plotApproximation(y,y_pred):\n",
    "  plt.figure(figsize=(6, 4))\n",
    "  plt.plot(y.detach().numpy(),'b-')\n",
    "  plt.plot(y_pred.detach().numpy(),'r-*')\n",
    "  plt.xlabel('$x$')\n",
    "  plt.ylabel('$y$')\n",
    "  plt.title('Approximation with the neural network')\n",
    "  plt.show()"
   ]
  },
  {
   "cell_type": "code",
   "execution_count": 43,
   "metadata": {
    "colab": {
     "base_uri": "https://localhost:8080/",
     "height": 295
    },
    "executionInfo": {
     "elapsed": 7730,
     "status": "ok",
     "timestamp": 1602007679789,
     "user": {
      "displayName": "Lionel Fillatre",
      "photoUrl": "",
      "userId": "14463393848879581998"
     },
     "user_tz": -120
    },
    "id": "ibZbvbe3Otom",
    "outputId": "fa2c8b07-5ffb-4571-d928-bffbcc29811f"
   },
   "outputs": [
    {
     "data": {
      "image/png": "[encoded data removed]",
      "text/plain": [
       "<Figure size 432x288 with 1 Axes>"
      ]
     },
     "metadata": {
      "needs_background": "light"
     },
     "output_type": "display_data"
    }
   ],
   "source": [
    "plotApproximation(y,y_pred)"
   ]
  },
  {
   "cell_type": "code",
   "execution_count": 44,
   "metadata": {
    "colab": {
     "base_uri": "https://localhost:8080/",
     "height": 295
    },
    "executionInfo": {
     "elapsed": 7723,
     "status": "ok",
     "timestamp": 1602007679790,
     "user": {
      "displayName": "Lionel Fillatre",
      "photoUrl": "",
      "userId": "14463393848879581998"
     },
     "user_tz": -120
    },
    "id": "VzSSkdQq0sXr",
    "outputId": "29a65f1a-9baf-4ed8-ee64-cfdd073e495d"
   },
   "outputs": [
    {
     "data": {
      "image/png": "[encoded data removed]",
      "text/plain": [
       "<Figure size 432x288 with 1 Axes>"
      ]
     },
     "metadata": {
      "needs_background": "light"
     },
     "output_type": "display_data"
    }
   ],
   "source": [
    "plt.figure(figsize=(6, 4))\n",
    "plt.plot(y.numpy()-y_pred.numpy())\n",
    "plt.title('Residuals')\n",
    "plt.xlabel('$x$')\n",
    "plt.ylabel('$y-\\hat{y}$')\n",
    "plt.show()"
   ]
  },
  {
   "cell_type": "markdown",
   "metadata": {
    "id": "Fqw-HzS5gC-0"
   },
   "source": [
    "Last step, we use directly the optim package to update the weights and bias."
   ]
  },
  {
   "cell_type": "markdown",
   "metadata": {
    "id": "cKkd4LMWvX93"
   },
   "source": [
    "## Neural network with automatic gradient computation (but still the explicit estimate update)\n",
    "\n",
    "\n",
    "A fully-connected ReLU network with one hidden layer, trained to predict y from x\n",
    "by minimizing squared Euclidean distance.\n",
    "\n",
    "This implementation uses the nn package from PyTorch to build the network.\n",
    "PyTorch autograd makes it easy to define computational graphs and take gradients,\n",
    "but raw autograd can be a bit too low-level for defining complex neural networks;\n",
    "this is where the nn package can help. The nn package defines a set of Modules,\n",
    "which you can think of as a neural network layer that has produces output from\n",
    "input and may have some trainable weights."
   ]
  },
  {
   "cell_type": "markdown",
   "metadata": {
    "id": "9aqqho33M21_"
   },
   "source": [
    "### Question: use autograd to compute the gradient. You can start from the full implementation of the neural network."
   ]
  },
  {
   "cell_type": "code",
   "execution_count": 45,
   "metadata": {
    "colab": {
     "base_uri": "https://localhost:8080/",
     "height": 204
    },
    "executionInfo": {
     "elapsed": 11793,
     "status": "ok",
     "timestamp": 1602007683865,
     "user": {
      "displayName": "Lionel Fillatre",
      "photoUrl": "",
      "userId": "14463393848879581998"
     },
     "user_tz": -120
    },
    "id": "9gm8w-aJvb0f",
    "outputId": "6bd9b119-9788-4e00-ea08-baa5d28a23ed"
   },
   "outputs": [
    {
     "name": "stdout",
     "output_type": "stream",
     "text": [
      "0 322.15771484375\n",
      "1000 21.42672348022461\n",
      "2000 10.674004554748535\n",
      "3000 7.112738132476807\n",
      "4000 5.710399150848389\n",
      "5000 4.9998064041137695\n",
      "6000 4.544832706451416\n",
      "7000 4.208558559417725\n",
      "8000 3.9431662559509277\n",
      "9000 3.726952075958252\n",
      "10000 3.548969030380249\n"
     ]
    }
   ],
   "source": [
    "import torch\n",
    "\n",
    "# N is batch size; D_in is input dimension;\n",
    "# H is hidden dimension; D_out is output dimension.\n",
    "N, D_in, H, D_out = num_samples**2, 2, 100, 1\n",
    "\n",
    "# Use the nn package to define our model as a sequence of layers. nn.Sequential\n",
    "# is a Module which contains other Modules, and applies them in sequence to\n",
    "# produce its output. Each Linear Module computes output from input using a\n",
    "# linear function, and holds internal Tensors for its weight and bias.\n",
    "model = torch.nn.Sequential(\n",
    "    torch.nn.Linear(D_in, H),\n",
    "    torch.nn.ReLU(),\n",
    "    torch.nn.Linear(H, D_out),\n",
    ")\n",
    "\n",
    "# The nn package also contains definitions of popular loss functions; in this\n",
    "# case we will use Mean Squared Error (MSE) as our loss function.\n",
    "loss_fn = torch.nn.MSELoss(reduction='sum')\n",
    "\n",
    "learning_rate = 1e-6\n",
    "for t in range(10001):\n",
    "    # Forward pass: compute predicted y by passing x to the model. Module objects\n",
    "    # override the __call__ operator so you can call them like functions. When\n",
    "    # doing so you pass a Tensor of input data to the Module and it produces\n",
    "    # a Tensor of output data.\n",
    "    y_pred = model(x)\n",
    "\n",
    "    # Compute and print loss. We pass Tensors containing the predicted and true\n",
    "    # values of y, and the loss function returns a Tensor containing the\n",
    "    # loss.\n",
    "    loss = loss_fn(y_pred, y)\n",
    "    if t % 1000 == 0:\n",
    "        print(t, loss.item())\n",
    "\n",
    "    # Zero the gradients before running the backward pass.\n",
    "    model.zero_grad()\n",
    "\n",
    "    # Backward pass: compute gradient of the loss with respect to all the learnable\n",
    "    # parameters of the model. Internally, the parameters of each Module are stored\n",
    "    # in Tensors with requires_grad=True, so this call will compute gradients for\n",
    "    # all learnable parameters in the model.\n",
    "    loss.backward()\n",
    "\n",
    "    # Update the weights using gradient descent. Each parameter is a Tensor, so\n",
    "    # we can access its gradients like we did before.\n",
    "    with torch.no_grad():\n",
    "        for param in model.parameters():\n",
    "            param -= learning_rate * param.grad"
   ]
  },
  {
   "cell_type": "code",
   "execution_count": 46,
   "metadata": {
    "colab": {
     "base_uri": "https://localhost:8080/",
     "height": 295
    },
    "executionInfo": {
     "elapsed": 12295,
     "status": "ok",
     "timestamp": 1602007684373,
     "user": {
      "displayName": "Lionel Fillatre",
      "photoUrl": "",
      "userId": "14463393848879581998"
     },
     "user_tz": -120
    },
    "id": "j828Mw1pO_H1",
    "outputId": "b73d6c57-8f64-4021-b198-d29cd6d7ebb5"
   },
   "outputs": [
    {
     "data": {
      "image/png": "[encoded data removed]",
      "text/plain": [
       "<Figure size 432x288 with 1 Axes>"
      ]
     },
     "metadata": {
      "needs_background": "light"
     },
     "output_type": "display_data"
    }
   ],
   "source": [
    "plotApproximation(y,y_pred)"
   ]
  },
  {
   "cell_type": "markdown",
   "metadata": {
    "id": "xOJBAjFAMc63"
   },
   "source": [
    "## Neural network with automatic gradient computation and automatic estimate update\n",
    "\n",
    "A fully-connected ReLU network with one hidden layer, trained to predict y from x\n",
    "by minimizing squared Euclidean distance.\n",
    "\n",
    "This implementation uses the nn package from PyTorch to build the network.\n",
    "\n",
    "Rather than manually updating the weights of the model as we have been doing,\n",
    "we use the optim package to define an Optimizer that will update the weights\n",
    "for us. The optim package defines many optimization algorithms that are commonly\n",
    "used for deep learning, including SGD+momentum, RMSProp, Adam, etc."
   ]
  },
  {
   "cell_type": "markdown",
   "metadata": {
    "id": "auFqUkCrNJPx"
   },
   "source": [
    "### Question: use the Torch optimizer to do the gradient descent. You can start from the full implementation of the neural network with automatic differentiation.\n",
    "\n",
    "Details on Optimizer are [here](https://pytorch.org/docs/stable/optim.html)"
   ]
  },
  {
   "cell_type": "code",
   "execution_count": 47,
   "metadata": {
    "colab": {
     "base_uri": "https://localhost:8080/",
     "height": 204
    },
    "executionInfo": {
     "elapsed": 15696,
     "status": "ok",
     "timestamp": 1602007687779,
     "user": {
      "displayName": "Lionel Fillatre",
      "photoUrl": "",
      "userId": "14463393848879581998"
     },
     "user_tz": -120
    },
    "id": "9dRfOhN3vnQN",
    "outputId": "eb53c205-19f2-4123-bbbe-ea3a0242b2bc"
   },
   "outputs": [
    {
     "name": "stdout",
     "output_type": "stream",
     "text": [
      "0 519.8943481445312\n",
      "1000 13.349444389343262\n",
      "2000 7.9347405433654785\n",
      "3000 6.065586090087891\n",
      "4000 5.115622043609619\n",
      "5000 4.496007442474365\n",
      "6000 4.039150714874268\n",
      "7000 3.685292959213257\n",
      "8000 3.4060983657836914\n",
      "9000 3.18401837348938\n",
      "10000 3.0061838626861572\n"
     ]
    }
   ],
   "source": [
    "import torch\n",
    "\n",
    "# N is batch size; D_in is input dimension;\n",
    "# H is hidden dimension; D_out is output dimension.\n",
    "N, D_in, H, D_out = num_samples**2, 2, 100, 1\n",
    "\n",
    "# Use the nn package to define our model and loss function.\n",
    "model = torch.nn.Sequential(\n",
    "    torch.nn.Linear(D_in, H),\n",
    "    torch.nn.ReLU(),\n",
    "    torch.nn.Linear(H, D_out),\n",
    ")\n",
    "loss_fn = torch.nn.MSELoss(reduction='sum')\n",
    "\n",
    "# Use the optim package to define an Optimizer that will update the weights of\n",
    "# the model for us. Here we will use Adam; the optim package contains many other\n",
    "# optimization algoriths. The first argument to the Adam constructor tells the\n",
    "# optimizer which Tensors it should update.\n",
    "learning_rate = 1e-6\n",
    "#optimizer = torch.optim.Adam(model.parameters(), lr=learning_rate)\n",
    "optimizer = torch.optim.SGD(model.parameters(), lr=learning_rate)\n",
    "for t in range(10001):\n",
    "    # Forward pass: compute predicted y by passing x to the model.\n",
    "    y_pred = model(x)\n",
    "\n",
    "    # Compute and print loss.\n",
    "    loss = loss_fn(y_pred, y)\n",
    "    if t % 1000 == 0:\n",
    "        print(t, loss.item())\n",
    "\n",
    "    # Before the backward pass, use the optimizer object to zero all of the\n",
    "    # gradients for the variables it will update (which are the learnable\n",
    "    # weights of the model). This is because by default, gradients are\n",
    "    # accumulated in buffers( i.e, not overwritten) whenever .backward()\n",
    "    # is called. Checkout docs of torch.autograd.backward for more details.\n",
    "    optimizer.zero_grad()\n",
    "\n",
    "    # Backward pass: compute gradient of the loss with respect to model\n",
    "    # parameters\n",
    "    loss.backward()\n",
    "\n",
    "    # Calling the step function on an Optimizer makes an update to its\n",
    "    # parameters\n",
    "    optimizer.step()"
   ]
  },
  {
   "cell_type": "code",
   "execution_count": 48,
   "metadata": {
    "colab": {
     "base_uri": "https://localhost:8080/",
     "height": 295
    },
    "executionInfo": {
     "elapsed": 15690,
     "status": "ok",
     "timestamp": 1602007687779,
     "user": {
      "displayName": "Lionel Fillatre",
      "photoUrl": "",
      "userId": "14463393848879581998"
     },
     "user_tz": -120
    },
    "id": "l3wESBOnPAzx",
    "outputId": "c964fbea-5ad4-4ecb-fa69-c10376bb3c78"
   },
   "outputs": [
    {
     "data": {
      "image/png": "[encoded data removed]",
      "text/plain": [
       "<Figure size 432x288 with 1 Axes>"
      ]
     },
     "metadata": {
      "needs_background": "light"
     },
     "output_type": "display_data"
    }
   ],
   "source": [
    "plotApproximation(y,y_pred)"
   ]
  }
 ],
 "metadata": {
  "colab": {
   "collapsed_sections": [],
   "name": "DSTI_DL_Lab2_October2020_solution.ipynb",
   "provenance": [
    {
     "file_id": "1PVRPOeJYXYLFJik1D0klJ2djFnMzdA9L",
     "timestamp": 1584786080144
    },
    {
     "file_id": "1Oqqv39a5LSa4dzWn4XMmEdONAloY4ASC",
     "timestamp": 1570979627787
    },
    {
     "file_id": "1KOuMuh8RKiWRk9jswod-tvc9lGFTJS2T",
     "timestamp": 1570367072773
    }
   ],
   "toc_visible": true
  },
  "kernelspec": {
   "display_name": "Python 3",
   "language": "python",
   "name": "python3"
  },
  "language_info": {
   "codemirror_mode": {
    "name": "ipython",
    "version": 3
   },
   "file_extension": ".py",
   "mimetype": "text/x-python",
   "name": "python",
   "nbconvert_exporter": "python",
   "pygments_lexer": "ipython3",
   "version": "3.7.7"
  }
 },
 "nbformat": 4,
 "nbformat_minor": 1
}
