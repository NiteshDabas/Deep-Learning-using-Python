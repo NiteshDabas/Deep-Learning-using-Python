{
 "cells": [
  {
   "cell_type": "markdown",
   "metadata": {
    "id": "gtBkaur_mwPQ"
   },
   "source": [
    "# Training a Classifier\n",
    "\n",
    "\n",
    "This is it. You have seen how to define neural networks, compute loss and make\n",
    "updates to the weights of the network.\n",
    "\n",
    "Now you might be thinking,\n",
    "\n",
    "**What about data?**\n",
    "\n",
    "\n",
    "Generally, when you have to deal with image, text, audio or video data,\n",
    "you can use standard python packages that load data into a numpy array.\n",
    "Then you can convert this array into a ``torch.*Tensor``.\n",
    "\n",
    "-  For images, packages such as Pillow, OpenCV are useful\n",
    "-  For audio, packages such as scipy and librosa\n",
    "-  For text, either raw Python or Cython based loading, or NLTK and\n",
    "   SpaCy are useful\n",
    "\n",
    "Specifically for vision, Pytorch team has created a package called\n",
    "``torchvision``, that has data loaders for common datasets such as\n",
    "Imagenet, CIFAR10, MNIST, etc. and data transformers for images, viz.,\n",
    "``torchvision.datasets`` and ``torch.utils.data.DataLoader``.\n",
    "\n",
    "This provides a huge convenience and avoids writing boilerplate code.\n",
    "\n",
    "For this tutorial, we will use the CIFAR10 dataset.\n",
    "It has the classes: ‘airplane’, ‘automobile’, ‘bird’, ‘cat’, ‘deer’,\n",
    "‘dog’, ‘frog’, ‘horse’, ‘ship’, ‘truck’. The images in CIFAR-10 are of\n",
    "size 3x32x32, i.e. 3-channel color images of 32x32 pixels in size.\n",
    "\n",
    "\n",
    "   ![cifar10](https://miro.medium.com/max/1648/1*SZnidBt7CQ4Xqcag6rd8Ew.png)\n",
    "\n",
    "\n"
   ]
  },
  {
   "cell_type": "markdown",
   "metadata": {
    "id": "qBMuIZjPRSwV"
   },
   "source": [
    "# How to use Dataset and DataLoader?"
   ]
  },
  {
   "cell_type": "markdown",
   "metadata": {
    "id": "UYxvilmtRS1D"
   },
   "source": [
    "## Data Loading"
   ]
  },
  {
   "cell_type": "markdown",
   "metadata": {
    "id": "kTI5KIOXRS4Q"
   },
   "source": [
    "For convenience, PyTorch provides a number of utilities to load, preprocess and interact with datasets. These helper classes and functions are found in the torch.utils.data module. The two major concepts here are:\n",
    "\n",
    "\n",
    "\n",
    "1.   A Dataset, which encapsulates a source of data,\n",
    "2.   A DataLoader, which is responsible for loading a dataset, possibly in parallel.\n",
    "\n"
   ]
  },
  {
   "cell_type": "markdown",
   "metadata": {
    "id": "qgegVUtsRizA"
   },
   "source": [
    "New datasets are created by subclassing the torch.utils.data.Dataset class and overriding the \\_\\_len__ method to return the number of samples in the dataset and the \\_\\_getitem__ method to access a single value at a certain index. \n",
    "​\n",
    "For example, this would be a simple dataset encapsulating a range of integers:"
   ]
  },
  {
   "cell_type": "code",
   "execution_count": 1,
   "metadata": {
    "executionInfo": {
     "elapsed": 3087,
     "status": "ok",
     "timestamp": 1602007936666,
     "user": {
      "displayName": "Lionel Fillatre",
      "photoUrl": "",
      "userId": "14463393848879581998"
     },
     "user_tz": -120
    },
    "id": "bOoxqt147pAM"
   },
   "outputs": [],
   "source": [
    "import math\n",
    "import torch\n",
    "\n",
    "class RangeDataset(torch.utils.data.Dataset):\n",
    "  def __init__(self, start, end, step=1):\n",
    "    self.start = start\n",
    "    self.end = end\n",
    "    self.step = step\n",
    "\n",
    "  def __len__(self):\n",
    "    return math.ceil((self.end - self.start) / self.step)\n",
    "\n",
    "  def __getitem__(self, index):\n",
    "    value = self.start + index * self.step\n",
    "    assert value < self.end\n",
    "    return value"
   ]
  },
  {
   "cell_type": "markdown",
   "metadata": {
    "id": "GeKseT00RpKU"
   },
   "source": [
    "Inside \\_\\_init__ we would usually configure some paths or change the set of samples ultimately returned. \n",
    "\n",
    "In \\_\\_len__, we specify the upper bound for the index with which \\_\\_getitem__ may be called.\n",
    "\n",
    "In \\_\\_getitem__ we return the actual sample, which could be an image or an audio snippet."
   ]
  },
  {
   "cell_type": "code",
   "execution_count": 2,
   "metadata": {
    "colab": {
     "base_uri": "https://localhost:8080/",
     "height": 34
    },
    "executionInfo": {
     "elapsed": 3078,
     "status": "ok",
     "timestamp": 1602007936667,
     "user": {
      "displayName": "Lionel Fillatre",
      "photoUrl": "",
      "userId": "14463393848879581998"
     },
     "user_tz": -120
    },
    "id": "XUwUAiJu7omE",
    "outputId": "b97a56b2-4c78-45ef-8d69-5c22e101244c"
   },
   "outputs": [
    {
     "name": "stdout",
     "output_type": "stream",
     "text": [
      "5\n"
     ]
    }
   ],
   "source": [
    "dataset = RangeDataset(0, 10, 2)\n",
    "print(len(dataset))"
   ]
  },
  {
   "cell_type": "markdown",
   "metadata": {
    "id": "2h6K3PmbRtAR"
   },
   "source": [
    "## DataLoader\n",
    "\n",
    "To iterate over the dataset we could, in theory, simply have a for i in range loop and access samples via \\_\\_getitem__. However, it would be much more convenient if the dataset implemented the iterator protocol itself, so we could simply loop over samples with for sample in dataset. Fortunately, this functionality is provided by the DataLoader class. \n",
    "\n",
    "A DataLoader object takes a dataset and a number of options that configure the way samples are retrieved. For example, it is possible to load samples in parallel, using multiple processes. For this, the DataLoader constructor takes a num_workers argument. Note that DataLoaders always return batches, whose size is set with the batch_size parameter. Here is a simple example:\n",
    "\n"
   ]
  },
  {
   "cell_type": "code",
   "execution_count": 3,
   "metadata": {
    "colab": {
     "base_uri": "https://localhost:8080/",
     "height": 51
    },
    "executionInfo": {
     "elapsed": 3073,
     "status": "ok",
     "timestamp": 1602007936668,
     "user": {
      "displayName": "Lionel Fillatre",
      "photoUrl": "",
      "userId": "14463393848879581998"
     },
     "user_tz": -120
    },
    "id": "Z9uwLC2OR1fB",
    "outputId": "25beaaed-34a6-4fef-f531-b89bc88878ce"
   },
   "outputs": [
    {
     "name": "stdout",
     "output_type": "stream",
     "text": [
      "0 tensor([0, 2, 1, 5])\n",
      "1 tensor([8, 4, 6, 7])\n"
     ]
    }
   ],
   "source": [
    "dataset = RangeDataset(0, 9)\n",
    "data_loader = torch.utils.data.DataLoader(\n",
    "    dataset, \n",
    "    batch_size=4, \n",
    "    shuffle=True,  # set to True to have the data reshuffled at every epoch\n",
    "    num_workers=2, # how many subprocesses to use for data loading\n",
    "    drop_last=True # set to True to drop the last incomplete batch, if the dataset size is not divisible by the batch size.\n",
    "  )\n",
    "\n",
    "for i, batch in enumerate(data_loader):\n",
    "  print(i, batch)"
   ]
  },
  {
   "cell_type": "markdown",
   "metadata": {
    "id": "RYlJQOZrRtDw"
   },
   "source": [
    "Use an iterator\n",
    "\n",
    "See details [here](https://pytorch.org/docs/stable/data.html#torch.utils.data.IterableDataset)"
   ]
  },
  {
   "cell_type": "code",
   "execution_count": 4,
   "metadata": {
    "colab": {
     "base_uri": "https://localhost:8080/",
     "height": 68
    },
    "executionInfo": {
     "elapsed": 3067,
     "status": "ok",
     "timestamp": 1602007936669,
     "user": {
      "displayName": "Lionel Fillatre",
      "photoUrl": "",
      "userId": "14463393848879581998"
     },
     "user_tz": -120
    },
    "id": "RhhyvxEcR-Zs",
    "outputId": "6d972164-e793-4e3f-e36d-7e799df511b6"
   },
   "outputs": [
    {
     "name": "stdout",
     "output_type": "stream",
     "text": [
      "0\n",
      "1\n",
      "2\n"
     ]
    }
   ],
   "source": [
    "dataset_iter = iter(dataset)\n",
    "print(next(dataset_iter))\n",
    "print(next(dataset_iter))\n",
    "print(next(dataset_iter))"
   ]
  },
  {
   "cell_type": "code",
   "execution_count": 5,
   "metadata": {
    "colab": {
     "base_uri": "https://localhost:8080/",
     "height": 170
    },
    "executionInfo": {
     "elapsed": 3061,
     "status": "ok",
     "timestamp": 1602007936669,
     "user": {
      "displayName": "Lionel Fillatre",
      "photoUrl": "",
      "userId": "14463393848879581998"
     },
     "user_tz": -120
    },
    "id": "TfrOJoLsSBkl",
    "outputId": "336151f1-a6c9-4ff7-b813-bed7798379ad"
   },
   "outputs": [
    {
     "name": "stdout",
     "output_type": "stream",
     "text": [
      "0\n",
      "1\n",
      "2\n",
      "3\n",
      "4\n",
      "5\n",
      "6\n",
      "7\n",
      "8\n"
     ]
    }
   ],
   "source": [
    "dataset_iter = iter(dataset)\n",
    "for i in range(len(dataset)):\n",
    "  element = next(iter(dataset_iter))\n",
    "  print(element)"
   ]
  },
  {
   "cell_type": "markdown",
   "metadata": {
    "id": "4N9FdSkbSoLQ"
   },
   "source": [
    "# Training an image classifier\n",
    "\n",
    "\n",
    "We will do the following steps in order:\n",
    "\n",
    "1. Load and normalizing the CIFAR10 training and test datasets using\n",
    "   ``torchvision``\n",
    "2. Define a Convolutional Neural Network\n",
    "3. Define a loss function\n",
    "4. Train the network on the training data\n",
    "5. Test the network on the test data\n",
    "\n",
    "1. Loading and normalizing CIFAR10\n",
    "\n",
    "\n",
    "Using ``torchvision``, it’s extremely easy to load CIFAR10.\n",
    "\n",
    "\n"
   ]
  },
  {
   "cell_type": "code",
   "execution_count": 6,
   "metadata": {
    "executionInfo": {
     "elapsed": 3060,
     "status": "ok",
     "timestamp": 1602007936670,
     "user": {
      "displayName": "Lionel Fillatre",
      "photoUrl": "",
      "userId": "14463393848879581998"
     },
     "user_tz": -120
    },
    "id": "6ipT2HN5mwPL"
   },
   "outputs": [],
   "source": [
    "%matplotlib inline"
   ]
  },
  {
   "cell_type": "code",
   "execution_count": 7,
   "metadata": {
    "executionInfo": {
     "elapsed": 3595,
     "status": "ok",
     "timestamp": 1602007937208,
     "user": {
      "displayName": "Lionel Fillatre",
      "photoUrl": "",
      "userId": "14463393848879581998"
     },
     "user_tz": -120
    },
    "id": "7E_ryflKmwPR"
   },
   "outputs": [],
   "source": [
    "import torch\n",
    "import torchvision\n",
    "import torchvision.transforms as transforms"
   ]
  },
  {
   "cell_type": "markdown",
   "metadata": {
    "id": "Pwgsi7KoqQs6"
   },
   "source": [
    "## 1- Load and normalizing the CIFAR10 training and test datasets using ``torchvision``"
   ]
  },
  {
   "cell_type": "markdown",
   "metadata": {
    "id": "y_nODc6EmwPU"
   },
   "source": [
    "The output of torchvision datasets are PILImage images of range [0, 1].\n",
    "We transform them to Tensors of normalized range [-1, 1].\n",
    "\n"
   ]
  },
  {
   "cell_type": "code",
   "execution_count": 8,
   "metadata": {
    "colab": {
     "base_uri": "https://localhost:8080/",
     "height": 100,
     "referenced_widgets": [
      "fdb387db0e704d52a2b58d9a55265bcb",
      "33e14474d1504f4abcf7c24f0033049e",
      "663f36537a094ed99be8a3472ff09ff2",
      "2d99cf9cc4e04e228b2d997d1dc529b3",
      "56a5e96884324bd4b18844280fc886f8",
      "7f07c951632847859e97aba0cd49b781",
      "720c3a3d46b84a6a980f377ec3e10595",
      "e5262576343c48b5bfec10c7e8d1cea4"
     ]
    },
    "executionInfo": {
     "elapsed": 9424,
     "status": "ok",
     "timestamp": 1602007943043,
     "user": {
      "displayName": "Lionel Fillatre",
      "photoUrl": "",
      "userId": "14463393848879581998"
     },
     "user_tz": -120
    },
    "id": "J1ICv1kcmwPV",
    "outputId": "1fe95102-f2d7-4824-8750-259bc20e766e"
   },
   "outputs": [
    {
     "name": "stdout",
     "output_type": "stream",
     "text": [
      "Downloading https://www.cs.toronto.edu/~kriz/cifar-10-python.tar.gz to ./data/cifar-10-python.tar.gz\n"
     ]
    },
    {
     "data": {
      "application/vnd.jupyter.widget-view+json": {
       "model_id": "e903397f02174cc2b9cd6bee2489a323",
       "version_major": 2,
       "version_minor": 0
      },
      "text/plain": [
       "HBox(children=(FloatProgress(value=1.0, bar_style='info', max=1.0), HTML(value='')))"
      ]
     },
     "metadata": {},
     "output_type": "display_data"
    },
    {
     "name": "stdout",
     "output_type": "stream",
     "text": [
      "Extracting ./data/cifar-10-python.tar.gz to ./data\n",
      "Files already downloaded and verified\n"
     ]
    }
   ],
   "source": [
    "transform = transforms.Compose(\n",
    "    [transforms.ToTensor(),\n",
    "     transforms.Normalize((0.5, 0.5, 0.5), (0.5, 0.5, 0.5))])\n",
    "\n",
    "trainset = torchvision.datasets.CIFAR10(root='./data', train=True,\n",
    "                                        download=True, transform=transform)\n",
    "trainloader = torch.utils.data.DataLoader(trainset, batch_size=4,\n",
    "                                          shuffle=True, num_workers=2)\n",
    "\n",
    "testset = torchvision.datasets.CIFAR10(root='./data', train=False,\n",
    "                                       download=True, transform=transform)\n",
    "testloader = torch.utils.data.DataLoader(testset, batch_size=4,\n",
    "                                         shuffle=False, num_workers=2)\n",
    "\n",
    "classes = ('plane', 'car', 'bird', 'cat',\n",
    "           'deer', 'dog', 'frog', 'horse', 'ship', 'truck')"
   ]
  },
  {
   "cell_type": "markdown",
   "metadata": {
    "id": "zmG2EX-GDRaZ"
   },
   "source": [
    "See the location of the downloaded data"
   ]
  },
  {
   "cell_type": "code",
   "execution_count": 9,
   "metadata": {
    "colab": {
     "base_uri": "https://localhost:8080/",
     "height": 272
    },
    "executionInfo": {
     "elapsed": 9799,
     "status": "ok",
     "timestamp": 1602007943424,
     "user": {
      "displayName": "Lionel Fillatre",
      "photoUrl": "",
      "userId": "14463393848879581998"
     },
     "user_tz": -120
    },
    "id": "CMjUo43nC_sl",
    "outputId": "219e4d67-0eae-4aa1-8bcc-8a24ff095bda"
   },
   "outputs": [
    {
     "name": "stdout",
     "output_type": "stream",
     "text": [
      "total 608\n",
      "-rw-r--r--@ 1 dabasn  staff   92857 Oct 18 14:51 DSTI_DL_Lab3_October2020.ipynb\n",
      "-rw-r--r--@ 1 dabasn  staff  148669 Oct 18 15:18 DSTI_DL_Lab3_October2020_solution.ipynb\n",
      "-rw-r--r--@ 1 dabasn  staff   38588 Oct 18 14:52 DSTI_DL_Lab4_October2020 solution.ipynb\n",
      "-rw-r--r--@ 1 dabasn  staff   24174 Oct 18 14:51 DSTI_DL_Lab4_October2020.ipynb\n",
      "drwxr-xr-x  4 dabasn  staff     128 Oct 18 15:17 \u001b[34mdata\u001b[m\u001b[m/\n",
      "total 360480\n",
      "drwxr-xr-x  10 dabasn  staff        320 Jun  4  2009 \u001b[34mcifar-10-batches-py\u001b[m\u001b[m/\n",
      "-rw-r--r--   1 dabasn  staff  170498071 Oct 18 15:17 cifar-10-python.tar.gz\n",
      "total 363752\n",
      "-rw-r--r--  1 dabasn  staff       158 Mar 31  2009 batches.meta\n",
      "-rw-r--r--  1 dabasn  staff  31035704 Mar 31  2009 data_batch_1\n",
      "-rw-r--r--  1 dabasn  staff  31035320 Mar 31  2009 data_batch_2\n",
      "-rw-r--r--  1 dabasn  staff  31035999 Mar 31  2009 data_batch_3\n",
      "-rw-r--r--  1 dabasn  staff  31035696 Mar 31  2009 data_batch_4\n",
      "-rw-r--r--  1 dabasn  staff  31035623 Mar 31  2009 data_batch_5\n",
      "-rw-r--r--  1 dabasn  staff        88 Jun  4  2009 readme.html\n",
      "-rw-r--r--  1 dabasn  staff  31035526 Mar 31  2009 test_batch\n"
     ]
    }
   ],
   "source": [
    "%pwd\n",
    "%ls -l\n",
    "%ls -l ./data\n",
    "%ls -l ./data/cifar-10-batches-py/"
   ]
  },
  {
   "cell_type": "markdown",
   "metadata": {
    "id": "JfFh3I32mwPY"
   },
   "source": [
    "Let us show some of the training images, for fun.\n",
    "\n"
   ]
  },
  {
   "cell_type": "code",
   "execution_count": 10,
   "metadata": {
    "colab": {
     "base_uri": "https://localhost:8080/",
     "height": 172
    },
    "executionInfo": {
     "elapsed": 10659,
     "status": "ok",
     "timestamp": 1602007944290,
     "user": {
      "displayName": "Lionel Fillatre",
      "photoUrl": "",
      "userId": "14463393848879581998"
     },
     "user_tz": -120
    },
    "id": "HeN57Pz3mwPZ",
    "outputId": "c2e219a8-c547-4647-b9bf-fddda7bf6ff3"
   },
   "outputs": [
    {
     "data": {
      "image/png": "[encoded data removed]",
      "text/plain": [
       "<Figure size 432x288 with 1 Axes>"
      ]
     },
     "metadata": {
      "needs_background": "light"
     },
     "output_type": "display_data"
    },
    {
     "name": "stdout",
     "output_type": "stream",
     "text": [
      "horse  frog   cat  ship\n"
     ]
    }
   ],
   "source": [
    "import matplotlib.pyplot as plt\n",
    "import numpy as np\n",
    "\n",
    "# functions to show an image\n",
    "\n",
    "\n",
    "def imshow(img):\n",
    "    img = img / 2 + 0.5     # unnormalize\n",
    "    npimg = img.numpy()\n",
    "    plt.imshow(np.transpose(npimg, (1, 2, 0)))\n",
    "    plt.show()\n",
    "\n",
    "\n",
    "# get some random training images\n",
    "dataiter = iter(trainloader)\n",
    "images, labels = dataiter.next()\n",
    "\n",
    "# show images\n",
    "imshow(torchvision.utils.make_grid(images))\n",
    "# print labels\n",
    "print(' '.join('%5s' % classes[labels[j]] for j in range(4)))"
   ]
  },
  {
   "cell_type": "markdown",
   "metadata": {
    "id": "Yjp0J6lamwPc"
   },
   "source": [
    "## 2- Define a Convolutional Neural Network\n",
    "\n",
    "\n",
    "Copy the neural network from the Neural Networks section before and modify it to\n",
    "take 3-channel images (instead of 1-channel images as it was defined).\n",
    "\n"
   ]
  },
  {
   "cell_type": "markdown",
   "metadata": {
    "id": "JVRSlGlmzgOn"
   },
   "source": [
    "The following neural network is created as a module. This is the best way to create a customized neural network (automatic differentiation is still working)\n",
    "\n",
    "More information on nn.Module [here](https://pytorch.org/tutorials/beginner/nn_tutorial.html#refactor-using-nn-module)"
   ]
  },
  {
   "cell_type": "code",
   "execution_count": 11,
   "metadata": {
    "executionInfo": {
     "elapsed": 10657,
     "status": "ok",
     "timestamp": 1602007944291,
     "user": {
      "displayName": "Lionel Fillatre",
      "photoUrl": "",
      "userId": "14463393848879581998"
     },
     "user_tz": -120
    },
    "id": "vsPuksk8mwPd"
   },
   "outputs": [],
   "source": [
    "import torch.nn as nn\n",
    "import torch.nn.functional as F\n",
    "\n",
    "\n",
    "class Net(nn.Module):\n",
    "    def __init__(self):\n",
    "        super(Net, self).__init__()\n",
    "        self.conv1 = nn.Conv2d(3, 6, 5)\n",
    "        self.pool = nn.MaxPool2d(2, 2)\n",
    "        self.conv2 = nn.Conv2d(6, 16, 5)\n",
    "        self.fc1 = nn.Linear(16 * 5 * 5, 120)\n",
    "        self.fc2 = nn.Linear(120, 84)\n",
    "        self.fc3 = nn.Linear(84, 10)\n",
    "\n",
    "    def forward(self, x):\n",
    "        x = self.pool(F.relu(self.conv1(x)))\n",
    "        x = self.pool(F.relu(self.conv2(x)))\n",
    "        x = x.view(-1, 16 * 5 * 5)\n",
    "        x = F.relu(self.fc1(x))\n",
    "        x = F.relu(self.fc2(x))\n",
    "        x = self.fc3(x)\n",
    "        return x\n",
    "\n",
    "\n",
    "net = Net()"
   ]
  },
  {
   "cell_type": "markdown",
   "metadata": {
    "id": "Wi7kBwBQmwPf"
   },
   "source": [
    "## 3- Define a Loss function and optimizer\n",
    "\n",
    "\n",
    "Let's use a Classification Cross-Entropy loss and SGD with momentum.\n",
    "\n"
   ]
  },
  {
   "cell_type": "code",
   "execution_count": 12,
   "metadata": {
    "executionInfo": {
     "elapsed": 10656,
     "status": "ok",
     "timestamp": 1602007944292,
     "user": {
      "displayName": "Lionel Fillatre",
      "photoUrl": "",
      "userId": "14463393848879581998"
     },
     "user_tz": -120
    },
    "id": "L5OT6LRmmwPf"
   },
   "outputs": [],
   "source": [
    "import torch.optim as optim\n",
    "\n",
    "criterion = nn.CrossEntropyLoss()\n",
    "optimizer = optim.SGD(net.parameters(), lr=0.001, momentum=0.9)"
   ]
  },
  {
   "cell_type": "markdown",
   "metadata": {
    "id": "esXyBObZmwPh"
   },
   "source": [
    "## 4- Train the network\n",
    "\n",
    "\n",
    "\n",
    "This is when things start to get interesting.\n",
    "We simply have to loop over our data iterator, and feed the inputs to the\n",
    "network and optimize.\n",
    "\n"
   ]
  },
  {
   "cell_type": "markdown",
   "metadata": {
    "id": "PQ1w4chdwsr4"
   },
   "source": [
    "### Question: code the training of the network. Use the autograd mechanism and the optimizer.\n",
    "Coompute the running loss, i.e., i.e. the average of the loss over N=2000 mini-batches processes."
   ]
  },
  {
   "cell_type": "code",
   "execution_count": 13,
   "metadata": {
    "colab": {
     "base_uri": "https://localhost:8080/",
     "height": 238
    },
    "executionInfo": {
     "elapsed": 155332,
     "status": "ok",
     "timestamp": 1602008088974,
     "user": {
      "displayName": "Lionel Fillatre",
      "photoUrl": "",
      "userId": "14463393848879581998"
     },
     "user_tz": -120
    },
    "id": "kSVsCRB8mwPi",
    "outputId": "17cb37c4-3227-460d-c559-854e6e981893"
   },
   "outputs": [
    {
     "name": "stdout",
     "output_type": "stream",
     "text": [
      "[1,  2000] loss: 2.299\n",
      "[1,  4000] loss: 2.024\n",
      "[1,  6000] loss: 1.768\n",
      "[1,  8000] loss: 1.650\n",
      "[1, 10000] loss: 1.562\n",
      "[1, 12000] loss: 1.502\n",
      "[2,  2000] loss: 1.432\n",
      "[2,  4000] loss: 1.413\n",
      "[2,  6000] loss: 1.370\n",
      "[2,  8000] loss: 1.346\n",
      "[2, 10000] loss: 1.330\n",
      "[2, 12000] loss: 1.311\n",
      "Finished Training\n"
     ]
    }
   ],
   "source": [
    "for epoch in range(2):  # loop over the dataset multiple times\n",
    "\n",
    "    running_loss = 0.0\n",
    "    for i, data in enumerate(trainloader, 0):\n",
    "        # get the inputs; data is a list of [inputs, labels]\n",
    "        inputs, labels = data\n",
    "\n",
    "        # zero the parameter gradients\n",
    "        optimizer.zero_grad()\n",
    "\n",
    "        # forward + backward + optimize\n",
    "        outputs = net(inputs)\n",
    "        loss = criterion(outputs, labels)\n",
    "        loss.backward()\n",
    "        optimizer.step()\n",
    "\n",
    "        # print statistics\n",
    "        running_loss += loss.item()\n",
    "        if i % 2000 == 1999:    # print every 2000 mini-batches\n",
    "            print('[%d, %5d] loss: %.3f' %\n",
    "                  (epoch + 1, i + 1, running_loss / 2000))\n",
    "            running_loss = 0.0\n",
    "\n",
    "print('Finished Training')"
   ]
  },
  {
   "cell_type": "markdown",
   "metadata": {
    "id": "gBrU407tmwPj"
   },
   "source": [
    "## 5- Test the network on the test data\n",
    "\n",
    "\n",
    "\n",
    "We have trained the network for 2 passes over the training dataset.\n",
    "But we need to check if the network has learnt anything at all.\n",
    "\n",
    "We will check this by predicting the class label that the neural network\n",
    "outputs, and checking it against the ground-truth. If the prediction is\n",
    "correct, we add the sample to the list of correct predictions.\n",
    "\n",
    "Okay, first step. Let us display an image from the test set to get familiar.\n",
    "\n"
   ]
  },
  {
   "cell_type": "code",
   "execution_count": 14,
   "metadata": {
    "colab": {
     "base_uri": "https://localhost:8080/",
     "height": 155
    },
    "executionInfo": {
     "elapsed": 155328,
     "status": "ok",
     "timestamp": 1602008088976,
     "user": {
      "displayName": "Lionel Fillatre",
      "photoUrl": "",
      "userId": "14463393848879581998"
     },
     "user_tz": -120
    },
    "id": "JgiIuVnamwPk",
    "outputId": "b82a5411-d335-4c6c-9cc5-b40ca6166740"
   },
   "outputs": [
    {
     "data": {
      "image/png": "[encoded data removed]",
      "text/plain": [
       "<Figure size 432x288 with 1 Axes>"
      ]
     },
     "metadata": {
      "needs_background": "light"
     },
     "output_type": "display_data"
    },
    {
     "name": "stdout",
     "output_type": "stream",
     "text": [
      "GroundTruth:    cat  ship  ship plane\n"
     ]
    }
   ],
   "source": [
    "dataiter = iter(testloader)\n",
    "images, labels = dataiter.next()\n",
    "\n",
    "# print images\n",
    "imshow(torchvision.utils.make_grid(images))\n",
    "print('GroundTruth: ', ' '.join('%5s' % classes[labels[j]] for j in range(4)))"
   ]
  },
  {
   "cell_type": "markdown",
   "metadata": {
    "id": "S_bykMMbmwPm"
   },
   "source": [
    "Okay, now let us see what the neural network thinks these examples above are:\n",
    "\n"
   ]
  },
  {
   "cell_type": "code",
   "execution_count": 15,
   "metadata": {
    "colab": {
     "base_uri": "https://localhost:8080/",
     "height": 153
    },
    "executionInfo": {
     "elapsed": 155666,
     "status": "ok",
     "timestamp": 1602008089320,
     "user": {
      "displayName": "Lionel Fillatre",
      "photoUrl": "",
      "userId": "14463393848879581998"
     },
     "user_tz": -120
    },
    "id": "N-YZvLwVmwPm",
    "outputId": "4390dcb3-79c4-41e1-a45c-e57953977fdc"
   },
   "outputs": [
    {
     "name": "stdout",
     "output_type": "stream",
     "text": [
      "tensor([[-1.5944, -0.6478,  0.1522,  2.2268, -0.2727,  1.3464,  1.2228, -1.3592,\n",
      "         -0.7751, -0.7985],\n",
      "        [ 5.8828,  6.8642, -1.4272, -4.3933, -3.5890, -4.5304, -5.3032, -4.2038,\n",
      "          7.9864,  3.2962],\n",
      "        [ 3.2630,  2.8419,  0.2095, -2.1726, -1.5862, -2.5392, -3.2495, -1.6040,\n",
      "          2.8189,  1.5723],\n",
      "        [ 4.4496,  1.4536, -0.4363, -2.7115, -1.0670, -3.0883, -3.5319, -0.7546,\n",
      "          3.1330,  2.1671]], grad_fn=<AddmmBackward>)\n"
     ]
    }
   ],
   "source": [
    "outputs = net(images)\n",
    "print(outputs)"
   ]
  },
  {
   "cell_type": "markdown",
   "metadata": {
    "id": "d5I85BB3mwPo"
   },
   "source": [
    "The outputs are energies for the 10 classes.\n",
    "The higher the energy for a class, the more the network\n",
    "thinks that the image is of the particular class.\n",
    "So, let's get the index of the highest energy:\n",
    "\n"
   ]
  },
  {
   "cell_type": "markdown",
   "metadata": {
    "id": "LETtlXhsxPpZ"
   },
   "source": [
    "### Question: give the decision for all the images in the code cell above. The decision should be a label belonging to the object \"classes\""
   ]
  },
  {
   "cell_type": "code",
   "execution_count": 16,
   "metadata": {
    "colab": {
     "base_uri": "https://localhost:8080/",
     "height": 34
    },
    "executionInfo": {
     "elapsed": 155661,
     "status": "ok",
     "timestamp": 1602008089321,
     "user": {
      "displayName": "Lionel Fillatre",
      "photoUrl": "",
      "userId": "14463393848879581998"
     },
     "user_tz": -120
    },
    "id": "DLlWRQqDmwPp",
    "outputId": "4cb56747-3591-4312-eca7-b1ca844ab471"
   },
   "outputs": [
    {
     "name": "stdout",
     "output_type": "stream",
     "text": [
      "Predicted:    cat  ship plane plane\n"
     ]
    }
   ],
   "source": [
    "_, predicted = torch.max(outputs, 1)\n",
    "\n",
    "print('Predicted: ', ' '.join('%5s' % classes[predicted[j]]\n",
    "                              for j in range(4)))"
   ]
  },
  {
   "cell_type": "code",
   "execution_count": 17,
   "metadata": {
    "colab": {
     "base_uri": "https://localhost:8080/",
     "height": 187
    },
    "executionInfo": {
     "elapsed": 155656,
     "status": "ok",
     "timestamp": 1602008089322,
     "user": {
      "displayName": "Lionel Fillatre",
      "photoUrl": "",
      "userId": "14463393848879581998"
     },
     "user_tz": -120
    },
    "id": "4ztDG5tqx0P0",
    "outputId": "3ddfdb4f-2ff3-4aab-9cb4-6021ee59276a"
   },
   "outputs": [
    {
     "name": "stdout",
     "output_type": "stream",
     "text": [
      "('plane', 'car', 'bird', 'cat', 'deer', 'dog', 'frog', 'horse', 'ship', 'truck')\n"
     ]
    }
   ],
   "source": [
    "print(classes)"
   ]
  },
  {
   "cell_type": "markdown",
   "metadata": {
    "id": "KSLIcznFmwPq"
   },
   "source": [
    "The results seem pretty good.\n",
    "\n",
    "Let us look at how the network performs on the whole dataset.\n",
    "\n"
   ]
  },
  {
   "cell_type": "markdown",
   "metadata": {
    "id": "lk52bUGOx5GB"
   },
   "source": [
    "### Question: compute the average accuracy over all the testset"
   ]
  },
  {
   "cell_type": "code",
   "execution_count": 18,
   "metadata": {
    "colab": {
     "base_uri": "https://localhost:8080/",
     "height": 34
    },
    "executionInfo": {
     "elapsed": 165028,
     "status": "ok",
     "timestamp": 1602008098701,
     "user": {
      "displayName": "Lionel Fillatre",
      "photoUrl": "",
      "userId": "14463393848879581998"
     },
     "user_tz": -120
    },
    "id": "kbk8PG89mwPr",
    "outputId": "760086b2-f98e-40a5-eeea-dfd0dc689128"
   },
   "outputs": [
    {
     "name": "stdout",
     "output_type": "stream",
     "text": [
      "Accuracy of the network on the 10000 test images: 53 %\n"
     ]
    }
   ],
   "source": [
    "correct = 0\n",
    "total = 0\n",
    "with torch.no_grad():\n",
    "    for data in testloader:\n",
    "        images, labels = data\n",
    "        outputs = net(images)\n",
    "        _, predicted = torch.max(outputs.data, 1)\n",
    "        total += labels.size(0)\n",
    "        correct += (predicted == labels).sum().item()\n",
    "\n",
    "print('Accuracy of the network on the 10000 test images: %d %%' % (\n",
    "    100 * correct / total))"
   ]
  },
  {
   "cell_type": "markdown",
   "metadata": {
    "id": "RP083W6ZmwPs"
   },
   "source": [
    "That looks way better than chance, which is 10% accuracy (randomly picking\n",
    "a class out of 10 classes).\n",
    "Seems like the network learnt something.\n",
    "\n",
    "What are the classes that performed well, and the classes that did\n",
    "not perform well\n",
    "\n",
    "\n"
   ]
  },
  {
   "cell_type": "markdown",
   "metadata": {
    "id": "NHdyJ2Q5swe8"
   },
   "source": [
    "### Question: Compute the average accuracy per class (there are 10 classes)"
   ]
  },
  {
   "cell_type": "code",
   "execution_count": 19,
   "metadata": {
    "colab": {
     "base_uri": "https://localhost:8080/",
     "height": 187
    },
    "executionInfo": {
     "elapsed": 175165,
     "status": "ok",
     "timestamp": 1602008108844,
     "user": {
      "displayName": "Lionel Fillatre",
      "photoUrl": "",
      "userId": "14463393848879581998"
     },
     "user_tz": -120
    },
    "id": "5iKkeOUvmwPs",
    "outputId": "bcde6eff-1f25-4824-9fd1-68112b298e06"
   },
   "outputs": [
    {
     "name": "stdout",
     "output_type": "stream",
     "text": [
      "Accuracy of plane : 62 %\n",
      "Accuracy of   car : 81 %\n",
      "Accuracy of  bird : 36 %\n",
      "Accuracy of   cat : 45 %\n",
      "Accuracy of  deer : 34 %\n",
      "Accuracy of   dog : 33 %\n",
      "Accuracy of  frog : 58 %\n",
      "Accuracy of horse : 63 %\n",
      "Accuracy of  ship : 65 %\n",
      "Accuracy of truck : 57 %\n"
     ]
    }
   ],
   "source": [
    "class_correct = list(0. for i in range(10))\n",
    "class_total = list(0. for i in range(10))\n",
    "with torch.no_grad():\n",
    "    for data in testloader:\n",
    "        images, labels = data\n",
    "        outputs = net(images)\n",
    "        _, predicted = torch.max(outputs, 1)\n",
    "        c = (predicted == labels).squeeze()\n",
    "        for i in range(4):\n",
    "            label = labels[i]\n",
    "            class_correct[label] += c[i].item()\n",
    "            class_total[label] += 1\n",
    "\n",
    "\n",
    "for i in range(10):\n",
    "    print('Accuracy of %5s : %2d %%' % (\n",
    "        classes[i], 100 * class_correct[i] / class_total[i]))"
   ]
  }
 ],
 "metadata": {
  "colab": {
   "collapsed_sections": [],
   "name": "DSTI_DL_Lab3_October2020_solution.ipynb",
   "provenance": [
    {
     "file_id": "1MB2k7ZU1eQW8wOOXqAy1fKd_Sd4vuSFw",
     "timestamp": 1584911105498
    },
    {
     "file_id": "1hc_sGbZfSQXBwXWBBS3kjpNsaxGo64Rb",
     "timestamp": 1571067495589
    },
    {
     "file_id": "1vk5f_uMQjmd06MkQcfvmweDiESwIu2ne",
     "timestamp": 1570481421960
    }
   ],
   "toc_visible": true
  },
  "kernelspec": {
   "display_name": "Python 3",
   "language": "python",
   "name": "python3"
  },
  "language_info": {
   "codemirror_mode": {
    "name": "ipython",
    "version": 3
   },
   "file_extension": ".py",
   "mimetype": "text/x-python",
   "name": "python",
   "nbconvert_exporter": "python",
   "pygments_lexer": "ipython3",
   "version": "3.7.7"
  },
  "widgets": {
   "application/vnd.jupyter.widget-state+json": {
    "2d99cf9cc4e04e228b2d997d1dc529b3": {
     "model_module": "@jupyter-widgets/controls",
     "model_name": "HTMLModel",
     "state": {
      "_dom_classes": [],
      "_model_module": "@jupyter-widgets/controls",
      "_model_module_version": "1.5.0",
      "_model_name": "HTMLModel",
      "_view_count": null,
      "_view_module": "@jupyter-widgets/controls",
      "_view_module_version": "1.5.0",
      "_view_name": "HTMLView",
      "description": "",
      "description_tooltip": null,
      "layout": "IPY_MODEL_e5262576343c48b5bfec10c7e8d1cea4",
      "placeholder": "​",
      "style": "IPY_MODEL_720c3a3d46b84a6a980f377ec3e10595",
      "value": " 170500096/? [00:06&lt;00:00, 25011313.73it/s]"
     }
    },
    "33e14474d1504f4abcf7c24f0033049e": {
     "model_module": "@jupyter-widgets/base",
     "model_name": "LayoutModel",
     "state": {
      "_model_module": "@jupyter-widgets/base",
      "_model_module_version": "1.2.0",
      "_model_name": "LayoutModel",
      "_view_count": null,
      "_view_module": "@jupyter-widgets/base",
      "_view_module_version": "1.2.0",
      "_view_name": "LayoutView",
      "align_content": null,
      "align_items": null,
      "align_self": null,
      "border": null,
      "bottom": null,
      "display": null,
      "flex": null,
      "flex_flow": null,
      "grid_area": null,
      "grid_auto_columns": null,
      "grid_auto_flow": null,
      "grid_auto_rows": null,
      "grid_column": null,
      "grid_gap": null,
      "grid_row": null,
      "grid_template_areas": null,
      "grid_template_columns": null,
      "grid_template_rows": null,
      "height": null,
      "justify_content": null,
      "justify_items": null,
      "left": null,
      "margin": null,
      "max_height": null,
      "max_width": null,
      "min_height": null,
      "min_width": null,
      "object_fit": null,
      "object_position": null,
      "order": null,
      "overflow": null,
      "overflow_x": null,
      "overflow_y": null,
      "padding": null,
      "right": null,
      "top": null,
      "visibility": null,
      "width": null
     }
    },
    "56a5e96884324bd4b18844280fc886f8": {
     "model_module": "@jupyter-widgets/controls",
     "model_name": "ProgressStyleModel",
     "state": {
      "_model_module": "@jupyter-widgets/controls",
      "_model_module_version": "1.5.0",
      "_model_name": "ProgressStyleModel",
      "_view_count": null,
      "_view_module": "@jupyter-widgets/base",
      "_view_module_version": "1.2.0",
      "_view_name": "StyleView",
      "bar_color": null,
      "description_width": "initial"
     }
    },
    "663f36537a094ed99be8a3472ff09ff2": {
     "model_module": "@jupyter-widgets/controls",
     "model_name": "FloatProgressModel",
     "state": {
      "_dom_classes": [],
      "_model_module": "@jupyter-widgets/controls",
      "_model_module_version": "1.5.0",
      "_model_name": "FloatProgressModel",
      "_view_count": null,
      "_view_module": "@jupyter-widgets/controls",
      "_view_module_version": "1.5.0",
      "_view_name": "ProgressView",
      "bar_style": "success",
      "description": "",
      "description_tooltip": null,
      "layout": "IPY_MODEL_7f07c951632847859e97aba0cd49b781",
      "max": 1,
      "min": 0,
      "orientation": "horizontal",
      "style": "IPY_MODEL_56a5e96884324bd4b18844280fc886f8",
      "value": 1
     }
    },
    "720c3a3d46b84a6a980f377ec3e10595": {
     "model_module": "@jupyter-widgets/controls",
     "model_name": "DescriptionStyleModel",
     "state": {
      "_model_module": "@jupyter-widgets/controls",
      "_model_module_version": "1.5.0",
      "_model_name": "DescriptionStyleModel",
      "_view_count": null,
      "_view_module": "@jupyter-widgets/base",
      "_view_module_version": "1.2.0",
      "_view_name": "StyleView",
      "description_width": ""
     }
    },
    "7f07c951632847859e97aba0cd49b781": {
     "model_module": "@jupyter-widgets/base",
     "model_name": "LayoutModel",
     "state": {
      "_model_module": "@jupyter-widgets/base",
      "_model_module_version": "1.2.0",
      "_model_name": "LayoutModel",
      "_view_count": null,
      "_view_module": "@jupyter-widgets/base",
      "_view_module_version": "1.2.0",
      "_view_name": "LayoutView",
      "align_content": null,
      "align_items": null,
      "align_self": null,
      "border": null,
      "bottom": null,
      "display": null,
      "flex": null,
      "flex_flow": null,
      "grid_area": null,
      "grid_auto_columns": null,
      "grid_auto_flow": null,
      "grid_auto_rows": null,
      "grid_column": null,
      "grid_gap": null,
      "grid_row": null,
      "grid_template_areas": null,
      "grid_template_columns": null,
      "grid_template_rows": null,
      "height": null,
      "justify_content": null,
      "justify_items": null,
      "left": null,
      "margin": null,
      "max_height": null,
      "max_width": null,
      "min_height": null,
      "min_width": null,
      "object_fit": null,
      "object_position": null,
      "order": null,
      "overflow": null,
      "overflow_x": null,
      "overflow_y": null,
      "padding": null,
      "right": null,
      "top": null,
      "visibility": null,
      "width": null
     }
    },
    "e5262576343c48b5bfec10c7e8d1cea4": {
     "model_module": "@jupyter-widgets/base",
     "model_name": "LayoutModel",
     "state": {
      "_model_module": "@jupyter-widgets/base",
      "_model_module_version": "1.2.0",
      "_model_name": "LayoutModel",
      "_view_count": null,
      "_view_module": "@jupyter-widgets/base",
      "_view_module_version": "1.2.0",
      "_view_name": "LayoutView",
      "align_content": null,
      "align_items": null,
      "align_self": null,
      "border": null,
      "bottom": null,
      "display": null,
      "flex": null,
      "flex_flow": null,
      "grid_area": null,
      "grid_auto_columns": null,
      "grid_auto_flow": null,
      "grid_auto_rows": null,
      "grid_column": null,
      "grid_gap": null,
      "grid_row": null,
      "grid_template_areas": null,
      "grid_template_columns": null,
      "grid_template_rows": null,
      "height": null,
      "justify_content": null,
      "justify_items": null,
      "left": null,
      "margin": null,
      "max_height": null,
      "max_width": null,
      "min_height": null,
      "min_width": null,
      "object_fit": null,
      "object_position": null,
      "order": null,
      "overflow": null,
      "overflow_x": null,
      "overflow_y": null,
      "padding": null,
      "right": null,
      "top": null,
      "visibility": null,
      "width": null
     }
    },
    "fdb387db0e704d52a2b58d9a55265bcb": {
     "model_module": "@jupyter-widgets/controls",
     "model_name": "HBoxModel",
     "state": {
      "_dom_classes": [],
      "_model_module": "@jupyter-widgets/controls",
      "_model_module_version": "1.5.0",
      "_model_name": "HBoxModel",
      "_view_count": null,
      "_view_module": "@jupyter-widgets/controls",
      "_view_module_version": "1.5.0",
      "_view_name": "HBoxView",
      "box_style": "",
      "children": [
       "IPY_MODEL_663f36537a094ed99be8a3472ff09ff2",
       "IPY_MODEL_2d99cf9cc4e04e228b2d997d1dc529b3"
      ],
      "layout": "IPY_MODEL_33e14474d1504f4abcf7c24f0033049e"
     }
    }
   }
  }
 },
 "nbformat": 4,
 "nbformat_minor": 1
}
