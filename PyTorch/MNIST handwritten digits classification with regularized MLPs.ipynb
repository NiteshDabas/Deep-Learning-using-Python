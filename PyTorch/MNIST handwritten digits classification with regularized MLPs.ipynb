{
  "nbformat": 4,
  "nbformat_minor": 0,
  "metadata": {
    "accelerator": "GPU",
    "colab": {
      "name": "DSTI_DL_Lab6_October2020_solution.ipynb",
      "provenance": [],
      "collapsed_sections": [],
      "toc_visible": true
    },
    "kernelspec": {
      "display_name": "Python 3",
      "language": "python",
      "name": "python3"
    },
    "language_info": {
      "codemirror_mode": {
        "name": "ipython",
        "version": 3
      },
      "file_extension": ".py",
      "mimetype": "text/x-python",
      "name": "python",
      "nbconvert_exporter": "python",
      "pygments_lexer": "ipython3",
      "version": "3.7.7"
    }
  },
  "cells": [
    {
      "cell_type": "markdown",
      "metadata": {
        "id": "QYZjzA-LQ3yq"
      },
      "source": [
        "# MNIST handwritten digits classification with regularized MLPs\n",
        "\n",
        "In this notebook, we'll train a multi-layer perceptron model to classify MNIST digits using **PyTorch**.\n",
        "\n",
        "The neural network will be regularized with\n",
        "\n",
        "\n",
        "1.   Dropout\n",
        "2.   Batchnormalization\n",
        "\n",
        "\n",
        "\n"
      ]
    },
    {
      "cell_type": "markdown",
      "metadata": {
        "id": "uEtfy2Y5KrXS"
      },
      "source": [
        "First, the needed imports. "
      ]
    },
    {
      "cell_type": "code",
      "metadata": {
        "id": "qrZvRCTBQ3yt",
        "outputId": "13ccf00b-11a4-40b3-b1f4-435bce71250c",
        "colab": {
          "base_uri": "https://localhost:8080/",
          "height": 34
        }
      },
      "source": [
        "%matplotlib inline\n",
        "\n",
        "import torch\n",
        "import torch.nn as nn\n",
        "import torch.nn.functional as F\n",
        "from torchvision import datasets, transforms\n",
        "#import seaborn as sns\n",
        "#sns.set()\n",
        "\n",
        "import numpy as np\n",
        "import matplotlib.pyplot as plt\n",
        "\n",
        "if torch.cuda.is_available():\n",
        "    device = torch.device('cuda')\n",
        "else:\n",
        "    device = torch.device('cpu')\n",
        "    \n",
        "print('Using PyTorch version:', torch.__version__, ' Device:', device)"
      ],
      "execution_count": 1,
      "outputs": [
        {
          "output_type": "stream",
          "text": [
            "Using PyTorch version: 1.6.0+cu101  Device: cuda\n"
          ],
          "name": "stdout"
        }
      ]
    },
    {
      "cell_type": "markdown",
      "metadata": {
        "id": "Y0chwSkbQ3yx"
      },
      "source": [
        "## Data\n",
        "\n",
        "Next we'll load the MNIST data.  First time we may have to download the data, which can take a while.\n",
        "\n",
        "Note that we are here using the MNIST test data for *validation*, instead of for testing the final model."
      ]
    },
    {
      "cell_type": "code",
      "metadata": {
        "id": "CyqByXDlQ3yy"
      },
      "source": [
        "batch_size = 32\n",
        "\n",
        "train_dataset = datasets.MNIST('./data', \n",
        "                               train=True, \n",
        "                               download=True, \n",
        "                               transform=transforms.ToTensor())\n",
        "\n",
        "validation_dataset = datasets.MNIST('./data', \n",
        "                                    train=False, \n",
        "                                    transform=transforms.ToTensor())\n",
        "\n",
        "train_loader = torch.utils.data.DataLoader(dataset=train_dataset, \n",
        "                                           batch_size=batch_size, \n",
        "                                           shuffle=True)\n",
        "\n",
        "validation_loader = torch.utils.data.DataLoader(dataset=validation_dataset, \n",
        "                                                batch_size=batch_size, \n",
        "                                                shuffle=False)"
      ],
      "execution_count": 2,
      "outputs": []
    },
    {
      "cell_type": "markdown",
      "metadata": {
        "id": "R5RUIpKiQ3y1"
      },
      "source": [
        "The train and test data are provided via data loaders that provide iterators over the datasets. The first element of training data (`X_train`) is a 4th-order tensor of size (`batch_size`, 1, 28, 28), i.e. it consists of a batch of images of size 1x28x28 pixels. `y_train` is a vector containing the correct classes (\"0\", \"1\", ..., \"9\") for each training digit."
      ]
    },
    {
      "cell_type": "code",
      "metadata": {
        "id": "rpWAQsC5Q3y2",
        "outputId": "2b88080b-3497-48df-cf65-6c4b45857fc4",
        "colab": {
          "base_uri": "https://localhost:8080/",
          "height": 51
        }
      },
      "source": [
        "for (X_train, y_train) in train_loader:\n",
        "    print('X_train:', X_train.size(), 'type:', X_train.type())\n",
        "    print('y_train:', y_train.size(), 'type:', y_train.type())\n",
        "    break"
      ],
      "execution_count": 3,
      "outputs": [
        {
          "output_type": "stream",
          "text": [
            "X_train: torch.Size([32, 1, 28, 28]) type: torch.FloatTensor\n",
            "y_train: torch.Size([32]) type: torch.LongTensor\n"
          ],
          "name": "stdout"
        }
      ]
    },
    {
      "cell_type": "markdown",
      "metadata": {
        "id": "l-HI9wwyQ3y4"
      },
      "source": [
        "Here are the first 10 training digits:"
      ]
    },
    {
      "cell_type": "code",
      "metadata": {
        "id": "bEwHbv16Q3y6",
        "outputId": "8633ac5d-674b-424b-d68b-d71faa1b7ae1",
        "colab": {
          "base_uri": "https://localhost:8080/",
          "height": 94
        }
      },
      "source": [
        "pltsize=1\n",
        "plt.figure(figsize=(10*pltsize, pltsize))\n",
        "\n",
        "for i in range(10):\n",
        "    plt.subplot(1,10,i+1)\n",
        "    plt.axis('off')\n",
        "    plt.imshow(X_train[i,:,:,:].numpy().reshape(28,28), cmap=\"gray\")\n",
        "    plt.title('Class: '+str(y_train[i].item()))"
      ],
      "execution_count": 4,
      "outputs": [
        {
          "output_type": "display_data",
          "data": {
            "image/png": "[encoded data removed]",
            "text/plain": [
              "<Figure size 720x72 with 10 Axes>"
            ]
          },
          "metadata": {
            "tags": [],
            "needs_background": "light"
          }
        }
      ]
    },
    {
      "cell_type": "markdown",
      "metadata": {
        "id": "Lj0u1Y9uQ3y9"
      },
      "source": [
        "## MLP network definition\n",
        "\n",
        "Let's define the network as a Python class.  We have to write the `__init__()` and `forward()` methods, and PyTorch will automatically generate a `backward()` method for computing the gradients for the backward pass.\n",
        "\n",
        "Finally, we define an optimizer to update the model parameters based on the computed gradients.  We select *stochastic gradient descent (with momentum)* as the optimization algorithm, and set *learning rate* to 0.01.  Note that there are [several different options](http://pytorch.org/docs/optim.html#algorithms) for the optimizer in PyTorch that we could use instead of *SGD*."
      ]
    },
    {
      "cell_type": "markdown",
      "metadata": {
        "id": "FB_060a0LkaB"
      },
      "source": [
        "#### Question: Complete the missing blocks in the definition of the  convNet architecture \n",
        "\n",
        "The neural network should be composed as (FullyConnected 256 -> ReLU -> Fully Connected 256 -> ReLU -> Fully Connected 10 -> softmax)"
      ]
    },
    {
      "cell_type": "code",
      "metadata": {
        "id": "ERvvxFlPQ3y-",
        "outputId": "5d267cf2-476e-484f-92e3-bbaa1a0559a0",
        "colab": {
          "base_uri": "https://localhost:8080/",
          "height": 102
        }
      },
      "source": [
        "H1 = 256\n",
        "H2 = 256 \n",
        "\n",
        "class Net(nn.Module):\n",
        "    def __init__(self):\n",
        "        super(Net, self).__init__()\n",
        "        self.fc1 = nn.Linear(28*28, H1)\n",
        "        self.fc2 = nn.Linear(H1, H2)\n",
        "        self.fc3 = nn.Linear(H2, 10)\n",
        "\n",
        "    def forward(self, x):\n",
        "        x = x.view(-1, 28*28)\n",
        "        x = F.relu(self.fc1(x))\n",
        "        x = F.relu(self.fc2(x))\n",
        "        return F.log_softmax(self.fc3(x), dim=1)\n",
        "        #return self.fc3(x)\n",
        "\n",
        "model = Net().to(device)\n",
        "optimizer = torch.optim.SGD(model.parameters(), lr=0.01, momentum=0.)\n",
        "#optimizer = torch.optim.Adam(model.parameters(), lr=0.01)\n",
        "criterion = nn.CrossEntropyLoss()\n",
        "\n",
        "print(model)"
      ],
      "execution_count": 5,
      "outputs": [
        {
          "output_type": "stream",
          "text": [
            "Net(\n",
            "  (fc1): Linear(in_features=784, out_features=256, bias=True)\n",
            "  (fc2): Linear(in_features=256, out_features=256, bias=True)\n",
            "  (fc3): Linear(in_features=256, out_features=10, bias=True)\n",
            ")\n"
          ],
          "name": "stdout"
        }
      ]
    },
    {
      "cell_type": "markdown",
      "metadata": {
        "id": "bbnPlkshVtS1"
      },
      "source": [
        "### Question: Complete the missing blocks in the definition of the \"DropoutNet\" architecture\n",
        "\n",
        "The neural network should be composed as (FullyConnected 256 -> ReLU -> Dropout (0.2) -> Fully Connected 256 -> ReLU -> Dropout (0.5) -> Fully Connected 10 -> softmax)"
      ]
    },
    {
      "cell_type": "code",
      "metadata": {
        "id": "bEK5kptoSYfe",
        "outputId": "a26a8dc9-f157-47f8-997e-85f79b2398df",
        "colab": {
          "base_uri": "https://localhost:8080/",
          "height": 136
        }
      },
      "source": [
        "class NetDrop(nn.Module):\n",
        "    def __init__(self):\n",
        "        super(NetDrop, self).__init__()\n",
        "        self.fc1 = nn.Linear(28*28, H1)\n",
        "        self.fc1_drop = nn.Dropout(0.2)\n",
        "        self.fc2 = nn.Linear(H1, H2)\n",
        "        self.fc2_drop = nn.Dropout(0.5)\n",
        "        self.fc3 = nn.Linear(H2, 10)\n",
        "\n",
        "    def forward(self, x):\n",
        "        x = x.view(-1, 28*28)\n",
        "        x = F.relu(self.fc1(x))\n",
        "        x = self.fc1_drop(x)\n",
        "        x = F.relu(self.fc2(x))\n",
        "        x = self.fc2_drop(x)\n",
        "        return F.log_softmax(self.fc3(x), dim=1)\n",
        "\n",
        "modelDrop = NetDrop().to(device)\n",
        "optimizerDrop = torch.optim.SGD(modelDrop.parameters(), lr=0.01, momentum=0.)\n",
        "\n",
        "print(modelDrop)"
      ],
      "execution_count": 6,
      "outputs": [
        {
          "output_type": "stream",
          "text": [
            "NetDrop(\n",
            "  (fc1): Linear(in_features=784, out_features=256, bias=True)\n",
            "  (fc1_drop): Dropout(p=0.2, inplace=False)\n",
            "  (fc2): Linear(in_features=256, out_features=256, bias=True)\n",
            "  (fc2_drop): Dropout(p=0.5, inplace=False)\n",
            "  (fc3): Linear(in_features=256, out_features=10, bias=True)\n",
            ")\n"
          ],
          "name": "stdout"
        }
      ]
    },
    {
      "cell_type": "markdown",
      "metadata": {
        "id": "p1u8Y6ydL_L8"
      },
      "source": [
        "### Question: Complete the missing blocks in the definition of the  \"Batchnormalization\" architecture\n",
        "\n",
        "The neural network should be composed as (FullyConnected 256 -> ReLU -> Batchnorm -> Fully Connected 256 -> ReLU -> Batchnorm -> Fully Connected 10 -> softmax)"
      ]
    },
    {
      "cell_type": "code",
      "metadata": {
        "id": "rcnP7ZRwMIu_",
        "outputId": "b82efcb9-5b3b-4ba7-c628-40eb4f9e6703",
        "colab": {
          "base_uri": "https://localhost:8080/",
          "height": 136
        }
      },
      "source": [
        "class NetBatchNorm(nn.Module):\n",
        "    def __init__(self):\n",
        "        super(NetBatchNorm, self).__init__()\n",
        "        self.fc1 = nn.Linear(28*28, H1)\n",
        "        self.bn1 = nn.BatchNorm1d(H1)\n",
        "        self.fc2 = nn.Linear(H1, H2)\n",
        "        self.bn2 = nn.BatchNorm1d(H2)\n",
        "        self.fc3 = nn.Linear(H2, 10)\n",
        "\n",
        "    def forward(self, x):\n",
        "        x = x.view(-1, 28*28)\n",
        "        x = F.relu(self.fc1(x))\n",
        "        x = self.bn1(x)\n",
        "        x = F.relu(self.fc2(x))\n",
        "        x = self.bn2(x)\n",
        "        return F.log_softmax(self.fc3(x), dim=1)\n",
        "\n",
        "modelBatchNorm = NetBatchNorm().to(device)\n",
        "optimizerBatchNorm = torch.optim.SGD(modelBatchNorm.parameters(), lr=0.01, momentum=0.)\n",
        "\n",
        "print(modelBatchNorm)"
      ],
      "execution_count": 7,
      "outputs": [
        {
          "output_type": "stream",
          "text": [
            "NetBatchNorm(\n",
            "  (fc1): Linear(in_features=784, out_features=256, bias=True)\n",
            "  (bn1): BatchNorm1d(256, eps=1e-05, momentum=0.1, affine=True, track_running_stats=True)\n",
            "  (fc2): Linear(in_features=256, out_features=256, bias=True)\n",
            "  (bn2): BatchNorm1d(256, eps=1e-05, momentum=0.1, affine=True, track_running_stats=True)\n",
            "  (fc3): Linear(in_features=256, out_features=10, bias=True)\n",
            ")\n"
          ],
          "name": "stdout"
        }
      ]
    },
    {
      "cell_type": "markdown",
      "metadata": {
        "id": "jOwerJmYQ3zA"
      },
      "source": [
        "## Learning\n",
        "\n",
        "Let's now define functions to `train()` and `test()` the model. "
      ]
    },
    {
      "cell_type": "code",
      "metadata": {
        "id": "eyA6cc6kQ3zB"
      },
      "source": [
        "def train(model, optimizer, epoch, log_interval=200):\n",
        "    # Set model to training mode\n",
        "    model.train()\n",
        "    \n",
        "    # Loop over each batch from the training set\n",
        "    for batch_idx, (data, target) in enumerate(train_loader):\n",
        "        # Copy data to GPU if needed\n",
        "        data = data.to(device)\n",
        "        target = target.to(device)\n",
        "\n",
        "        # Zero gradient buffers\n",
        "        optimizer.zero_grad() \n",
        "        \n",
        "        # Pass data through the network\n",
        "        output = model(data)\n",
        "\n",
        "        # Calculate loss\n",
        "        loss = criterion(output, target)\n",
        "\n",
        "        # Backpropagate\n",
        "        loss.backward()\n",
        "        \n",
        "        # Update weights\n",
        "        optimizer.step()\n",
        "        \n",
        "        if batch_idx % log_interval == 0:\n",
        "            print('Train Epoch: {} [{}/{} ({:.0f}%)]\\tLoss: {:.6f}'.format(\n",
        "                epoch, batch_idx * len(data), len(train_loader.dataset),\n",
        "                100. * batch_idx / len(train_loader), loss.data.item()))"
      ],
      "execution_count": 8,
      "outputs": []
    },
    {
      "cell_type": "code",
      "metadata": {
        "id": "GZpI82dgQ3zE"
      },
      "source": [
        "def validate(model, loss_vector, accuracy_vector):\n",
        "    model.eval()\n",
        "    val_loss, correct = 0, 0\n",
        "    for data, target in validation_loader:\n",
        "        data = data.to(device)\n",
        "        target = target.to(device)\n",
        "        output = model(data)\n",
        "        val_loss += criterion(output, target).data.item()\n",
        "        pred = output.data.max(1)[1] # get the index of the max log-probability\n",
        "        correct += pred.eq(target.data).cpu().sum()\n",
        "\n",
        "    val_loss /= len(validation_loader)\n",
        "    loss_vector.append(val_loss)\n",
        "\n",
        "    accuracy = 100. * correct.to(torch.float32) / len(validation_loader.dataset)\n",
        "    accuracy_vector.append(accuracy)\n",
        "    \n",
        "    print('\\nValidation set: Average loss: {:.4f}, Accuracy: {}/{} ({:.0f}%)\\n'.format(\n",
        "        val_loss, correct, len(validation_loader.dataset), accuracy))\n"
      ],
      "execution_count": 9,
      "outputs": []
    },
    {
      "cell_type": "markdown",
      "metadata": {
        "id": "RpE7EGviQ3zF"
      },
      "source": [
        "Now we are ready to train our model using the `train()` function.  An *epoch* means one pass through the whole training data. After each epoch, we evaluate the model using `test()`. "
      ]
    },
    {
      "cell_type": "markdown",
      "metadata": {
        "id": "Ls0lR3WvVVZQ"
      },
      "source": [
        "Training without Dropout"
      ]
    },
    {
      "cell_type": "code",
      "metadata": {
        "id": "uFPAF_CNQ3zG",
        "scrolled": false,
        "outputId": "859683ad-c368-4dbd-c4df-129f64766cef",
        "colab": {
          "base_uri": "https://localhost:8080/",
          "height": 1000
        }
      },
      "source": [
        "%%time\n",
        "epochs = 10\n",
        "\n",
        "lossv, accv = [], []\n",
        "for epoch in range(1, epochs + 1):\n",
        "    train(model, optimizer, epoch)\n",
        "    validate(model, lossv, accv)"
      ],
      "execution_count": 10,
      "outputs": [
        {
          "output_type": "stream",
          "text": [
            "Train Epoch: 1 [0/60000 (0%)]\tLoss: 2.300643\n",
            "Train Epoch: 1 [6400/60000 (11%)]\tLoss: 2.224137\n",
            "Train Epoch: 1 [12800/60000 (21%)]\tLoss: 1.890778\n",
            "Train Epoch: 1 [19200/60000 (32%)]\tLoss: 1.225978\n",
            "Train Epoch: 1 [25600/60000 (43%)]\tLoss: 0.902732\n",
            "Train Epoch: 1 [32000/60000 (53%)]\tLoss: 0.507672\n",
            "Train Epoch: 1 [38400/60000 (64%)]\tLoss: 0.524448\n",
            "Train Epoch: 1 [44800/60000 (75%)]\tLoss: 0.362650\n",
            "Train Epoch: 1 [51200/60000 (85%)]\tLoss: 0.360417\n",
            "Train Epoch: 1 [57600/60000 (96%)]\tLoss: 0.361262\n",
            "\n",
            "Validation set: Average loss: 0.4090, Accuracy: 8875/10000 (89%)\n",
            "\n",
            "Train Epoch: 2 [0/60000 (0%)]\tLoss: 0.592907\n",
            "Train Epoch: 2 [6400/60000 (11%)]\tLoss: 0.241941\n",
            "Train Epoch: 2 [12800/60000 (21%)]\tLoss: 0.399223\n",
            "Train Epoch: 2 [19200/60000 (32%)]\tLoss: 0.442243\n",
            "Train Epoch: 2 [25600/60000 (43%)]\tLoss: 0.341285\n",
            "Train Epoch: 2 [32000/60000 (53%)]\tLoss: 0.214044\n",
            "Train Epoch: 2 [38400/60000 (64%)]\tLoss: 0.140776\n",
            "Train Epoch: 2 [44800/60000 (75%)]\tLoss: 0.268541\n",
            "Train Epoch: 2 [51200/60000 (85%)]\tLoss: 0.236352\n",
            "Train Epoch: 2 [57600/60000 (96%)]\tLoss: 0.650579\n",
            "\n",
            "Validation set: Average loss: 0.3127, Accuracy: 9094/10000 (91%)\n",
            "\n",
            "Train Epoch: 3 [0/60000 (0%)]\tLoss: 0.476934\n",
            "Train Epoch: 3 [6400/60000 (11%)]\tLoss: 0.303061\n",
            "Train Epoch: 3 [12800/60000 (21%)]\tLoss: 0.182239\n",
            "Train Epoch: 3 [19200/60000 (32%)]\tLoss: 0.177234\n",
            "Train Epoch: 3 [25600/60000 (43%)]\tLoss: 0.262122\n",
            "Train Epoch: 3 [32000/60000 (53%)]\tLoss: 0.509000\n",
            "Train Epoch: 3 [38400/60000 (64%)]\tLoss: 0.194330\n",
            "Train Epoch: 3 [44800/60000 (75%)]\tLoss: 0.591871\n",
            "Train Epoch: 3 [51200/60000 (85%)]\tLoss: 0.227890\n",
            "Train Epoch: 3 [57600/60000 (96%)]\tLoss: 0.564460\n",
            "\n",
            "Validation set: Average loss: 0.2639, Accuracy: 9225/10000 (92%)\n",
            "\n",
            "Train Epoch: 4 [0/60000 (0%)]\tLoss: 0.119861\n",
            "Train Epoch: 4 [6400/60000 (11%)]\tLoss: 0.122012\n",
            "Train Epoch: 4 [12800/60000 (21%)]\tLoss: 0.099625\n",
            "Train Epoch: 4 [19200/60000 (32%)]\tLoss: 0.524019\n",
            "Train Epoch: 4 [25600/60000 (43%)]\tLoss: 0.403585\n",
            "Train Epoch: 4 [32000/60000 (53%)]\tLoss: 0.495133\n",
            "Train Epoch: 4 [38400/60000 (64%)]\tLoss: 0.149740\n",
            "Train Epoch: 4 [44800/60000 (75%)]\tLoss: 0.101162\n",
            "Train Epoch: 4 [51200/60000 (85%)]\tLoss: 0.122501\n",
            "Train Epoch: 4 [57600/60000 (96%)]\tLoss: 0.237122\n",
            "\n",
            "Validation set: Average loss: 0.2358, Accuracy: 9312/10000 (93%)\n",
            "\n",
            "Train Epoch: 5 [0/60000 (0%)]\tLoss: 0.256276\n",
            "Train Epoch: 5 [6400/60000 (11%)]\tLoss: 0.112265\n",
            "Train Epoch: 5 [12800/60000 (21%)]\tLoss: 0.135261\n",
            "Train Epoch: 5 [19200/60000 (32%)]\tLoss: 0.153019\n",
            "Train Epoch: 5 [25600/60000 (43%)]\tLoss: 0.196431\n",
            "Train Epoch: 5 [32000/60000 (53%)]\tLoss: 0.192848\n",
            "Train Epoch: 5 [38400/60000 (64%)]\tLoss: 0.239810\n",
            "Train Epoch: 5 [44800/60000 (75%)]\tLoss: 0.165838\n",
            "Train Epoch: 5 [51200/60000 (85%)]\tLoss: 0.063382\n",
            "Train Epoch: 5 [57600/60000 (96%)]\tLoss: 0.276556\n",
            "\n",
            "Validation set: Average loss: 0.2084, Accuracy: 9388/10000 (94%)\n",
            "\n",
            "Train Epoch: 6 [0/60000 (0%)]\tLoss: 0.236898\n",
            "Train Epoch: 6 [6400/60000 (11%)]\tLoss: 0.332239\n",
            "Train Epoch: 6 [12800/60000 (21%)]\tLoss: 0.095856\n",
            "Train Epoch: 6 [19200/60000 (32%)]\tLoss: 0.140099\n",
            "Train Epoch: 6 [25600/60000 (43%)]\tLoss: 0.349322\n",
            "Train Epoch: 6 [32000/60000 (53%)]\tLoss: 0.271051\n",
            "Train Epoch: 6 [38400/60000 (64%)]\tLoss: 0.087394\n",
            "Train Epoch: 6 [44800/60000 (75%)]\tLoss: 0.261696\n",
            "Train Epoch: 6 [51200/60000 (85%)]\tLoss: 0.058862\n",
            "Train Epoch: 6 [57600/60000 (96%)]\tLoss: 0.459109\n",
            "\n",
            "Validation set: Average loss: 0.1859, Accuracy: 9471/10000 (95%)\n",
            "\n",
            "Train Epoch: 7 [0/60000 (0%)]\tLoss: 0.288724\n",
            "Train Epoch: 7 [6400/60000 (11%)]\tLoss: 0.184702\n",
            "Train Epoch: 7 [12800/60000 (21%)]\tLoss: 0.180511\n",
            "Train Epoch: 7 [19200/60000 (32%)]\tLoss: 0.140463\n",
            "Train Epoch: 7 [25600/60000 (43%)]\tLoss: 0.108222\n",
            "Train Epoch: 7 [32000/60000 (53%)]\tLoss: 0.041935\n",
            "Train Epoch: 7 [38400/60000 (64%)]\tLoss: 0.211493\n",
            "Train Epoch: 7 [44800/60000 (75%)]\tLoss: 0.095071\n",
            "Train Epoch: 7 [51200/60000 (85%)]\tLoss: 0.213441\n",
            "Train Epoch: 7 [57600/60000 (96%)]\tLoss: 0.100707\n",
            "\n",
            "Validation set: Average loss: 0.1692, Accuracy: 9502/10000 (95%)\n",
            "\n",
            "Train Epoch: 8 [0/60000 (0%)]\tLoss: 0.121259\n",
            "Train Epoch: 8 [6400/60000 (11%)]\tLoss: 0.096293\n",
            "Train Epoch: 8 [12800/60000 (21%)]\tLoss: 0.043752\n",
            "Train Epoch: 8 [19200/60000 (32%)]\tLoss: 0.317980\n",
            "Train Epoch: 8 [25600/60000 (43%)]\tLoss: 0.068152\n",
            "Train Epoch: 8 [32000/60000 (53%)]\tLoss: 0.242312\n",
            "Train Epoch: 8 [38400/60000 (64%)]\tLoss: 0.029594\n",
            "Train Epoch: 8 [44800/60000 (75%)]\tLoss: 0.105196\n",
            "Train Epoch: 8 [51200/60000 (85%)]\tLoss: 0.069123\n",
            "Train Epoch: 8 [57600/60000 (96%)]\tLoss: 0.035146\n",
            "\n",
            "Validation set: Average loss: 0.1536, Accuracy: 9547/10000 (95%)\n",
            "\n",
            "Train Epoch: 9 [0/60000 (0%)]\tLoss: 0.070018\n",
            "Train Epoch: 9 [6400/60000 (11%)]\tLoss: 0.085940\n",
            "Train Epoch: 9 [12800/60000 (21%)]\tLoss: 0.207740\n",
            "Train Epoch: 9 [19200/60000 (32%)]\tLoss: 0.300695\n",
            "Train Epoch: 9 [25600/60000 (43%)]\tLoss: 0.093705\n",
            "Train Epoch: 9 [32000/60000 (53%)]\tLoss: 0.062491\n",
            "Train Epoch: 9 [38400/60000 (64%)]\tLoss: 0.146085\n",
            "Train Epoch: 9 [44800/60000 (75%)]\tLoss: 0.143379\n",
            "Train Epoch: 9 [51200/60000 (85%)]\tLoss: 0.195162\n",
            "Train Epoch: 9 [57600/60000 (96%)]\tLoss: 0.087748\n",
            "\n",
            "Validation set: Average loss: 0.1405, Accuracy: 9581/10000 (96%)\n",
            "\n",
            "Train Epoch: 10 [0/60000 (0%)]\tLoss: 0.185587\n",
            "Train Epoch: 10 [6400/60000 (11%)]\tLoss: 0.497749\n",
            "Train Epoch: 10 [12800/60000 (21%)]\tLoss: 0.260368\n",
            "Train Epoch: 10 [19200/60000 (32%)]\tLoss: 0.216362\n",
            "Train Epoch: 10 [25600/60000 (43%)]\tLoss: 0.092814\n",
            "Train Epoch: 10 [32000/60000 (53%)]\tLoss: 0.064581\n",
            "Train Epoch: 10 [38400/60000 (64%)]\tLoss: 0.048414\n",
            "Train Epoch: 10 [44800/60000 (75%)]\tLoss: 0.206681\n",
            "Train Epoch: 10 [51200/60000 (85%)]\tLoss: 0.133217\n",
            "Train Epoch: 10 [57600/60000 (96%)]\tLoss: 0.338440\n",
            "\n",
            "Validation set: Average loss: 0.1322, Accuracy: 9617/10000 (96%)\n",
            "\n",
            "CPU times: user 1min 46s, sys: 1.21 s, total: 1min 47s\n",
            "Wall time: 1min 48s\n"
          ],
          "name": "stdout"
        }
      ]
    },
    {
      "cell_type": "markdown",
      "metadata": {
        "id": "fqI_dIneVR-o"
      },
      "source": [
        "Training with Dropout"
      ]
    },
    {
      "cell_type": "code",
      "metadata": {
        "id": "RPiJfdeqTJqb",
        "scrolled": false,
        "outputId": "e8455122-8ab8-49d5-dd7b-557a99a28797",
        "colab": {
          "base_uri": "https://localhost:8080/",
          "height": 1000
        }
      },
      "source": [
        "%%time\n",
        "\n",
        "lossvDrop, accvDrop = [], []\n",
        "for epoch in range(1, epochs + 1):\n",
        "    train(modelDrop, optimizerDrop, epoch)\n",
        "    validate(modelDrop, lossvDrop, accvDrop)"
      ],
      "execution_count": 11,
      "outputs": [
        {
          "output_type": "stream",
          "text": [
            "Train Epoch: 1 [0/60000 (0%)]\tLoss: 2.295996\n",
            "Train Epoch: 1 [6400/60000 (11%)]\tLoss: 2.207717\n",
            "Train Epoch: 1 [12800/60000 (21%)]\tLoss: 2.040001\n",
            "Train Epoch: 1 [19200/60000 (32%)]\tLoss: 1.751121\n",
            "Train Epoch: 1 [25600/60000 (43%)]\tLoss: 1.015922\n",
            "Train Epoch: 1 [32000/60000 (53%)]\tLoss: 0.724299\n",
            "Train Epoch: 1 [38400/60000 (64%)]\tLoss: 0.632792\n",
            "Train Epoch: 1 [44800/60000 (75%)]\tLoss: 0.673926\n",
            "Train Epoch: 1 [51200/60000 (85%)]\tLoss: 0.539277\n",
            "Train Epoch: 1 [57600/60000 (96%)]\tLoss: 0.474903\n",
            "\n",
            "Validation set: Average loss: 0.4404, Accuracy: 8810/10000 (88%)\n",
            "\n",
            "Train Epoch: 2 [0/60000 (0%)]\tLoss: 0.403729\n",
            "Train Epoch: 2 [6400/60000 (11%)]\tLoss: 0.479973\n",
            "Train Epoch: 2 [12800/60000 (21%)]\tLoss: 0.655747\n",
            "Train Epoch: 2 [19200/60000 (32%)]\tLoss: 0.545145\n",
            "Train Epoch: 2 [25600/60000 (43%)]\tLoss: 0.501628\n",
            "Train Epoch: 2 [32000/60000 (53%)]\tLoss: 0.336066\n",
            "Train Epoch: 2 [38400/60000 (64%)]\tLoss: 0.336040\n",
            "Train Epoch: 2 [44800/60000 (75%)]\tLoss: 0.178952\n",
            "Train Epoch: 2 [51200/60000 (85%)]\tLoss: 0.606282\n",
            "Train Epoch: 2 [57600/60000 (96%)]\tLoss: 0.322691\n",
            "\n",
            "Validation set: Average loss: 0.3179, Accuracy: 9099/10000 (91%)\n",
            "\n",
            "Train Epoch: 3 [0/60000 (0%)]\tLoss: 0.275538\n",
            "Train Epoch: 3 [6400/60000 (11%)]\tLoss: 0.341550\n",
            "Train Epoch: 3 [12800/60000 (21%)]\tLoss: 0.697980\n",
            "Train Epoch: 3 [19200/60000 (32%)]\tLoss: 0.196865\n",
            "Train Epoch: 3 [25600/60000 (43%)]\tLoss: 0.621226\n",
            "Train Epoch: 3 [32000/60000 (53%)]\tLoss: 0.312636\n",
            "Train Epoch: 3 [38400/60000 (64%)]\tLoss: 0.189141\n",
            "Train Epoch: 3 [44800/60000 (75%)]\tLoss: 0.444626\n",
            "Train Epoch: 3 [51200/60000 (85%)]\tLoss: 0.324807\n",
            "Train Epoch: 3 [57600/60000 (96%)]\tLoss: 0.263017\n",
            "\n",
            "Validation set: Average loss: 0.2637, Accuracy: 9248/10000 (92%)\n",
            "\n",
            "Train Epoch: 4 [0/60000 (0%)]\tLoss: 0.299809\n",
            "Train Epoch: 4 [6400/60000 (11%)]\tLoss: 0.217852\n",
            "Train Epoch: 4 [12800/60000 (21%)]\tLoss: 0.441352\n",
            "Train Epoch: 4 [19200/60000 (32%)]\tLoss: 0.357105\n",
            "Train Epoch: 4 [25600/60000 (43%)]\tLoss: 0.281177\n",
            "Train Epoch: 4 [32000/60000 (53%)]\tLoss: 0.245481\n",
            "Train Epoch: 4 [38400/60000 (64%)]\tLoss: 0.362641\n",
            "Train Epoch: 4 [44800/60000 (75%)]\tLoss: 0.549389\n",
            "Train Epoch: 4 [51200/60000 (85%)]\tLoss: 0.507157\n",
            "Train Epoch: 4 [57600/60000 (96%)]\tLoss: 0.520732\n",
            "\n",
            "Validation set: Average loss: 0.2256, Accuracy: 9330/10000 (93%)\n",
            "\n",
            "Train Epoch: 5 [0/60000 (0%)]\tLoss: 0.288182\n",
            "Train Epoch: 5 [6400/60000 (11%)]\tLoss: 0.227213\n",
            "Train Epoch: 5 [12800/60000 (21%)]\tLoss: 0.274037\n",
            "Train Epoch: 5 [19200/60000 (32%)]\tLoss: 0.376884\n",
            "Train Epoch: 5 [25600/60000 (43%)]\tLoss: 0.578210\n",
            "Train Epoch: 5 [32000/60000 (53%)]\tLoss: 0.158028\n",
            "Train Epoch: 5 [38400/60000 (64%)]\tLoss: 0.213379\n",
            "Train Epoch: 5 [44800/60000 (75%)]\tLoss: 0.187719\n",
            "Train Epoch: 5 [51200/60000 (85%)]\tLoss: 0.393263\n",
            "Train Epoch: 5 [57600/60000 (96%)]\tLoss: 0.151160\n",
            "\n",
            "Validation set: Average loss: 0.1984, Accuracy: 9416/10000 (94%)\n",
            "\n",
            "Train Epoch: 6 [0/60000 (0%)]\tLoss: 0.305531\n",
            "Train Epoch: 6 [6400/60000 (11%)]\tLoss: 0.368796\n",
            "Train Epoch: 6 [12800/60000 (21%)]\tLoss: 0.225307\n",
            "Train Epoch: 6 [19200/60000 (32%)]\tLoss: 0.333831\n",
            "Train Epoch: 6 [25600/60000 (43%)]\tLoss: 0.378555\n",
            "Train Epoch: 6 [32000/60000 (53%)]\tLoss: 0.390224\n",
            "Train Epoch: 6 [38400/60000 (64%)]\tLoss: 0.266058\n",
            "Train Epoch: 6 [44800/60000 (75%)]\tLoss: 0.176561\n",
            "Train Epoch: 6 [51200/60000 (85%)]\tLoss: 0.125272\n",
            "Train Epoch: 6 [57600/60000 (96%)]\tLoss: 0.277564\n",
            "\n",
            "Validation set: Average loss: 0.1749, Accuracy: 9473/10000 (95%)\n",
            "\n",
            "Train Epoch: 7 [0/60000 (0%)]\tLoss: 0.159124\n",
            "Train Epoch: 7 [6400/60000 (11%)]\tLoss: 0.055758\n",
            "Train Epoch: 7 [12800/60000 (21%)]\tLoss: 0.573935\n",
            "Train Epoch: 7 [19200/60000 (32%)]\tLoss: 0.289891\n",
            "Train Epoch: 7 [25600/60000 (43%)]\tLoss: 0.103487\n",
            "Train Epoch: 7 [32000/60000 (53%)]\tLoss: 0.112932\n",
            "Train Epoch: 7 [38400/60000 (64%)]\tLoss: 0.071313\n",
            "Train Epoch: 7 [44800/60000 (75%)]\tLoss: 0.212435\n",
            "Train Epoch: 7 [51200/60000 (85%)]\tLoss: 0.293479\n",
            "Train Epoch: 7 [57600/60000 (96%)]\tLoss: 0.325839\n",
            "\n",
            "Validation set: Average loss: 0.1586, Accuracy: 9526/10000 (95%)\n",
            "\n",
            "Train Epoch: 8 [0/60000 (0%)]\tLoss: 0.058570\n",
            "Train Epoch: 8 [6400/60000 (11%)]\tLoss: 0.169180\n",
            "Train Epoch: 8 [12800/60000 (21%)]\tLoss: 0.684271\n",
            "Train Epoch: 8 [19200/60000 (32%)]\tLoss: 0.230160\n",
            "Train Epoch: 8 [25600/60000 (43%)]\tLoss: 0.120400\n",
            "Train Epoch: 8 [32000/60000 (53%)]\tLoss: 0.347137\n",
            "Train Epoch: 8 [38400/60000 (64%)]\tLoss: 0.207854\n",
            "Train Epoch: 8 [44800/60000 (75%)]\tLoss: 0.168601\n",
            "Train Epoch: 8 [51200/60000 (85%)]\tLoss: 0.074188\n",
            "Train Epoch: 8 [57600/60000 (96%)]\tLoss: 0.297013\n",
            "\n",
            "Validation set: Average loss: 0.1461, Accuracy: 9557/10000 (96%)\n",
            "\n",
            "Train Epoch: 9 [0/60000 (0%)]\tLoss: 0.166485\n",
            "Train Epoch: 9 [6400/60000 (11%)]\tLoss: 0.330902\n",
            "Train Epoch: 9 [12800/60000 (21%)]\tLoss: 0.110095\n",
            "Train Epoch: 9 [19200/60000 (32%)]\tLoss: 0.585619\n",
            "Train Epoch: 9 [25600/60000 (43%)]\tLoss: 0.206416\n",
            "Train Epoch: 9 [32000/60000 (53%)]\tLoss: 0.094877\n",
            "Train Epoch: 9 [38400/60000 (64%)]\tLoss: 0.166742\n",
            "Train Epoch: 9 [44800/60000 (75%)]\tLoss: 0.152842\n",
            "Train Epoch: 9 [51200/60000 (85%)]\tLoss: 0.066696\n",
            "Train Epoch: 9 [57600/60000 (96%)]\tLoss: 0.134298\n",
            "\n",
            "Validation set: Average loss: 0.1350, Accuracy: 9583/10000 (96%)\n",
            "\n",
            "Train Epoch: 10 [0/60000 (0%)]\tLoss: 0.079360\n",
            "Train Epoch: 10 [6400/60000 (11%)]\tLoss: 0.067849\n",
            "Train Epoch: 10 [12800/60000 (21%)]\tLoss: 0.138738\n",
            "Train Epoch: 10 [19200/60000 (32%)]\tLoss: 0.131025\n",
            "Train Epoch: 10 [25600/60000 (43%)]\tLoss: 0.292839\n",
            "Train Epoch: 10 [32000/60000 (53%)]\tLoss: 0.106550\n",
            "Train Epoch: 10 [38400/60000 (64%)]\tLoss: 0.172085\n",
            "Train Epoch: 10 [44800/60000 (75%)]\tLoss: 0.126407\n",
            "Train Epoch: 10 [51200/60000 (85%)]\tLoss: 0.151248\n",
            "Train Epoch: 10 [57600/60000 (96%)]\tLoss: 0.114907\n",
            "\n",
            "Validation set: Average loss: 0.1258, Accuracy: 9617/10000 (96%)\n",
            "\n",
            "CPU times: user 1min 49s, sys: 1.2 s, total: 1min 50s\n",
            "Wall time: 1min 51s\n"
          ],
          "name": "stdout"
        }
      ]
    },
    {
      "cell_type": "markdown",
      "metadata": {
        "id": "nhG5ZvXIMpZ2"
      },
      "source": [
        "Training with Batchnormalization"
      ]
    },
    {
      "cell_type": "code",
      "metadata": {
        "id": "IUWKOAvjM0QI",
        "scrolled": false,
        "outputId": "a7d0b06c-1843-415d-8305-ef7725db66f3",
        "colab": {
          "base_uri": "https://localhost:8080/",
          "height": 1000
        }
      },
      "source": [
        "%%time\n",
        "\n",
        "lossvBN, accvBN = [], []\n",
        "for epoch in range(1, epochs + 1):\n",
        "    train(modelBatchNorm, optimizerBatchNorm, epoch)\n",
        "    validate(modelBatchNorm, lossvBN, accvBN)"
      ],
      "execution_count": 12,
      "outputs": [
        {
          "output_type": "stream",
          "text": [
            "Train Epoch: 1 [0/60000 (0%)]\tLoss: 2.291294\n",
            "Train Epoch: 1 [6400/60000 (11%)]\tLoss: 0.322032\n",
            "Train Epoch: 1 [12800/60000 (21%)]\tLoss: 0.154990\n",
            "Train Epoch: 1 [19200/60000 (32%)]\tLoss: 0.250740\n",
            "Train Epoch: 1 [25600/60000 (43%)]\tLoss: 0.052424\n",
            "Train Epoch: 1 [32000/60000 (53%)]\tLoss: 0.200562\n",
            "Train Epoch: 1 [38400/60000 (64%)]\tLoss: 0.139862\n",
            "Train Epoch: 1 [44800/60000 (75%)]\tLoss: 0.312722\n",
            "Train Epoch: 1 [51200/60000 (85%)]\tLoss: 0.121912\n",
            "Train Epoch: 1 [57600/60000 (96%)]\tLoss: 0.024394\n",
            "\n",
            "Validation set: Average loss: 0.1169, Accuracy: 9656/10000 (97%)\n",
            "\n",
            "Train Epoch: 2 [0/60000 (0%)]\tLoss: 0.101123\n",
            "Train Epoch: 2 [6400/60000 (11%)]\tLoss: 0.176334\n",
            "Train Epoch: 2 [12800/60000 (21%)]\tLoss: 0.120334\n",
            "Train Epoch: 2 [19200/60000 (32%)]\tLoss: 0.118462\n",
            "Train Epoch: 2 [25600/60000 (43%)]\tLoss: 0.013616\n",
            "Train Epoch: 2 [32000/60000 (53%)]\tLoss: 0.236900\n",
            "Train Epoch: 2 [38400/60000 (64%)]\tLoss: 0.019138\n",
            "Train Epoch: 2 [44800/60000 (75%)]\tLoss: 0.034770\n",
            "Train Epoch: 2 [51200/60000 (85%)]\tLoss: 0.041382\n",
            "Train Epoch: 2 [57600/60000 (96%)]\tLoss: 0.028099\n",
            "\n",
            "Validation set: Average loss: 0.0885, Accuracy: 9737/10000 (97%)\n",
            "\n",
            "Train Epoch: 3 [0/60000 (0%)]\tLoss: 0.261446\n",
            "Train Epoch: 3 [6400/60000 (11%)]\tLoss: 0.050766\n",
            "Train Epoch: 3 [12800/60000 (21%)]\tLoss: 0.081988\n",
            "Train Epoch: 3 [19200/60000 (32%)]\tLoss: 0.120728\n",
            "Train Epoch: 3 [25600/60000 (43%)]\tLoss: 0.131946\n",
            "Train Epoch: 3 [32000/60000 (53%)]\tLoss: 0.117822\n",
            "Train Epoch: 3 [38400/60000 (64%)]\tLoss: 0.025920\n",
            "Train Epoch: 3 [44800/60000 (75%)]\tLoss: 0.073559\n",
            "Train Epoch: 3 [51200/60000 (85%)]\tLoss: 0.054919\n",
            "Train Epoch: 3 [57600/60000 (96%)]\tLoss: 0.192879\n",
            "\n",
            "Validation set: Average loss: 0.0782, Accuracy: 9742/10000 (97%)\n",
            "\n",
            "Train Epoch: 4 [0/60000 (0%)]\tLoss: 0.018874\n",
            "Train Epoch: 4 [6400/60000 (11%)]\tLoss: 0.112772\n",
            "Train Epoch: 4 [12800/60000 (21%)]\tLoss: 0.057818\n",
            "Train Epoch: 4 [19200/60000 (32%)]\tLoss: 0.294430\n",
            "Train Epoch: 4 [25600/60000 (43%)]\tLoss: 0.074327\n",
            "Train Epoch: 4 [32000/60000 (53%)]\tLoss: 0.042490\n",
            "Train Epoch: 4 [38400/60000 (64%)]\tLoss: 0.030764\n",
            "Train Epoch: 4 [44800/60000 (75%)]\tLoss: 0.045831\n",
            "Train Epoch: 4 [51200/60000 (85%)]\tLoss: 0.085648\n",
            "Train Epoch: 4 [57600/60000 (96%)]\tLoss: 0.090474\n",
            "\n",
            "Validation set: Average loss: 0.0662, Accuracy: 9782/10000 (98%)\n",
            "\n",
            "Train Epoch: 5 [0/60000 (0%)]\tLoss: 0.012717\n",
            "Train Epoch: 5 [6400/60000 (11%)]\tLoss: 0.018517\n",
            "Train Epoch: 5 [12800/60000 (21%)]\tLoss: 0.008592\n",
            "Train Epoch: 5 [19200/60000 (32%)]\tLoss: 0.008768\n",
            "Train Epoch: 5 [25600/60000 (43%)]\tLoss: 0.018498\n",
            "Train Epoch: 5 [32000/60000 (53%)]\tLoss: 0.041102\n",
            "Train Epoch: 5 [38400/60000 (64%)]\tLoss: 0.051429\n",
            "Train Epoch: 5 [44800/60000 (75%)]\tLoss: 0.045225\n",
            "Train Epoch: 5 [51200/60000 (85%)]\tLoss: 0.065102\n",
            "Train Epoch: 5 [57600/60000 (96%)]\tLoss: 0.007973\n",
            "\n",
            "Validation set: Average loss: 0.0691, Accuracy: 9773/10000 (98%)\n",
            "\n",
            "Train Epoch: 6 [0/60000 (0%)]\tLoss: 0.080509\n",
            "Train Epoch: 6 [6400/60000 (11%)]\tLoss: 0.045593\n",
            "Train Epoch: 6 [12800/60000 (21%)]\tLoss: 0.052343\n",
            "Train Epoch: 6 [19200/60000 (32%)]\tLoss: 0.009996\n",
            "Train Epoch: 6 [25600/60000 (43%)]\tLoss: 0.021609\n",
            "Train Epoch: 6 [32000/60000 (53%)]\tLoss: 0.039584\n",
            "Train Epoch: 6 [38400/60000 (64%)]\tLoss: 0.007015\n",
            "Train Epoch: 6 [44800/60000 (75%)]\tLoss: 0.004101\n",
            "Train Epoch: 6 [51200/60000 (85%)]\tLoss: 0.017377\n",
            "Train Epoch: 6 [57600/60000 (96%)]\tLoss: 0.024681\n",
            "\n",
            "Validation set: Average loss: 0.0649, Accuracy: 9805/10000 (98%)\n",
            "\n",
            "Train Epoch: 7 [0/60000 (0%)]\tLoss: 0.073502\n",
            "Train Epoch: 7 [6400/60000 (11%)]\tLoss: 0.007785\n",
            "Train Epoch: 7 [12800/60000 (21%)]\tLoss: 0.031407\n",
            "Train Epoch: 7 [19200/60000 (32%)]\tLoss: 0.019538\n",
            "Train Epoch: 7 [25600/60000 (43%)]\tLoss: 0.010666\n",
            "Train Epoch: 7 [32000/60000 (53%)]\tLoss: 0.007783\n",
            "Train Epoch: 7 [38400/60000 (64%)]\tLoss: 0.002784\n",
            "Train Epoch: 7 [44800/60000 (75%)]\tLoss: 0.044142\n",
            "Train Epoch: 7 [51200/60000 (85%)]\tLoss: 0.058510\n",
            "Train Epoch: 7 [57600/60000 (96%)]\tLoss: 0.018323\n",
            "\n",
            "Validation set: Average loss: 0.0616, Accuracy: 9805/10000 (98%)\n",
            "\n",
            "Train Epoch: 8 [0/60000 (0%)]\tLoss: 0.009816\n",
            "Train Epoch: 8 [6400/60000 (11%)]\tLoss: 0.012437\n",
            "Train Epoch: 8 [12800/60000 (21%)]\tLoss: 0.050037\n",
            "Train Epoch: 8 [19200/60000 (32%)]\tLoss: 0.093641\n",
            "Train Epoch: 8 [25600/60000 (43%)]\tLoss: 0.011306\n",
            "Train Epoch: 8 [32000/60000 (53%)]\tLoss: 0.008808\n",
            "Train Epoch: 8 [38400/60000 (64%)]\tLoss: 0.059758\n",
            "Train Epoch: 8 [44800/60000 (75%)]\tLoss: 0.009956\n",
            "Train Epoch: 8 [51200/60000 (85%)]\tLoss: 0.102379\n",
            "Train Epoch: 8 [57600/60000 (96%)]\tLoss: 0.037302\n",
            "\n",
            "Validation set: Average loss: 0.0598, Accuracy: 9813/10000 (98%)\n",
            "\n",
            "Train Epoch: 9 [0/60000 (0%)]\tLoss: 0.013688\n",
            "Train Epoch: 9 [6400/60000 (11%)]\tLoss: 0.022929\n",
            "Train Epoch: 9 [12800/60000 (21%)]\tLoss: 0.010047\n",
            "Train Epoch: 9 [19200/60000 (32%)]\tLoss: 0.008332\n",
            "Train Epoch: 9 [25600/60000 (43%)]\tLoss: 0.003139\n",
            "Train Epoch: 9 [32000/60000 (53%)]\tLoss: 0.002891\n",
            "Train Epoch: 9 [38400/60000 (64%)]\tLoss: 0.229289\n",
            "Train Epoch: 9 [44800/60000 (75%)]\tLoss: 0.016345\n",
            "Train Epoch: 9 [51200/60000 (85%)]\tLoss: 0.006897\n",
            "Train Epoch: 9 [57600/60000 (96%)]\tLoss: 0.008432\n",
            "\n",
            "Validation set: Average loss: 0.0576, Accuracy: 9818/10000 (98%)\n",
            "\n",
            "Train Epoch: 10 [0/60000 (0%)]\tLoss: 0.011973\n",
            "Train Epoch: 10 [6400/60000 (11%)]\tLoss: 0.029068\n",
            "Train Epoch: 10 [12800/60000 (21%)]\tLoss: 0.003583\n",
            "Train Epoch: 10 [19200/60000 (32%)]\tLoss: 0.012671\n",
            "Train Epoch: 10 [25600/60000 (43%)]\tLoss: 0.029161\n",
            "Train Epoch: 10 [32000/60000 (53%)]\tLoss: 0.012804\n",
            "Train Epoch: 10 [38400/60000 (64%)]\tLoss: 0.202084\n",
            "Train Epoch: 10 [44800/60000 (75%)]\tLoss: 0.020038\n",
            "Train Epoch: 10 [51200/60000 (85%)]\tLoss: 0.046593\n",
            "Train Epoch: 10 [57600/60000 (96%)]\tLoss: 0.004431\n",
            "\n",
            "Validation set: Average loss: 0.0592, Accuracy: 9818/10000 (98%)\n",
            "\n",
            "CPU times: user 1min 59s, sys: 1.24 s, total: 2min\n",
            "Wall time: 2min 1s\n"
          ],
          "name": "stdout"
        }
      ]
    },
    {
      "cell_type": "markdown",
      "metadata": {
        "id": "l0YZ4vNbQ3zI"
      },
      "source": [
        "Let's now visualize how the training progressed. \n",
        "\n",
        "* *Loss* is a function of the difference of the network output and the target values.  We are minimizing the loss function during training so it should decrease over time.\n",
        "* *Accuracy* is the classification accuracy for the test data."
      ]
    },
    {
      "cell_type": "code",
      "metadata": {
        "id": "MN2LcmsHQ3zJ",
        "outputId": "450fd02c-6e9c-4512-f685-cf1af89fd876",
        "colab": {
          "base_uri": "https://localhost:8080/",
          "height": 465
        }
      },
      "source": [
        "plt.figure(figsize=(5,3))\n",
        "plt.plot(np.arange(1,epochs+1), lossv, label='no dropout')\n",
        "plt.plot(np.arange(1,epochs+1), lossvDrop, label='with dropout')\n",
        "plt.plot(np.arange(1,epochs+1), lossvBN, label='with batchnormalization')\n",
        "plt.legend(loc='upper left');\n",
        "plt.xlabel('epoch')\n",
        "plt.title('validation loss')\n",
        "plt.show()\n",
        "\n",
        "plt.figure(figsize=(5,3))\n",
        "plt.plot(np.arange(1,epochs+1), accv, label='no dropout')\n",
        "plt.plot(np.arange(1,epochs+1), accvDrop, label='with dropout')\n",
        "plt.plot(np.arange(1,epochs+1), accvBN, label='with batchnormalization')\n",
        "plt.legend(loc='upper left');\n",
        "plt.xlabel('epoch')\n",
        "plt.title('validation accuracy');"
      ],
      "execution_count": 13,
      "outputs": [
        {
          "output_type": "display_data",
          "data": {
            "image/png": "[encoded data removed]",
            "text/plain": [
              "<Figure size 360x216 with 1 Axes>"
            ]
          },
          "metadata": {
            "tags": [],
            "needs_background": "light"
          }
        },
        {
          "output_type": "display_data",
          "data": {
            "image/png": "[encoded data removed]",
            "text/plain": [
              "<Figure size 360x216 with 1 Axes>"
            ]
          },
          "metadata": {
            "tags": [],
            "needs_background": "light"
          }
        }
      ]
    },
    {
      "cell_type": "code",
      "metadata": {
        "id": "nVy4O95xPHg7"
      },
      "source": [
        "# Function to count the number of parameters\n",
        "def count_parameters(model):\n",
        "    return sum(p.numel() for p in model.parameters() if p.requires_grad)"
      ],
      "execution_count": 14,
      "outputs": []
    },
    {
      "cell_type": "code",
      "metadata": {
        "id": "drkmnPlARtLt",
        "outputId": "0eff426c-0a31-4a68-d639-50bbc5648045",
        "colab": {
          "base_uri": "https://localhost:8080/",
          "height": 187
        }
      },
      "source": [
        "print(modelBatchNorm.parameters)\n",
        "print(\"\\nTotal number of parameters {}\\n\".format(count_parameters(modelBatchNorm)))"
      ],
      "execution_count": 15,
      "outputs": [
        {
          "output_type": "stream",
          "text": [
            "<bound method Module.parameters of NetBatchNorm(\n",
            "  (fc1): Linear(in_features=784, out_features=256, bias=True)\n",
            "  (bn1): BatchNorm1d(256, eps=1e-05, momentum=0.1, affine=True, track_running_stats=True)\n",
            "  (fc2): Linear(in_features=256, out_features=256, bias=True)\n",
            "  (bn2): BatchNorm1d(256, eps=1e-05, momentum=0.1, affine=True, track_running_stats=True)\n",
            "  (fc3): Linear(in_features=256, out_features=10, bias=True)\n",
            ")>\n",
            "\n",
            "Total number of parameters 270346\n",
            "\n"
          ],
          "name": "stdout"
        }
      ]
    },
    {
      "cell_type": "code",
      "metadata": {
        "id": "uMX1EOCXR1h3",
        "scrolled": true,
        "outputId": "4736bfef-6dbe-4dfa-e24d-d10f76a115b0",
        "colab": {
          "base_uri": "https://localhost:8080/",
          "height": 153
        }
      },
      "source": [
        "print(model.parameters)\n",
        "print(\"\\nTotal number of parameters {}\\n\".format(count_parameters(model)))\n",
        "# We have 1024 parameters more with the batch normalization. Why? \n",
        "# Because we have 2 batchnorm layers, each one with 2x256 parameters."
      ],
      "execution_count": 16,
      "outputs": [
        {
          "output_type": "stream",
          "text": [
            "<bound method Module.parameters of Net(\n",
            "  (fc1): Linear(in_features=784, out_features=256, bias=True)\n",
            "  (fc2): Linear(in_features=256, out_features=256, bias=True)\n",
            "  (fc3): Linear(in_features=256, out_features=10, bias=True)\n",
            ")>\n",
            "\n",
            "Total number of parameters 269322\n",
            "\n"
          ],
          "name": "stdout"
        }
      ]
    }
  ]
}