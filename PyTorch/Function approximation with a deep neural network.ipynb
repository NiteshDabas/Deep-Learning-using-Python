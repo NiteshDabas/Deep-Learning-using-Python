{
 "cells": [
  {
   "cell_type": "markdown",
   "metadata": {
    "id": "BPbtmfqMqsVj"
   },
   "source": [
    "# Function approximation with a deep neural network"
   ]
  },
  {
   "cell_type": "markdown",
   "metadata": {
    "id": "lA-dG5TvNT9U"
   },
   "source": [
    "## Quartic function and training dataset"
   ]
  },
  {
   "cell_type": "markdown",
   "metadata": {
    "id": "Ze4-03KGq2Gx"
   },
   "source": [
    "In algebra, a quartic function is a function of the form\n",
    "$$\n",
    "f(t)=at^{4}+bt^{3}+ct^{2}+dt+e,\n",
    "$$\n",
    "where $a$ is nonzero, which is defined by a polynomial of degree four, called a quartic polynomial."
   ]
  },
  {
   "cell_type": "code",
   "execution_count": 2,
   "metadata": {
    "executionInfo": {
     "elapsed": 3370,
     "status": "ok",
     "timestamp": 1602008854517,
     "user": {
      "displayName": "Lionel Fillatre",
      "photoUrl": "",
      "userId": "14463393848879581998"
     },
     "user_tz": -120
    },
    "id": "XSxuWuabouDj"
   },
   "outputs": [],
   "source": [
    "%matplotlib inline\n",
    "import numpy as np\n",
    "import matplotlib.pyplot as plt\n",
    "import torch"
   ]
  },
  {
   "cell_type": "markdown",
   "metadata": {
    "id": "uYRSPAtGouDo"
   },
   "source": [
    "Define and plot a quartic function"
   ]
  },
  {
   "cell_type": "code",
   "execution_count": 3,
   "metadata": {
    "executionInfo": {
     "elapsed": 3367,
     "status": "ok",
     "timestamp": 1602008854518,
     "user": {
      "displayName": "Lionel Fillatre",
      "photoUrl": "",
      "userId": "14463393848879581998"
     },
     "user_tz": -120
    },
    "id": "JhCmQNviouDu"
   },
   "outputs": [],
   "source": [
    "D_in = 1\n",
    "D_out = 1\n",
    "\n",
    "# Create random Tensors to hold inputs and outputs\n",
    "x = torch.arange(-9,3.5,0.1).view(-1,1)\n",
    "y = x**4 + 2*x**3 - 12*x**2 -2*x + 6\n",
    "y = torch.where(x < -5, torch.zeros_like(x), y)\n",
    "N = x.shape[0]"
   ]
  },
  {
   "cell_type": "code",
   "execution_count": 4,
   "metadata": {
    "colab": {
     "base_uri": "https://localhost:8080/",
     "height": 51
    },
    "executionInfo": {
     "elapsed": 3360,
     "status": "ok",
     "timestamp": 1602008854519,
     "user": {
      "displayName": "Lionel Fillatre",
      "photoUrl": "",
      "userId": "14463393848879581998"
     },
     "user_tz": -120
    },
    "id": "8Upa4fCuouD5",
    "outputId": "9ca4a756-598e-449f-a12f-6f87bf08fbf3"
   },
   "outputs": [
    {
     "name": "stdout",
     "output_type": "stream",
     "text": [
      "torch.Size([125, 1])\n",
      "torch.Size([125, 1])\n"
     ]
    }
   ],
   "source": [
    "print(x.size())\n",
    "print(y.size())"
   ]
  },
  {
   "cell_type": "markdown",
   "metadata": {
    "id": "IY7bxmOpsRYq"
   },
   "source": [
    "Converting Torch Tensor to NumPy Array for plotting the function"
   ]
  },
  {
   "cell_type": "code",
   "execution_count": 5,
   "metadata": {
    "colab": {
     "base_uri": "https://localhost:8080/",
     "height": 279
    },
    "executionInfo": {
     "elapsed": 3591,
     "status": "ok",
     "timestamp": 1602008854756,
     "user": {
      "displayName": "Lionel Fillatre",
      "photoUrl": "",
      "userId": "14463393848879581998"
     },
     "user_tz": -120
    },
    "id": "L80Arv5FuLj-",
    "outputId": "dda7988f-c8c8-427d-ded4-b303581d6fb9"
   },
   "outputs": [
    {
     "data": {
      "image/png": "[encoded data removed]",
      "text/plain": [
       "<Figure size 432x288 with 1 Axes>"
      ]
     },
     "metadata": {
      "needs_background": "light"
     },
     "output_type": "display_data"
    }
   ],
   "source": [
    "fig, ax = plt.subplots()\n",
    "plt.plot(x.numpy(), y.numpy(),'r-',label='Quartic function')\n",
    "plt.xlabel('$x$')\n",
    "plt.ylabel('$f(x)$')\n",
    "plt.show()\n",
    "ax.legend()\n",
    "plt.show()"
   ]
  },
  {
   "cell_type": "markdown",
   "metadata": {
    "id": "vI35l73mNZ0w"
   },
   "source": [
    "## Approximation with a deep neural network"
   ]
  },
  {
   "cell_type": "markdown",
   "metadata": {
    "id": "8tJWe_-W1khM"
   },
   "source": [
    "### Question: code a deep neural network to approximate the function. The network will have 3 full-connected layers (followed by a ReLU activation function) and a final full-connected layer without any activation function. You will use the Adam optimizer. Choose the most appropriate loss function. You must compute the loss at each epoch."
   ]
  },
  {
   "cell_type": "code",
   "execution_count": 7,
   "metadata": {
    "colab": {
     "base_uri": "https://localhost:8080/",
     "height": 102
    },
    "executionInfo": {
     "elapsed": 8851,
     "status": "ok",
     "timestamp": 1602008860022,
     "user": {
      "displayName": "Lionel Fillatre",
      "photoUrl": "",
      "userId": "14463393848879581998"
     },
     "user_tz": -120
    },
    "id": "IWija8I3ouDy",
    "outputId": "b89ee378-7991-48bd-dc79-f8626a15eb8f"
   },
   "outputs": [
    {
     "name": "stdout",
     "output_type": "stream",
     "text": [
      "999 12.529759407043457\n",
      "1999 0.3511583209037781\n",
      "2999 1.615509271621704\n",
      "3999 1.8971104621887207\n",
      "4999 0.039474766701459885\n",
      "5999 0.998198390007019\n",
      "6999 1.739135503768921\n",
      "7999 7.726044178009033\n",
      "8999 0.018778905272483826\n",
      "9999 0.02858152985572815\n",
      "10999 0.022187938913702965\n",
      "11999 0.12707310914993286\n",
      "12999 0.12130101025104523\n",
      "13999 0.06714482605457306\n",
      "14999 0.0496104434132576\n",
      "15999 0.1962437778711319\n",
      "16999 0.5345607399940491\n",
      "17999 0.04767648130655289\n",
      "18999 0.26930859684944153\n",
      "19999 0.04556373506784439\n",
      "20999 0.14786890149116516\n",
      "21999 0.2958981692790985\n",
      "22999 0.6154854893684387\n",
      "23999 0.26591503620147705\n",
      "24999 91.47941589355469\n",
      "25999 0.755328357219696\n",
      "26999 2.1903457641601562\n",
      "27999 0.0370880588889122\n",
      "28999 0.09691573679447174\n",
      "29999 0.056955449283123016\n",
      "30999 0.6837992668151855\n",
      "31999 0.21461668610572815\n",
      "32999 0.5891489386558533\n",
      "33999 4.332010269165039\n",
      "34999 0.08315803855657578\n",
      "35999 0.08748467266559601\n",
      "36999 0.07008049637079239\n",
      "37999 62.71533203125\n",
      "38999 0.10816221684217453\n",
      "39999 0.22348037362098694\n",
      "40999 10.068675994873047\n",
      "41999 0.07717282325029373\n",
      "42999 0.0919068455696106\n",
      "43999 0.0668790340423584\n",
      "44999 0.0656527578830719\n",
      "45999 1.7384577989578247\n",
      "46999 0.09169240295886993\n",
      "47999 0.08103626221418381\n",
      "48999 0.06905236095190048\n",
      "49999 0.06993946433067322\n"
     ]
    }
   ],
   "source": [
    "import torch\n",
    "\n",
    "H1 = 40 # number of hidden neurons\n",
    "H2 = 20\n",
    "H3 = 20\n",
    "\n",
    "Niter = 5*10**4\n",
    "\n",
    "import numpy as np\n",
    "saveLoss = np.zeros(Niter)\n",
    "\n",
    "# Use the nn package to define our model and loss function.\n",
    "model = torch.nn.Sequential(\n",
    "    torch.nn.Linear(D_in, H1),\n",
    "    torch.nn.ReLU(),\n",
    "    torch.nn.Linear(H1, H2),\n",
    "    torch.nn.ReLU(),\n",
    "    torch.nn.Linear(H2, H3),\n",
    "    torch.nn.ReLU(),\n",
    "    torch.nn.Linear(H3, D_out)\n",
    ")\n",
    "loss_fn = torch.nn.MSELoss(reduction='mean')\n",
    "\n",
    "learning_rate = 1e-2\n",
    "optimizer = torch.optim.Adam(model.parameters(), lr=learning_rate)\n",
    "for t in range(Niter):\n",
    "    # Forward pass: compute predicted y by passing x to the model.\n",
    "    y_pred = model(x)\n",
    "\n",
    "    # Compute and print loss.\n",
    "    loss = loss_fn(y_pred, y)\n",
    "    saveLoss[t] = loss.detach().numpy()\n",
    "    if t % 1000 == 999:\n",
    "        print(t, loss.item())\n",
    "\n",
    "    # Before the backward pass, use the optimizer object to zero all of the\n",
    "    # gradients for the variables it will update (which are the learnable\n",
    "    # weights of the model). This is because by default, gradients are\n",
    "    # accumulated in buffers( i.e, not overwritten) whenever .backward()\n",
    "    # is called. Checkout docs of torch.autograd.backward for more details.\n",
    "    optimizer.zero_grad()\n",
    "\n",
    "    # Backward pass: compute gradient of the loss with respect to model\n",
    "    # parameters\n",
    "    loss.backward()\n",
    "\n",
    "    # Calling the step function on an Optimizer makes an update to its\n",
    "    # parameters\n",
    "    optimizer.step()\n",
    "    \n"
   ]
  },
  {
   "cell_type": "markdown",
   "metadata": {
    "id": "VW-RbXaP2OrE"
   },
   "source": [
    "Plot the training error as a function of the epoch"
   ]
  },
  {
   "cell_type": "code",
   "execution_count": 8,
   "metadata": {
    "colab": {
     "base_uri": "https://localhost:8080/",
     "height": 279
    },
    "executionInfo": {
     "elapsed": 8847,
     "status": "ok",
     "timestamp": 1602008860024,
     "user": {
      "displayName": "Lionel Fillatre",
      "photoUrl": "",
      "userId": "14463393848879581998"
     },
     "user_tz": -120
    },
    "id": "aam3YN7VouD-",
    "outputId": "42a859b4-0f54-4aee-eff4-06baecdb0e24"
   },
   "outputs": [
    {
     "data": {
      "image/png": "[encoded data removed]",
      "text/plain": [
       "<Figure size 432x288 with 1 Axes>"
      ]
     },
     "metadata": {
      "needs_background": "light"
     },
     "output_type": "display_data"
    }
   ],
   "source": [
    "fig, ax = plt.subplots()\n",
    "plt.plot(range(Niter),saveLoss,'b-',label='Training error')\n",
    "plt.xlabel('Epoch')\n",
    "plt.ylabel('MSE')\n",
    "ax.legend()\n",
    "plt.show()"
   ]
  },
  {
   "cell_type": "markdown",
   "metadata": {
    "id": "FnjcbWrJ0CV3"
   },
   "source": [
    "### Question: plot on the same graph the quartic function and its approximation"
   ]
  },
  {
   "cell_type": "code",
   "execution_count": 9,
   "metadata": {
    "colab": {
     "base_uri": "https://localhost:8080/",
     "height": 279
    },
    "executionInfo": {
     "elapsed": 9181,
     "status": "ok",
     "timestamp": 1602008860364,
     "user": {
      "displayName": "Lionel Fillatre",
      "photoUrl": "",
      "userId": "14463393848879581998"
     },
     "user_tz": -120
    },
    "id": "AnvnNn-touEB",
    "outputId": "0b651e12-8c3f-47e1-dad2-fa8cc621deb8",
    "scrolled": true
   },
   "outputs": [
    {
     "data": {
      "image/png": "[encoded data removed]",
      "text/plain": [
       "<Figure size 432x288 with 1 Axes>"
      ]
     },
     "metadata": {
      "needs_background": "light"
     },
     "output_type": "display_data"
    },
    {
     "name": "stdout",
     "output_type": "stream",
     "text": [
      "tensor(0.0682, grad_fn=<MseLossBackward>)\n"
     ]
    }
   ],
   "source": [
    "y_pred = model(x)\n",
    "fig, ax = plt.subplots()\n",
    "plt.plot(x.numpy(), y.numpy(),'r-',label='Quartic function')\n",
    "plt.plot(x.numpy(), y_pred.detach().numpy(),'bo-',label='Deep approximation')\n",
    "plt.xlabel('$x$')\n",
    "plt.ylabel('$f(x)$')\n",
    "ax.legend()\n",
    "plt.show()\n",
    "print(loss_fn(y_pred,y))"
   ]
  },
  {
   "cell_type": "markdown",
   "metadata": {
    "id": "_MpXhTY1rwGE"
   },
   "source": [
    "How many parameters?"
   ]
  },
  {
   "cell_type": "code",
   "execution_count": 10,
   "metadata": {
    "executionInfo": {
     "elapsed": 9180,
     "status": "ok",
     "timestamp": 1602008860365,
     "user": {
      "displayName": "Lionel Fillatre",
      "photoUrl": "",
      "userId": "14463393848879581998"
     },
     "user_tz": -120
    },
    "id": "OhpZsJxeouD1"
   },
   "outputs": [],
   "source": [
    "# Function to count the number of parameters\n",
    "def count_parameters(model):\n",
    "    return sum(p.numel() for p in model.parameters() if p.requires_grad)\n"
   ]
  },
  {
   "cell_type": "code",
   "execution_count": 11,
   "metadata": {
    "colab": {
     "base_uri": "https://localhost:8080/",
     "height": 221
    },
    "executionInfo": {
     "elapsed": 9175,
     "status": "ok",
     "timestamp": 1602008860366,
     "user": {
      "displayName": "Lionel Fillatre",
      "photoUrl": "",
      "userId": "14463393848879581998"
     },
     "user_tz": -120
    },
    "id": "xsEJhkeUr107",
    "outputId": "43ff4380-0ce7-4c88-f817-5318bea35a4b"
   },
   "outputs": [
    {
     "name": "stdout",
     "output_type": "stream",
     "text": [
      "<bound method Module.parameters of Sequential(\n",
      "  (0): Linear(in_features=1, out_features=40, bias=True)\n",
      "  (1): ReLU()\n",
      "  (2): Linear(in_features=40, out_features=20, bias=True)\n",
      "  (3): ReLU()\n",
      "  (4): Linear(in_features=20, out_features=20, bias=True)\n",
      "  (5): ReLU()\n",
      "  (6): Linear(in_features=20, out_features=1, bias=True)\n",
      ")>\n",
      "\n",
      "Total number of parameters 1341\n",
      "\n"
     ]
    }
   ],
   "source": [
    "print(model.parameters)\n",
    "print(\"\\nTotal number of parameters {}\\n\".format(count_parameters(model)))"
   ]
  },
  {
   "cell_type": "markdown",
   "metadata": {
    "id": "uRKKUiGMMAGL"
   },
   "source": [
    "Print all the parameters (just for seeing them)"
   ]
  },
  {
   "cell_type": "code",
   "execution_count": 13,
   "metadata": {
    "colab": {
     "base_uri": "https://localhost:8080/",
     "height": 1000
    },
    "executionInfo": {
     "elapsed": 9171,
     "status": "ok",
     "timestamp": 1602008860367,
     "user": {
      "displayName": "Lionel Fillatre",
      "photoUrl": "",
      "userId": "14463393848879581998"
     },
     "user_tz": -120
    },
    "id": "hstPktpFLuYl",
    "outputId": "46259a1f-f5a7-48b3-f1bc-4638df2fc17a",
    "scrolled": false
   },
   "outputs": [
    {
     "name": "stdout",
     "output_type": "stream",
     "text": [
      "Parameter containing:\n",
      "tensor([[ 0.0293],\n",
      "        [ 0.1662],\n",
      "        [ 0.2507],\n",
      "        [ 0.0148],\n",
      "        [ 0.5880],\n",
      "        [-0.1453],\n",
      "        [ 0.7213],\n",
      "        [ 0.7799],\n",
      "        [ 0.1694],\n",
      "        [ 0.0020],\n",
      "        [-0.0947],\n",
      "        [ 0.1099],\n",
      "        [ 0.6219],\n",
      "        [-0.2070],\n",
      "        [ 0.4452],\n",
      "        [ 0.0243],\n",
      "        [ 0.2697],\n",
      "        [ 0.1809],\n",
      "        [ 0.3077],\n",
      "        [ 0.4606],\n",
      "        [-0.2609],\n",
      "        [-0.1501],\n",
      "        [ 0.4798],\n",
      "        [-0.0443],\n",
      "        [ 0.6392],\n",
      "        [-0.0943],\n",
      "        [ 0.0124],\n",
      "        [ 0.0024],\n",
      "        [-0.4017],\n",
      "        [ 0.4299],\n",
      "        [ 0.2167],\n",
      "        [ 0.7928],\n",
      "        [ 0.1323],\n",
      "        [ 0.5954],\n",
      "        [-0.0093],\n",
      "        [-0.5359],\n",
      "        [ 0.4683],\n",
      "        [ 0.4556],\n",
      "        [-0.5617],\n",
      "        [-0.1289]], requires_grad=True)\n",
      "Parameter containing:\n",
      "tensor([-0.1007, -0.6010,  0.9409, -0.2379, -2.0306, -1.3265, -1.6990, -1.6012,\n",
      "        -0.2199, -0.0127, -0.1251, -0.3775,  0.2093, -1.7810, -1.5404, -0.0886,\n",
      "         0.7159, -0.6815,  1.2504,  1.4518, -2.2262, -1.3518, -1.5191, -0.4753,\n",
      "         2.8167, -1.1026, -0.0702, -0.0239, -1.9510, -0.1314, -1.1406,  3.4935,\n",
      "        -0.4840, -1.5800, -0.1744, -2.6768, -1.3725, -1.5788, -2.4776,  0.5543],\n",
      "       requires_grad=True)\n",
      "Parameter containing:\n",
      "tensor([[-6.5689e-02, -1.3090e-01,  1.6628e-01, -3.7311e-02,  5.9983e-01,\n",
      "         -2.9659e-01,  1.8080e-01,  3.2161e-02,  2.9552e-02, -5.0952e-02,\n",
      "         -1.1748e+00,  4.9434e-01, -8.8588e-01,  1.1305e+00,  4.7457e-01,\n",
      "         -1.0685e-02, -6.4713e-01,  7.5559e-02,  4.1314e-02, -6.8964e-01,\n",
      "          5.9704e-01, -1.4447e-01,  6.8822e-01, -1.4541e-01,  4.2232e-01,\n",
      "         -1.3631e-01,  2.1053e-01,  8.7527e-02,  3.0163e-01, -1.3140e+00,\n",
      "          7.1622e-01,  2.5963e-01,  3.3954e-01,  3.3293e-01,  5.6776e-02,\n",
      "         -5.5296e-01,  5.3699e-01,  2.8696e-01, -7.9011e+00, -1.5920e-01],\n",
      "        [ 8.6679e-02,  7.2610e-02, -5.0875e-01, -9.8369e-02, -1.0099e+00,\n",
      "         -1.9142e-01, -6.7685e-01, -5.3332e-01,  1.3300e-01,  6.3327e-02,\n",
      "          4.9326e-01,  3.5904e-01,  1.6569e-01, -1.2359e+00, -9.2255e-01,\n",
      "          3.9958e-01, -1.4196e-01,  6.2365e-03, -4.7939e-01, -1.6425e-01,\n",
      "         -3.5772e-01, -3.5261e+00, -2.0168e+00,  6.2074e-02,  3.4283e-01,\n",
      "         -1.2291e-01,  4.5516e-01,  1.7039e-01, -5.3286e+00,  6.6220e-02,\n",
      "         -1.5883e+00,  3.0726e-01,  1.4542e-01, -1.1820e+00,  1.1047e-01,\n",
      "         -1.1589e+01, -1.2031e+00, -8.5109e-01, -4.7501e+00,  7.9679e-01],\n",
      "        [ 1.7166e-01,  1.1854e-01, -5.6973e-01, -5.4609e-02, -8.3235e-01,\n",
      "         -2.1874e-01, -7.9976e-01, -6.6767e-01,  2.6127e-01,  9.1766e-02,\n",
      "          7.1955e-01,  1.3035e-01,  3.5698e-01, -1.4874e+00, -1.0799e+00,\n",
      "          3.6168e-01, -1.5639e-01, -8.0587e-02, -4.2374e-01, -2.7431e-01,\n",
      "         -2.0708e-01, -3.1846e+00, -1.9173e+00,  8.5541e-02,  2.8416e-01,\n",
      "         -1.7084e-01,  4.1726e-01,  5.4372e-03, -5.3628e+00,  1.9462e-01,\n",
      "         -1.8026e+00,  3.0881e-01, -1.4492e-02, -1.1324e+00,  1.0782e-01,\n",
      "         -1.1884e+01, -1.3430e+00, -8.0311e-01, -4.7363e+00,  7.3481e-01],\n",
      "        [-2.2345e-01, -1.2578e-01, -1.9244e-01, -1.8747e-01, -3.6347e-02,\n",
      "          1.3696e-02, -6.9610e-02, -1.2007e-01, -6.5870e-01, -8.4854e-02,\n",
      "         -6.2796e-01, -2.6084e-01, -2.0217e-01, -4.1319e-01, -6.0147e-03,\n",
      "         -7.0923e-02, -2.9350e-03,  1.3821e-01, -1.6409e-02, -1.0926e-01,\n",
      "         -3.9532e-01,  1.3617e-01, -5.3769e-01, -1.7628e-01, -2.1259e-02,\n",
      "         -2.6353e-01, -1.0366e-01,  3.3180e-02, -3.8578e-01, -3.4400e-01,\n",
      "         -2.4227e+00,  2.1407e-01, -4.4141e-01, -3.6332e-02, -1.3787e-01,\n",
      "         -3.6570e-01, -3.5896e-01,  9.4037e-03, -2.7647e-01, -4.5681e-01],\n",
      "        [ 9.8630e-02, -2.3617e-01, -3.2365e-02,  4.4002e-02, -7.6843e-02,\n",
      "          4.1635e-02, -7.7112e-02, -4.6098e-02, -1.0289e-01,  2.6031e-02,\n",
      "          5.8819e-02,  8.4815e-02, -5.4174e-02,  3.5178e-02,  3.2155e-02,\n",
      "         -1.5880e+01,  5.1586e-02,  5.1179e-02,  3.4865e-02, -2.1134e-01,\n",
      "          4.2109e-02,  6.9076e-02,  1.4473e-01,  6.5468e-02, -2.9776e+01,\n",
      "          8.4907e-02, -1.0951e+01,  6.0722e-02, -6.2486e-01,  7.7749e-03,\n",
      "          9.3683e-02, -1.0173e+01,  6.4606e-02, -2.0420e-01,  3.1665e-02,\n",
      "          2.9931e-01,  4.5710e-02, -2.3804e-02,  2.3506e-01,  9.4817e-02],\n",
      "        [-1.9368e-01, -6.8581e-02,  6.7686e-02, -1.1491e-01,  6.1231e-01,\n",
      "         -4.8972e-01,  5.0724e-01,  2.4636e-01,  4.0864e-01,  2.1695e-01,\n",
      "         -2.1905e-01,  6.2071e-01, -4.2299e-01, -5.0627e-01,  6.4719e-01,\n",
      "          2.0238e-01, -1.4106e-01, -1.1498e-01,  3.6008e-01,  3.8657e-02,\n",
      "          7.4271e-03, -5.5365e-01,  1.3574e+00, -4.2809e-01,  2.2122e-01,\n",
      "         -2.4082e-01,  4.4956e-01,  1.1873e-01, -3.1656e-01, -3.0191e-01,\n",
      "          1.4645e+00,  2.1675e-01,  7.6206e-01,  9.6834e-01,  2.0947e-01,\n",
      "         -5.6177e-01,  1.4762e+00,  3.6489e-01, -7.7898e+00,  4.6279e-01],\n",
      "        [ 5.9210e-02,  4.2890e-01,  5.4702e-02, -1.3393e-01,  4.6977e-01,\n",
      "         -1.7407e-01,  4.3880e-01,  5.6674e-01, -3.3092e-01,  3.0818e-02,\n",
      "          8.6446e-01, -7.3343e-01,  7.6629e-01, -3.9186e+00,  6.5358e-01,\n",
      "         -2.0775e-01,  1.0204e-01,  1.4627e-01,  1.4511e-01, -1.6608e-01,\n",
      "         -2.0109e+01, -8.2224e-02,  1.0830e-01, -8.2560e-02, -2.8993e-01,\n",
      "         -1.3476e-01, -1.2794e-01, -1.5246e-01, -7.9879e+00,  1.0386e+00,\n",
      "         -5.7155e-01, -6.0746e-01, -6.9008e-01,  5.9766e-01, -4.6105e-02,\n",
      "         -1.3645e+01, -6.6113e-01,  2.8753e-01, -3.4406e+00,  1.9159e+00],\n",
      "        [-1.4287e-01,  4.7949e-02, -1.8324e-01,  2.1903e-02,  7.4841e-01,\n",
      "          1.9510e-02,  5.3398e-01,  4.3426e-01, -2.8390e-01, -2.8299e-01,\n",
      "         -1.9825e-01, -3.4392e-01,  2.6125e-01,  4.9106e-02,  8.7373e-01,\n",
      "         -2.3776e-01, -2.9402e-02,  2.0158e-03, -2.6591e-01, -3.9053e-02,\n",
      "         -2.0867e-01, -3.9594e-03,  9.0772e-01, -6.3189e-02, -2.5477e-01,\n",
      "         -6.7841e-03, -2.6130e-01, -1.9065e-01,  2.4389e-02,  4.3688e-01,\n",
      "          4.6733e-02, -3.5684e-01, -8.6932e-02,  6.0048e-01, -3.7874e-02,\n",
      "         -5.7486e-02, -5.5858e-02,  7.8732e-01, -7.7018e-02, -2.3184e-01],\n",
      "        [-2.9806e-01, -2.3777e-01, -3.2020e-01, -2.4709e-01, -1.2870e-01,\n",
      "         -8.9443e-02, -5.7453e-02,  1.1159e-01, -2.7792e-01, -9.3618e-02,\n",
      "         -1.5319e-01, -2.9257e-01, -1.8642e-02,  1.3128e-01,  7.8973e-02,\n",
      "         -3.2642e-01, -3.7233e-01,  2.8628e-02, -2.2730e-01, -3.8180e-01,\n",
      "         -8.2675e-02,  1.7392e-03, -6.4208e-02, -3.8193e-01, -1.2378e-01,\n",
      "         -4.3761e-02, -9.5271e-02, -1.1687e-01, -1.5006e-01, -1.0758e-01,\n",
      "         -2.2021e-01, -2.5746e-01, -1.8985e-01, -1.2280e-01, -3.5361e-01,\n",
      "          9.9063e-02, -2.4335e-01,  8.7035e-02,  6.3126e-02, -1.7170e-01],\n",
      "        [ 4.2917e-02, -1.0670e-01, -3.2895e-02,  4.3327e-02, -4.9711e-02,\n",
      "         -4.0405e-02, -1.9928e-01,  3.9727e-02, -1.0311e-01, -2.3702e-03,\n",
      "          7.3359e-02,  3.5902e-02, -1.6325e-01, -3.9139e-02, -6.8519e-02,\n",
      "          4.3209e-02,  8.8264e-02, -1.0293e-01, -1.8351e-01,  1.0596e-01,\n",
      "         -6.7714e-02, -2.5517e-02, -1.3216e-01, -1.3756e-01, -8.3747e-02,\n",
      "          2.1015e-02,  6.9426e-02,  6.2955e-02, -1.6377e-01, -4.5054e-02,\n",
      "         -1.0543e-01,  5.2515e-02,  1.4724e-02,  2.0849e-02, -1.6668e-01,\n",
      "          1.2375e-02, -8.2261e-02, -1.2765e-01, -5.6200e-02, -5.2055e-02],\n",
      "        [-2.6391e-01, -5.6458e-02, -5.8719e-03, -9.9302e-02,  2.4426e-01,\n",
      "         -3.7563e-01,  4.3937e-03, -2.1999e-01,  7.7461e-01, -2.7265e-01,\n",
      "         -2.1395e+00,  1.0880e-01, -1.4735e+00,  1.1961e-01,  5.0738e-01,\n",
      "          5.7578e-02, -5.3587e-01, -1.2594e-01,  7.5461e-02, -2.7073e-02,\n",
      "         -8.5979e-01, -2.6804e-01, -1.3726e-02, -3.1700e-01,  4.1503e-01,\n",
      "         -1.3341e-01,  5.4595e-01,  4.3040e-02,  3.9239e-02, -1.9104e+00,\n",
      "         -7.5535e-01,  3.6453e-01, -5.8749e-02,  1.8706e-01, -8.0232e-02,\n",
      "         -3.9014e-01, -5.7789e-02,  3.2029e-01, -2.1851e+00, -2.8887e-01],\n",
      "        [ 5.9684e-02, -9.3348e-01, -1.3693e+00,  9.2575e-02,  1.5768e-01,\n",
      "         -1.4987e-01,  1.2455e-01, -6.0207e-02, -3.6269e-01,  4.1214e-02,\n",
      "          3.2684e-01,  3.5217e-01, -8.9617e-01, -1.7088e+00,  1.6160e-02,\n",
      "         -9.6187e-02, -1.0053e+00,  4.1103e-02, -1.3374e+00, -1.0251e+00,\n",
      "         -2.3368e-01, -3.1165e+00,  1.2942e-01, -1.5512e-02,  2.6696e-01,\n",
      "         -3.1198e-01, -2.8866e-01, -2.9221e-02, -6.6189e+00, -6.5678e-01,\n",
      "          1.6838e-01,  4.8180e-02,  4.1938e-01, -1.0418e-01, -3.2717e-02,\n",
      "         -1.3958e+01,  2.4804e-01,  1.5172e-01, -5.6419e+00,  9.2451e-01],\n",
      "        [ 7.6504e-01,  1.0769e-01,  9.8666e-02,  3.9189e-01,  2.6409e-01,\n",
      "          4.6070e-01,  4.9182e-01,  3.3049e-01,  5.9589e-01,  2.0851e-01,\n",
      "          1.1569e+00,  5.6468e-01, -3.9852e-01,  7.4344e-01,  2.2967e-01,\n",
      "          1.0756e+00,  2.0945e-02,  7.5966e-02,  9.8420e-02, -8.3650e-02,\n",
      "          8.6146e-01,  5.3520e-01,  1.0947e+00,  5.6912e-01,  9.4956e-01,\n",
      "          6.8776e-01,  1.0253e+00,  1.1041e-01,  1.4158e+00, -2.0620e-01,\n",
      "          1.8893e+00,  6.6607e-01,  1.0524e+00,  8.4575e-01,  3.1491e-01,\n",
      "          1.0475e-01,  1.7872e+00,  1.3523e-01,  6.6863e-01,  9.4144e-01],\n",
      "        [ 1.8725e-02,  4.0293e-03, -1.0921e-01,  8.8648e-02,  4.2153e-02,\n",
      "          9.7543e-02,  8.4843e-02,  1.0057e-01, -7.9814e-02, -3.0517e-02,\n",
      "         -1.3809e-01,  6.3404e-02,  4.5392e-02, -7.7956e-02, -4.0187e-03,\n",
      "         -5.3052e-02,  1.5190e-02, -5.0555e-02, -1.1694e-01, -9.7267e-02,\n",
      "         -1.2882e-01,  1.1802e-01, -1.5029e-01, -2.6507e-02, -1.9425e-01,\n",
      "          7.3988e-02, -1.2668e-01,  7.9633e-02, -1.3443e-01,  4.0766e-02,\n",
      "         -6.3132e-03,  7.1158e-02, -1.7542e-01, -1.3344e-01, -2.0029e-01,\n",
      "          1.5507e-01, -1.8840e-01, -3.9372e-03,  5.1056e-02, -1.5658e-01],\n",
      "        [-1.3015e-02, -1.0496e-01,  1.3850e-02, -1.8808e-01,  3.9742e-02,\n",
      "         -1.8762e-01, -4.8954e-02, -2.4834e-01, -1.3472e-02,  1.4816e-02,\n",
      "          6.9988e-02, -1.4722e-01,  1.2152e-02,  9.7614e-02, -2.1812e-01,\n",
      "          9.3031e-02, -1.7836e-01, -1.2815e-01, -1.2391e-01, -1.7737e-01,\n",
      "          1.8812e-02, -8.7277e-02, -2.8500e-02, -1.2459e-02,  5.9157e-02,\n",
      "          1.4738e-02, -9.6836e-02, -1.6889e-01, -4.8260e-02, -2.2017e-02,\n",
      "         -1.1679e-01, -9.7479e-03, -3.7388e-02,  2.9236e-02,  7.3320e-02,\n",
      "          4.5974e-02, -9.3590e-02,  2.6751e-02, -1.7063e-01, -5.8814e-02],\n",
      "        [ 1.9422e-01, -8.5499e-02, -6.1044e-01,  8.2460e-02, -8.1356e-01,\n",
      "         -6.1183e-02, -7.6107e-01, -4.7098e-01,  1.9364e-01,  8.0292e-02,\n",
      "          8.9688e-01,  2.4801e-01, -3.4256e-02, -1.2549e+00, -9.4297e-01,\n",
      "          2.6570e-01, -9.6886e-02,  1.3291e-01, -5.1748e-01, -2.5600e-01,\n",
      "         -4.0535e-01, -3.6734e+00, -1.6161e+00, -1.6685e-01,  6.0045e-01,\n",
      "         -1.0802e-01,  4.5444e-01, -1.5159e-02, -7.5296e+00, -1.4123e-02,\n",
      "         -1.7318e+00,  2.3336e-01,  7.9932e-03, -1.0426e+00, -1.9470e-02,\n",
      "         -1.2200e+01, -1.1867e+00, -9.3564e-01, -4.3478e+00,  6.7764e-01],\n",
      "        [-4.3405e-02, -7.2132e-01, -1.2905e+00, -2.9949e-02,  7.8955e-02,\n",
      "         -6.3896e-02,  3.5949e-02, -5.5889e-02, -2.7348e-01, -9.5866e-03,\n",
      "          3.6559e-01,  1.4313e-01, -5.0729e-01, -1.6700e+00, -5.6779e-03,\n",
      "         -3.6192e-01, -4.9403e-01,  8.7183e-02, -1.1176e+00, -6.1997e-01,\n",
      "         -4.9873e-01, -3.1951e+00, -8.3707e-02,  9.7521e-02,  2.9687e-01,\n",
      "         -1.0282e-01, -3.4814e-01,  9.7068e-02, -6.8155e+00, -3.1565e-01,\n",
      "          1.4094e-01,  1.6266e-01,  4.5807e-01, -1.5128e-01,  1.4396e-01,\n",
      "         -1.3799e+01,  3.9280e-01, -2.0588e-01, -5.7571e+00,  9.6725e-01],\n",
      "        [-1.5467e-01, -8.0110e-02,  1.1246e-01, -2.3773e-01, -6.6893e-02,\n",
      "         -1.9286e-01, -1.2761e-01,  1.7314e-03,  7.1611e-02, -1.4192e-01,\n",
      "          5.7245e-02, -1.9110e-01, -2.9161e-02, -1.6990e-01, -9.2707e-02,\n",
      "         -1.4895e-01,  1.2432e-02, -6.0271e-02, -6.8545e-02, -1.3581e-01,\n",
      "         -8.6668e-03, -5.0278e-03, -6.0291e-02, -2.2525e-01, -7.0925e-02,\n",
      "          5.2654e-02,  1.9679e-02, -1.4536e-01,  6.5670e-02,  5.2364e-02,\n",
      "          6.9192e-02, -1.9330e-01, -8.7926e-02, -1.5581e-01, -1.0834e-01,\n",
      "         -2.4123e-02, -8.8143e-02,  1.2493e-01, -4.8321e-02, -8.8152e-02],\n",
      "        [-5.3330e-02, -1.6708e-01, -3.1713e-02, -1.9961e-01, -1.1577e-01,\n",
      "          4.2189e-03, -4.1076e-02, -1.3453e-01, -2.3898e-01, -4.6045e-02,\n",
      "         -3.0771e-01,  2.1623e-02, -6.3459e-02, -3.8221e-01,  7.7681e-02,\n",
      "          2.2144e-02, -2.1748e-02, -3.1681e-02, -1.9762e-01,  4.6934e-03,\n",
      "         -3.3626e-01, -1.3991e-01,  1.0789e-01, -4.4016e-02,  1.4769e-01,\n",
      "         -3.5890e-01, -1.4628e-01,  3.6109e-02, -3.4224e-01, -7.0182e-02,\n",
      "         -3.8337e-01, -4.8012e-01, -2.5205e-01,  1.3016e-01, -2.1211e-01,\n",
      "         -4.7787e-01, -1.6781e-01,  1.3998e-01, -2.3097e-01, -3.3541e-01],\n",
      "        [-1.6610e-02,  4.3521e-02, -2.8314e-02, -1.8360e-02, -7.6363e-02,\n",
      "          7.3647e-02,  6.8905e-02,  8.0004e-02, -1.4930e-01, -1.4097e-01,\n",
      "         -4.0511e-02,  2.1858e-02, -1.2673e-01,  6.3743e-02, -1.1817e-01,\n",
      "          8.2178e-02, -1.5445e-01, -1.0948e-01,  8.7421e-02, -1.3126e-01,\n",
      "         -1.0678e-01,  6.9764e-02, -3.9531e-03, -8.1105e-03, -7.5758e-02,\n",
      "         -8.3791e-02, -9.0198e-02,  2.3547e-02,  1.1317e-01, -5.3708e-02,\n",
      "         -1.4911e-01, -1.3441e-01,  3.3770e-02,  1.0115e-01, -7.6754e-02,\n",
      "         -2.0192e-02, -1.1006e-01, -7.2752e-02,  8.3701e-03, -6.9898e-02]],\n",
      "       requires_grad=True)\n",
      "Parameter containing:\n",
      "tensor([-0.0462,  0.8093,  0.8096, -0.3967, -0.1490,  0.5370,  0.0854, -0.4207,\n",
      "        -0.3779, -0.2285,  0.1858,  1.0967,  1.0155, -0.0730, -0.1041,  0.7432,\n",
      "         1.0951, -0.0302, -0.2649, -0.1209], requires_grad=True)\n",
      "Parameter containing:\n",
      "tensor([[-2.1088e-01, -1.0540e-01, -1.7566e-01, -1.4376e-01,  1.0879e-01,\n",
      "         -1.8185e-01,  1.4168e-01,  6.5360e-02, -8.8240e-02, -1.8345e-01,\n",
      "         -2.9201e-01,  8.0310e-02, -3.3086e-01, -2.0983e-01, -1.7192e-01,\n",
      "          9.4059e-03, -3.7496e-02, -1.2149e-01, -5.2908e-02,  2.1504e-01],\n",
      "        [ 1.7597e-01,  3.6052e-01,  5.2602e-01,  2.0815e-02,  4.6875e+00,\n",
      "         -3.4450e-01, -2.1964e+00, -3.6397e-01, -3.1903e-01,  4.4248e-02,\n",
      "         -4.4472e-01,  1.3118e+00,  3.5194e-01,  9.3953e-02, -1.3409e-02,\n",
      "          4.3032e-01,  1.3974e+00, -2.1560e-01, -8.0667e-02,  7.0030e-02],\n",
      "        [-1.1817e-02,  4.2414e-01,  1.0525e-01,  7.8822e-02,  4.2200e+00,\n",
      "         -1.0677e-01, -2.1990e+00, -2.2027e-01, -2.0839e-01,  2.8673e-01,\n",
      "         -2.7708e-01,  1.2977e+00,  3.2184e-01,  1.6382e-02, -2.8669e-02,\n",
      "          2.1588e-01,  1.2736e+00, -1.3662e-01, -7.8993e-02, -9.8743e-02],\n",
      "        [-3.0131e-01, -1.6742e-01, -1.2766e-01,  1.0438e-01, -2.4307e-01,\n",
      "          8.4735e-02, -1.0110e-01, -1.7128e-03,  1.0948e-01,  5.1270e-02,\n",
      "          9.7212e-02, -1.2935e-01, -3.4619e-02,  1.0311e-01,  7.3279e-02,\n",
      "         -1.1764e-02, -2.5592e-01,  1.4042e-01, -5.8645e-02,  1.5230e-01],\n",
      "        [-1.6715e-01, -2.5330e-01, -1.4989e-01, -7.7760e-02, -1.4572e-01,\n",
      "         -2.2908e-01,  1.7940e-01, -2.1547e-01, -8.2625e-04,  9.6191e-02,\n",
      "         -2.7379e-01, -1.0415e-01, -1.2244e-01,  9.6255e-02, -1.2649e-01,\n",
      "         -9.9437e-02, -3.2148e-02, -1.1027e-01,  1.0725e-01,  1.9543e-01],\n",
      "        [ 3.2734e-01, -2.9949e-01, -4.7524e-01,  1.1325e-01, -3.8546e+00,\n",
      "          3.1934e-01,  4.2575e+00,  4.3847e-01,  2.5779e-01,  5.0701e-02,\n",
      "          3.9380e-01, -1.0993e+00,  9.2301e-01, -1.4754e-02, -6.5571e-02,\n",
      "         -5.2255e-01, -1.0229e+00, -8.9820e-02,  2.1575e-01, -2.1583e-01],\n",
      "        [-1.8398e-01,  4.4314e-01,  4.5386e-01, -9.1772e-02,  4.6677e+00,\n",
      "         -8.5624e-03, -2.2394e+00, -2.6465e-01, -4.1869e-01,  8.1354e-02,\n",
      "         -4.1305e-01,  1.4212e+00,  3.1376e-01, -2.0309e-02, -2.9584e-02,\n",
      "          2.2563e-01,  1.2654e+00,  1.3955e-01, -2.0424e-01,  9.1649e-02],\n",
      "        [ 1.4589e-01, -3.2817e-01, -3.1443e-01, -1.5373e-01, -3.8754e+00,\n",
      "          3.4039e-01,  3.8242e+00,  1.8309e-01,  1.4682e-01,  1.6153e-01,\n",
      "          5.1129e-01, -1.4132e+00,  8.4357e-01,  8.6161e-03,  2.3485e-01,\n",
      "         -1.4337e-01, -9.6369e-01,  2.0791e-01,  3.5058e-01, -1.5684e-01],\n",
      "        [-3.4721e-02,  4.0581e-01,  4.1488e-01,  1.7021e-02,  4.5294e+00,\n",
      "         -1.1395e-01, -2.2031e+00, -2.2148e-01, -7.3191e-02, -9.0495e-02,\n",
      "         -6.0234e-01,  1.1996e+00,  3.1591e-01, -1.2350e-01, -2.5584e-02,\n",
      "          1.9926e-01,  1.2037e+00, -4.5527e-02, -6.8249e-02,  2.0279e-01],\n",
      "        [-1.7141e+00,  7.7838e-01,  7.8286e-01,  7.3234e-02, -1.6566e+01,\n",
      "         -1.2040e+00,  1.5216e+00, -2.0908e-01, -1.5717e-01, -1.1378e-01,\n",
      "         -1.4652e+00,  1.8213e+00, -3.3267e-01, -7.1763e-02,  7.3431e-02,\n",
      "          7.5550e-01,  2.0221e+00,  1.3989e-02, -2.9268e-01,  2.1036e-01],\n",
      "        [ 1.7388e-01,  3.5398e-01,  2.4419e-01, -7.9314e-02,  4.4853e+00,\n",
      "         -3.4227e-01, -2.1838e+00, -3.3861e-01, -3.5616e-01,  1.6095e-01,\n",
      "         -4.7165e-01,  1.2731e+00,  2.8901e-01,  6.6556e-02, -1.8514e-01,\n",
      "          3.3742e-01,  1.1205e+00, -2.0896e-01, -1.7414e-01,  1.8783e-01],\n",
      "        [-5.6286e-02,  4.1865e-01,  4.4886e-01,  2.0468e-01,  4.0124e+00,\n",
      "         -7.1665e-02, -2.1203e+00, -3.7975e-01, -5.0366e-02, -2.5364e-02,\n",
      "         -3.3364e-01,  1.0210e+00,  2.8953e-01,  1.1632e-01, -7.0569e-02,\n",
      "          3.1846e-01,  1.1380e+00,  5.3806e-02, -4.4780e-01, -1.6072e-01],\n",
      "        [ 2.1122e-01,  3.5812e-01,  3.8997e-01,  2.8351e-01,  4.2099e+00,\n",
      "         -2.7654e-01, -2.1852e+00, -2.5476e-01, -4.5415e-01,  8.1614e-02,\n",
      "         -4.0871e-01,  1.2585e+00,  3.1375e-01, -1.2925e-01,  8.4529e-02,\n",
      "          1.9700e-01,  1.3546e+00, -6.7471e-02, -3.9069e-01, -9.9477e-02],\n",
      "        [-1.7789e-01, -2.5798e-02,  2.9108e-01, -9.4955e-02, -2.2161e-01,\n",
      "         -1.9451e-01, -7.7198e-02, -6.3906e-02, -1.1936e-01, -1.2815e-02,\n",
      "         -9.2955e-02, -2.1012e-01, -1.6643e-01,  1.2888e-01,  1.7833e-01,\n",
      "          1.3440e-01,  2.7071e-02, -6.4692e-02, -6.2059e-03, -1.2642e-01],\n",
      "        [ 2.8035e-01, -2.7130e-01, -2.8882e-01, -2.6435e-01, -3.9640e+00,\n",
      "          4.9541e-01,  4.2517e+00,  3.7698e-01,  2.5702e-01, -2.0559e-01,\n",
      "          6.9344e-01, -1.3568e+00,  9.6866e-01,  7.7875e-02, -7.5927e-02,\n",
      "         -3.6590e-01, -1.2028e+00, -4.2749e-02,  2.0447e-01, -9.0713e-02],\n",
      "        [-1.7137e-03, -3.4574e-01, -4.9395e-01, -3.8715e-02, -4.2408e+00,\n",
      "          2.7936e-01,  4.0910e+00,  6.9950e-01,  2.3675e-01,  1.4867e-01,\n",
      "          5.9510e-01, -1.1713e+00,  1.0195e+00, -1.9538e-01,  8.2790e-02,\n",
      "         -4.0769e-01, -1.1976e+00,  2.8837e-01,  3.9198e-01,  1.0348e-01],\n",
      "        [ 2.2317e+00,  2.0805e-01,  2.0027e-03,  4.3171e-02, -4.2049e+00,\n",
      "          9.9281e-01, -3.3873e+00,  9.9570e-02, -5.8759e-02,  4.9871e-02,\n",
      "          1.7850e+00,  5.8608e-02,  6.2755e-01,  4.9605e-02, -1.7984e-01,\n",
      "         -4.7839e-02, -1.3045e+01,  6.4405e-02, -1.1638e-01,  5.5771e-02],\n",
      "        [-1.8437e-01,  4.8381e-01,  4.3380e-01, -1.1746e-01,  4.3074e+00,\n",
      "         -3.3877e-01, -2.2166e+00, -2.2451e-02, -2.5937e-01, -8.5321e-02,\n",
      "         -2.6711e-01,  1.2374e+00,  3.1398e-01, -1.1723e-01, -8.3947e-02,\n",
      "          1.6639e-01,  1.2550e+00,  8.0384e-02, -3.4365e-01,  1.0931e-01],\n",
      "        [-1.3945e-01,  3.9100e-01,  3.0351e-01,  1.1061e-01,  4.4684e+00,\n",
      "         -1.2409e-02, -2.0193e+00, -2.5032e-01, -3.2877e-01,  1.5803e-01,\n",
      "         -5.5975e-01,  9.9736e-01,  3.4741e-01,  7.6126e-02, -9.1995e-02,\n",
      "          3.9592e-01,  1.2326e+00, -1.1473e-01, -4.5439e-01,  1.2452e-02],\n",
      "        [ 4.1260e-02, -4.6895e-01, -1.2379e-01, -3.1183e-01, -3.7114e+00,\n",
      "          4.8763e-01,  3.8699e+00,  6.9891e-01,  1.7342e-02, -2.3212e-01,\n",
      "          8.1470e-01, -1.0917e+00,  8.9373e-01, -1.8086e-01,  1.2888e-02,\n",
      "         -3.9916e-01, -9.0940e-01,  2.4635e-01,  2.6975e-01,  1.1060e-03]],\n",
      "       requires_grad=True)\n",
      "Parameter containing:\n",
      "tensor([-0.0811,  0.9324,  1.0549, -0.2368, -0.1837,  0.7378,  1.0876,  0.1522,\n",
      "         1.0646,  0.1684,  1.1296,  1.0789,  1.0534, -0.1251,  0.6597,  0.6386,\n",
      "         1.1771,  1.0823,  0.8041,  0.1082], requires_grad=True)\n",
      "Parameter containing:\n",
      "tensor([[-0.0255, -1.8259, -2.0329, -0.0366,  0.0347,  2.4862, -2.0401,  2.5036,\n",
      "         -1.8493, -2.0018, -2.0775, -1.6500, -1.8392,  0.1903,  2.5291,  2.8978,\n",
      "         -1.4811, -1.7272, -1.7681,  2.4170]], requires_grad=True)\n",
      "Parameter containing:\n",
      "tensor([0.1939], requires_grad=True)\n"
     ]
    }
   ],
   "source": [
    "for parameter in model.parameters():\n",
    "    print(parameter)"
   ]
  },
  {
   "cell_type": "markdown",
   "metadata": {
    "id": "tbEXUwJZNgX9"
   },
   "source": [
    "## Approximation with a shallow neural network"
   ]
  },
  {
   "cell_type": "markdown",
   "metadata": {
    "id": "iwoSChjz2fuE"
   },
   "source": [
    "### Question: code a one-hidden layer neural network with approximatively the same number of parameters than the multilayer neural network. What is the \"best\" architecture?"
   ]
  },
  {
   "cell_type": "code",
   "execution_count": 15,
   "metadata": {
    "colab": {
     "base_uri": "https://localhost:8080/",
     "height": 357
    },
    "executionInfo": {
     "elapsed": 76709,
     "status": "ok",
     "timestamp": 1602008927911,
     "user": {
      "displayName": "Lionel Fillatre",
      "photoUrl": "",
      "userId": "14463393848879581998"
     },
     "user_tz": -120
    },
    "id": "Qw_JwF-42set",
    "outputId": "fa04238c-304b-43bb-a1db-5a29b3412dba"
   },
   "outputs": [
    {
     "name": "stdout",
     "output_type": "stream",
     "text": [
      "999 89.91154479980469\n",
      "1999 65.68263244628906\n",
      "2999 55.85248947143555\n",
      "3999 48.98550033569336\n",
      "4999 42.870689392089844\n",
      "5999 35.199790954589844\n",
      "6999 31.576419830322266\n",
      "7999 27.381654739379883\n",
      "8999 44.5291748046875\n",
      "9999 22.901227951049805\n",
      "10999 21.261085510253906\n",
      "11999 19.82634735107422\n",
      "12999 21.904254913330078\n",
      "13999 18.138206481933594\n",
      "14999 16.591632843017578\n",
      "15999 16.2703800201416\n",
      "16999 15.096288681030273\n",
      "17999 38.03791809082031\n",
      "18999 15.974079132080078\n",
      "19999 13.957817077636719\n",
      "20999 12.872574806213379\n",
      "21999 12.356800079345703\n",
      "22999 11.88097858428955\n",
      "23999 11.427764892578125\n",
      "24999 11.17879867553711\n",
      "25999 11.54541015625\n",
      "26999 10.153220176696777\n",
      "27999 9.809215545654297\n",
      "28999 9.42617416381836\n",
      "29999 9.053194999694824\n",
      "30999 8.723050117492676\n",
      "31999 8.417707443237305\n",
      "32999 8.327995300292969\n",
      "33999 7.863206386566162\n",
      "34999 9.606839179992676\n",
      "35999 7.746954917907715\n",
      "36999 7.937745571136475\n",
      "37999 6.782647609710693\n",
      "38999 6.562563419342041\n",
      "39999 6.35268497467041\n",
      "40999 7.614356517791748\n",
      "41999 5.951874256134033\n",
      "42999 6.323446273803711\n",
      "43999 5.747206211090088\n",
      "44999 5.374108791351318\n",
      "45999 5.196127891540527\n",
      "46999 5.060535430908203\n",
      "47999 4.892676830291748\n",
      "48999 4.8531293869018555\n",
      "49999 4.807924747467041\n"
     ]
    }
   ],
   "source": [
    "H1 = 5000 # number of hidden neurons\n",
    "\n",
    "Niter = 50*10**3\n",
    "\n",
    "import numpy as np\n",
    "saveLoss = np.zeros(Niter)\n",
    "\n",
    "# Use the nn package to define our model and loss function.\n",
    "model = torch.nn.Sequential(\n",
    "    torch.nn.Linear(D_in, H1),\n",
    "    torch.nn.ReLU(),\n",
    "    torch.nn.Linear(H1, D_out)\n",
    ")\n",
    "loss_fn = torch.nn.MSELoss(reduction='mean')\n",
    "\n",
    "learning_rate = 1e-2\n",
    "optimizer = torch.optim.Adam(model.parameters(), lr=learning_rate)\n",
    "for t in range(Niter):\n",
    "    # Forward pass: compute predicted y by passing x to the model.\n",
    "    y_pred = model(x)\n",
    "\n",
    "    # Compute and print loss.\n",
    "    loss = loss_fn(y_pred, y)\n",
    "    saveLoss[t] = loss.detach().numpy()\n",
    "    if t % 1000 == 999:\n",
    "        print(t, loss.item())\n",
    "\n",
    "    # Before the backward pass, use the optimizer object to zero all of the\n",
    "    # gradients for the variables it will update (which are the learnable\n",
    "    # weights of the model). This is because by default, gradients are\n",
    "    # accumulated in buffers( i.e, not overwritten) whenever .backward()\n",
    "    # is called. Checkout docs of torch.autograd.backward for more details.\n",
    "    optimizer.zero_grad()\n",
    "\n",
    "    # Backward pass: compute gradient of the loss with respect to model\n",
    "    # parameters\n",
    "    loss.backward()\n",
    "\n",
    "    # Calling the step function on an Optimizer makes an update to its\n",
    "    # parameters\n",
    "    optimizer.step()"
   ]
  },
  {
   "cell_type": "code",
   "execution_count": 16,
   "metadata": {
    "colab": {
     "base_uri": "https://localhost:8080/",
     "height": 279
    },
    "executionInfo": {
     "elapsed": 76707,
     "status": "ok",
     "timestamp": 1602008927915,
     "user": {
      "displayName": "Lionel Fillatre",
      "photoUrl": "",
      "userId": "14463393848879581998"
     },
     "user_tz": -120
    },
    "id": "fY4nUy-13H1e",
    "outputId": "05fe6b70-ce10-4712-bd56-8337046d6255"
   },
   "outputs": [
    {
     "data": {
      "image/png": "[encoded data removed]",
      "text/plain": [
       "<Figure size 432x288 with 1 Axes>"
      ]
     },
     "metadata": {
      "needs_background": "light"
     },
     "output_type": "display_data"
    },
    {
     "name": "stdout",
     "output_type": "stream",
     "text": [
      "tensor(4.9363, grad_fn=<MseLossBackward>)\n"
     ]
    }
   ],
   "source": [
    "y_pred = model(x)\n",
    "fig, ax = plt.subplots()\n",
    "plt.plot(x.numpy(), y.numpy(),'r-',label='Quartic function')\n",
    "plt.plot(x.numpy(), y_pred.detach().numpy(),'bo-',label='Deep approximation')\n",
    "plt.xlabel('$x$')\n",
    "plt.ylabel('$f(x)$')\n",
    "ax.legend()\n",
    "plt.show()\n",
    "print(loss_fn(y_pred,y))"
   ]
  },
  {
   "cell_type": "code",
   "execution_count": 17,
   "metadata": {
    "colab": {
     "base_uri": "https://localhost:8080/",
     "height": 68
    },
    "executionInfo": {
     "elapsed": 76896,
     "status": "ok",
     "timestamp": 1602008928112,
     "user": {
      "displayName": "Lionel Fillatre",
      "photoUrl": "",
      "userId": "14463393848879581998"
     },
     "user_tz": -120
    },
    "id": "oaIZaCpV3Az9",
    "outputId": "5af27894-de63-41f5-bb89-4e3adb0700b9"
   },
   "outputs": [
    {
     "name": "stdout",
     "output_type": "stream",
     "text": [
      "\n",
      "Total number of parameters 15001\n",
      "\n"
     ]
    }
   ],
   "source": [
    "print(\"\\nTotal number of parameters {}\\n\".format(count_parameters(model)))"
   ]
  }
 ],
 "metadata": {
  "colab": {
   "collapsed_sections": [],
   "name": "DSTI_DL_Lab5_October2020_Solution.ipynb",
   "provenance": [],
   "toc_visible": true
  },
  "kernelspec": {
   "display_name": "Python 3",
   "language": "python",
   "name": "python3"
  },
  "language_info": {
   "codemirror_mode": {
    "name": "ipython",
    "version": 3
   },
   "file_extension": ".py",
   "mimetype": "text/x-python",
   "name": "python",
   "nbconvert_exporter": "python",
   "pygments_lexer": "ipython3",
   "version": "3.7.7"
  }
 },
 "nbformat": 4,
 "nbformat_minor": 1
}
